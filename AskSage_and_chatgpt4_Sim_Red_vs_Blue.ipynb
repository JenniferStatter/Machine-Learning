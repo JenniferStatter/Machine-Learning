{
  "nbformat": 4,
  "nbformat_minor": 0,
  "metadata": {
    "colab": {
      "provenance": [],
      "authorship_tag": "ABX9TyP6RuPrii8+dcJkf3Crf6VR",
      "include_colab_link": true
    },
    "kernelspec": {
      "name": "python3",
      "display_name": "Python 3"
    },
    "language_info": {
      "name": "python"
    }
  },
  "cells": [
    {
      "cell_type": "markdown",
      "metadata": {
        "id": "view-in-github",
        "colab_type": "text"
      },
      "source": [
        "<a href=\"https://colab.research.google.com/github/JenniferStatter/Machine-Learning/blob/main/AskSage_and_chatgpt4_Sim_Red_vs_Blue.ipynb\" target=\"_parent\"><img src=\"https://colab.research.google.com/assets/colab-badge.svg\" alt=\"Open In Colab\"/></a>"
      ]
    },
    {
      "cell_type": "code",
      "source": [
        "!pip install matplotlib seaborn pandas\n",
        "!pip install termcolor\n",
        "import socket\n",
        "import threading\n",
        "\n",
        "\n"
      ],
      "metadata": {
        "colab": {
          "base_uri": "https://localhost:8080/"
        },
        "id": "9uMKlodbKhZs",
        "outputId": "077e61d2-a891-468e-9c35-7818e0b2c9f7"
      },
      "execution_count": 6,
      "outputs": [
        {
          "output_type": "stream",
          "name": "stdout",
          "text": [
            "Looking in indexes: https://pypi.org/simple, https://us-python.pkg.dev/colab-wheels/public/simple/\n",
            "Requirement already satisfied: matplotlib in /usr/local/lib/python3.10/dist-packages (3.7.1)\n",
            "Requirement already satisfied: seaborn in /usr/local/lib/python3.10/dist-packages (0.12.2)\n",
            "Requirement already satisfied: pandas in /usr/local/lib/python3.10/dist-packages (1.5.3)\n",
            "Requirement already satisfied: contourpy>=1.0.1 in /usr/local/lib/python3.10/dist-packages (from matplotlib) (1.0.7)\n",
            "Requirement already satisfied: cycler>=0.10 in /usr/local/lib/python3.10/dist-packages (from matplotlib) (0.11.0)\n",
            "Requirement already satisfied: fonttools>=4.22.0 in /usr/local/lib/python3.10/dist-packages (from matplotlib) (4.39.3)\n",
            "Requirement already satisfied: kiwisolver>=1.0.1 in /usr/local/lib/python3.10/dist-packages (from matplotlib) (1.4.4)\n",
            "Requirement already satisfied: numpy>=1.20 in /usr/local/lib/python3.10/dist-packages (from matplotlib) (1.22.4)\n",
            "Requirement already satisfied: packaging>=20.0 in /usr/local/lib/python3.10/dist-packages (from matplotlib) (23.1)\n",
            "Requirement already satisfied: pillow>=6.2.0 in /usr/local/lib/python3.10/dist-packages (from matplotlib) (8.4.0)\n",
            "Requirement already satisfied: pyparsing>=2.3.1 in /usr/local/lib/python3.10/dist-packages (from matplotlib) (3.0.9)\n",
            "Requirement already satisfied: python-dateutil>=2.7 in /usr/local/lib/python3.10/dist-packages (from matplotlib) (2.8.2)\n",
            "Requirement already satisfied: pytz>=2020.1 in /usr/local/lib/python3.10/dist-packages (from pandas) (2022.7.1)\n",
            "Requirement already satisfied: six>=1.5 in /usr/local/lib/python3.10/dist-packages (from python-dateutil>=2.7->matplotlib) (1.16.0)\n",
            "Looking in indexes: https://pypi.org/simple, https://us-python.pkg.dev/colab-wheels/public/simple/\n",
            "Requirement already satisfied: termcolor in /usr/local/lib/python3.10/dist-packages (2.3.0)\n"
          ]
        }
      ]
    },
    {
      "cell_type": "code",
      "source": [
        "import random\n",
        "from IPython.display import display, HTML\n",
        "\n",
        "# Define the teams and their scores\n",
        "teams = {\"Red Team\": 0, \"Blue Team\": 0}\n",
        "\n",
        "# Define the attack and defense outcomes for each round\n",
        "data = [\n",
        "    (\"Phishing Attack\", \"Phishing Emails Detected\"),\n",
        "    (\"Vulnerability Exploit\", \"Intrusion Detected\"),\n",
        "    (\"Brute-Force Attack\", \"Strong Password Policies\"),\n",
        "    (\"USB Drop Attack\", \"Security Awareness Training\"),\n",
        "    (\"Man-in-the-Middle Attack\", \"Network Segmentation and Encryption\"),\n",
        "]"
      ],
      "metadata": {
        "id": "E3vL62cvnVjg"
      },
      "execution_count": 7,
      "outputs": []
    },
    {
      "cell_type": "code",
      "source": [
        "phishing_attack_code = \"\"\"\n",
        "# Define phishing email parameters\n",
        "target_email = 'victim@example.com'\n",
        "subject = 'Urgent Action Needed'\n",
        "body = 'Dear user, click on the following link to update your account.'\n",
        "malicious_link = 'http://phishing-website.com'\n",
        "\n",
        "# Send phishing email\n",
        "send_email(to=target_email, subject=subject, body=body + malicious_link)\n",
        "\"\"\"\n",
        "\n",
        "vulnerability_exploit_code = \"\"\"\n",
        "# Identify target\n",
        "target = '192.168.1.5'\n",
        "\n",
        "# Identify vulnerability\n",
        "vulnerability = 'CVE-2021-1234'\n",
        "\n",
        "# Exploit vulnerability\n",
        "exploit(target, vulnerability)\n",
        "\"\"\"\n",
        "\n",
        "brute_force_attack_code = \"\"\"\n",
        "# Identify target\n",
        "target = '192.168.1.5'\n",
        "\n",
        "# Set password list\n",
        "password_list = 'passwords.txt'\n",
        "\n",
        "# Launch brute force attack\n",
        "brute_force(target, password_list)\n",
        "\"\"\"\n",
        "\n",
        "usb_drop_attack_code = \"\"\"\n",
        "# Prepare USB with malicious payload\n",
        "prepare_usb('malicious_payload.exe')\n",
        "\n",
        "# Physically drop USB at target location\n",
        "drop_usb('target_location')\n",
        "\"\"\"\n",
        "\n",
        "mitm_attack_code = \"\"\"\n",
        "# Identify target network\n",
        "network = '192.168.1.0/24'\n",
        "\n",
        "# Launch MITM attack\n",
        "mitm_attack(network)\n",
        "\"\"\"\n",
        "\n",
        "# String representation of code for each defense\n",
        "phishing_defense_code = \"\"\"\n",
        "# Monitor incoming emails for phishing indicators\n",
        "monitor_emails('phishing_indicators.txt')\n",
        "\"\"\"\n",
        "\n",
        "intrusion_detection_code = \"\"\"\n",
        "# Monitor network for signs of intrusion\n",
        "monitor_network('intrusion_indicators.txt')\n",
        "\"\"\"\n",
        "\n",
        "password_policy_code = \"\"\"\n",
        "# Set strong password policy\n",
        "set_password_policy('strong_policy_settings.txt')\n",
        "\"\"\"\n",
        "\n",
        "security_awareness_training_code = \"\"\"\n",
        "# Provide security awareness training\n",
        "provide_training('security_awareness.pptx')\n",
        "\"\"\"\n",
        "\n",
        "network_segmentation_encryption_code = \"\"\"\n",
        "# Implement network segmentation and encryption\n",
        "implement_network_security('network_security_plan.txt')\n",
        "\"\"\"\n",
        "\n",
        "# Map each attack/defense to its corresponding code\n",
        "attack_codes = {\n",
        "    \"Phishing Attack\": phishing_attack_code,\n",
        "    \"Vulnerability Exploit\": vulnerability_exploit_code,\n",
        "    \"Brute-Force Attack\": brute_force_attack_code,\n",
        "    \"USB Drop Attack\": usb_drop_attack_code,\n",
        "    \"Man-in-the-Middle Attack\": mitm_attack_code,\n",
        "}\n",
        "\n",
        "defense_codes = {\n",
        "    \"Phishing Emails Detected\": phishing_defense_code,\n",
        "    \"Intrusion Detected\": intrusion_detection_code,\n",
        "    \"Strong Password Policies\": password_policy_code,\n",
        "    \"Security Awareness Training\": security_awareness_training_code,\n",
        "    \"Network Segmentation and Encryption\": network_segmentation_encryption_code,\n",
        "}\n",
        "\n",
        "# Iterate over each item in the list and print the title and corresponding code\n",
        "for attack, defense in data:\n",
        "    print(f\"{attack}:\\n{attack_codes[attack]}\\n\")\n",
        "    print(f\"{defense}:\\n{defense_codes[defense]}\\n\")"
      ],
      "metadata": {
        "colab": {
          "base_uri": "https://localhost:8080/"
        },
        "id": "W309B8rZqWsi",
        "outputId": "1499829f-1ce6-498e-ed4b-6fba25223437"
      },
      "execution_count": 12,
      "outputs": [
        {
          "output_type": "stream",
          "name": "stdout",
          "text": [
            "Phishing Attack:\n",
            "\n",
            "# Define phishing email parameters\n",
            "target_email = 'victim@example.com'\n",
            "subject = 'Urgent Action Needed'\n",
            "body = 'Dear user, click on the following link to update your account.'\n",
            "malicious_link = 'http://phishing-website.com'\n",
            "\n",
            "# Send phishing email\n",
            "send_email(to=target_email, subject=subject, body=body + malicious_link)\n",
            "\n",
            "\n",
            "Phishing Emails Detected:\n",
            "\n",
            "# Monitor incoming emails for phishing indicators\n",
            "monitor_emails('phishing_indicators.txt')\n",
            "\n",
            "\n",
            "Vulnerability Exploit:\n",
            "\n",
            "# Identify target\n",
            "target = '192.168.1.5'\n",
            "\n",
            "# Identify vulnerability\n",
            "vulnerability = 'CVE-2021-1234'\n",
            "\n",
            "# Exploit vulnerability\n",
            "exploit(target, vulnerability)\n",
            "\n",
            "\n",
            "Intrusion Detected:\n",
            "\n",
            "# Monitor network for signs of intrusion\n",
            "monitor_network('intrusion_indicators.txt')\n",
            "\n",
            "\n",
            "Brute-Force Attack:\n",
            "\n",
            "# Identify target\n",
            "target = '192.168.1.5'\n",
            "\n",
            "# Set password list\n",
            "password_list = 'passwords.txt'\n",
            "\n",
            "# Launch brute force attack\n",
            "brute_force(target, password_list)\n",
            "\n",
            "\n",
            "Strong Password Policies:\n",
            "\n",
            "# Set strong password policy\n",
            "set_password_policy('strong_policy_settings.txt')\n",
            "\n",
            "\n",
            "USB Drop Attack:\n",
            "\n",
            "# Prepare USB with malicious payload\n",
            "prepare_usb('malicious_payload.exe')\n",
            "\n",
            "# Physically drop USB at target location\n",
            "drop_usb('target_location')\n",
            "\n",
            "\n",
            "Security Awareness Training:\n",
            "\n",
            "# Provide security awareness training\n",
            "provide_training('security_awareness.pptx')\n",
            "\n",
            "\n",
            "Man-in-the-Middle Attack:\n",
            "\n",
            "# Identify target network\n",
            "network = '192.168.1.0/24'\n",
            "\n",
            "# Launch MITM attack\n",
            "mitm_attack(network)\n",
            "\n",
            "\n",
            "Network Segmentation and Encryption:\n",
            "\n",
            "# Implement network segmentation and encryption\n",
            "implement_network_security('network_security_plan.txt')\n",
            "\n",
            "\n"
          ]
        }
      ]
    },
    {
      "cell_type": "code",
      "source": [
        "import random\n",
        "from IPython.display import display, HTML\n",
        "\n",
        "# Define the teams and their scores\n",
        "teams = {\"Red Team\": 0, \"Blue Team\": 0}\n",
        "\n",
        "# Define the attack and defense outcomes for each round\n",
        "data = [\n",
        "    (\"Phishing Attack\", \"Phishing Emails Detected\"),\n",
        "    (\"Vulnerability Exploit\", \"Intrusion Detected\"),\n",
        "    (\"Brute-Force Attack\", \"Strong Password Policies\"),\n",
        "    (\"USB Drop Attack\", \"Security Awareness Training\"),\n",
        "    (\"Man-in-the-Middle Attack\", \"Network Segmentation and Encryption\"),\n",
        "]\n",
        "\n",
        "# Simulate the game rounds\n",
        "for i, (attack, defense) in enumerate(data, start=1):\n",
        "    display(HTML(f\"<h2>Round {i}:</h2>\"))\n",
        "    display(HTML(f'<p style=\"color:red;\">Red Team launches {attack}</p>'))\n",
        "    display(HTML(f'<pre style=\"color:red;\">{attack_codes[attack]}</pre>'))\n",
        "\n",
        "    success = random.choice([True, False])\n",
        "    if success:\n",
        "        display(HTML(f'<p style=\"color:red;\">Red Team successfully performs the {attack}</p>'))\n",
        "        teams[\"Red Team\"] += 1\n",
        "    else:\n",
        "        display(HTML(f'<p style=\"color:blue;\">Blue Team successfully defends with {defense}</p>'))\n",
        "        display(HTML(f'<pre style=\"color:blue;\">{defense_codes[defense]}</pre>'))\n",
        "        teams[\"Blue Team\"] += 1\n",
        "\n",
        "# Announce the winner\n",
        "winner = max(teams, key=teams.get)\n",
        "display(HTML(f\"<h2>The winner is {winner} with {teams[winner]} points</h2>\"))\n"
      ],
      "metadata": {
        "colab": {
          "base_uri": "https://localhost:8080/",
          "height": 1000
        },
        "id": "NnbMzXHFpieB",
        "outputId": "08f520cb-9e5d-453a-8596-f5583faf5efe"
      },
      "execution_count": 20,
      "outputs": [
        {
          "output_type": "display_data",
          "data": {
            "text/plain": [
              "<IPython.core.display.HTML object>"
            ],
            "text/html": [
              "<h2>Round 1:</h2>"
            ]
          },
          "metadata": {}
        },
        {
          "output_type": "display_data",
          "data": {
            "text/plain": [
              "<IPython.core.display.HTML object>"
            ],
            "text/html": [
              "<p style=\"color:red;\">Red Team launches Phishing Attack</p>"
            ]
          },
          "metadata": {}
        },
        {
          "output_type": "display_data",
          "data": {
            "text/plain": [
              "<IPython.core.display.HTML object>"
            ],
            "text/html": [
              "<pre style=\"color:red;\">\n",
              "# Define phishing email parameters\n",
              "target_email = 'victim@example.com'\n",
              "subject = 'Urgent Action Needed'\n",
              "body = 'Dear user, click on the following link to update your account.'\n",
              "malicious_link = 'http://phishing-website.com'\n",
              "\n",
              "# Send phishing email\n",
              "send_email(to=target_email, subject=subject, body=body + malicious_link)\n",
              "</pre>"
            ]
          },
          "metadata": {}
        },
        {
          "output_type": "display_data",
          "data": {
            "text/plain": [
              "<IPython.core.display.HTML object>"
            ],
            "text/html": [
              "<p style=\"color:red;\">Red Team successfully performs the Phishing Attack</p>"
            ]
          },
          "metadata": {}
        },
        {
          "output_type": "display_data",
          "data": {
            "text/plain": [
              "<IPython.core.display.HTML object>"
            ],
            "text/html": [
              "<h2>Round 2:</h2>"
            ]
          },
          "metadata": {}
        },
        {
          "output_type": "display_data",
          "data": {
            "text/plain": [
              "<IPython.core.display.HTML object>"
            ],
            "text/html": [
              "<p style=\"color:red;\">Red Team launches Vulnerability Exploit</p>"
            ]
          },
          "metadata": {}
        },
        {
          "output_type": "display_data",
          "data": {
            "text/plain": [
              "<IPython.core.display.HTML object>"
            ],
            "text/html": [
              "<pre style=\"color:red;\">\n",
              "# Identify target\n",
              "target = '192.168.1.5'\n",
              "\n",
              "# Identify vulnerability\n",
              "vulnerability = 'CVE-2021-1234'\n",
              "\n",
              "# Exploit vulnerability\n",
              "exploit(target, vulnerability)\n",
              "</pre>"
            ]
          },
          "metadata": {}
        },
        {
          "output_type": "display_data",
          "data": {
            "text/plain": [
              "<IPython.core.display.HTML object>"
            ],
            "text/html": [
              "<p style=\"color:blue;\">Blue Team successfully defends with Intrusion Detected</p>"
            ]
          },
          "metadata": {}
        },
        {
          "output_type": "display_data",
          "data": {
            "text/plain": [
              "<IPython.core.display.HTML object>"
            ],
            "text/html": [
              "<pre style=\"color:blue;\">\n",
              "# Monitor network for signs of intrusion\n",
              "monitor_network('intrusion_indicators.txt')\n",
              "</pre>"
            ]
          },
          "metadata": {}
        },
        {
          "output_type": "display_data",
          "data": {
            "text/plain": [
              "<IPython.core.display.HTML object>"
            ],
            "text/html": [
              "<h2>Round 3:</h2>"
            ]
          },
          "metadata": {}
        },
        {
          "output_type": "display_data",
          "data": {
            "text/plain": [
              "<IPython.core.display.HTML object>"
            ],
            "text/html": [
              "<p style=\"color:red;\">Red Team launches Brute-Force Attack</p>"
            ]
          },
          "metadata": {}
        },
        {
          "output_type": "display_data",
          "data": {
            "text/plain": [
              "<IPython.core.display.HTML object>"
            ],
            "text/html": [
              "<pre style=\"color:red;\">\n",
              "# Identify target\n",
              "target = '192.168.1.5'\n",
              "\n",
              "# Set password list\n",
              "password_list = 'passwords.txt'\n",
              "\n",
              "# Launch brute force attack\n",
              "brute_force(target, password_list)\n",
              "</pre>"
            ]
          },
          "metadata": {}
        },
        {
          "output_type": "display_data",
          "data": {
            "text/plain": [
              "<IPython.core.display.HTML object>"
            ],
            "text/html": [
              "<p style=\"color:red;\">Red Team successfully performs the Brute-Force Attack</p>"
            ]
          },
          "metadata": {}
        },
        {
          "output_type": "display_data",
          "data": {
            "text/plain": [
              "<IPython.core.display.HTML object>"
            ],
            "text/html": [
              "<h2>Round 4:</h2>"
            ]
          },
          "metadata": {}
        },
        {
          "output_type": "display_data",
          "data": {
            "text/plain": [
              "<IPython.core.display.HTML object>"
            ],
            "text/html": [
              "<p style=\"color:red;\">Red Team launches USB Drop Attack</p>"
            ]
          },
          "metadata": {}
        },
        {
          "output_type": "display_data",
          "data": {
            "text/plain": [
              "<IPython.core.display.HTML object>"
            ],
            "text/html": [
              "<pre style=\"color:red;\">\n",
              "# Prepare USB with malicious payload\n",
              "prepare_usb('malicious_payload.exe')\n",
              "\n",
              "# Physically drop USB at target location\n",
              "drop_usb('target_location')\n",
              "</pre>"
            ]
          },
          "metadata": {}
        },
        {
          "output_type": "display_data",
          "data": {
            "text/plain": [
              "<IPython.core.display.HTML object>"
            ],
            "text/html": [
              "<p style=\"color:blue;\">Blue Team successfully defends with Security Awareness Training</p>"
            ]
          },
          "metadata": {}
        },
        {
          "output_type": "display_data",
          "data": {
            "text/plain": [
              "<IPython.core.display.HTML object>"
            ],
            "text/html": [
              "<pre style=\"color:blue;\">\n",
              "# Provide security awareness training\n",
              "provide_training('security_awareness.pptx')\n",
              "</pre>"
            ]
          },
          "metadata": {}
        },
        {
          "output_type": "display_data",
          "data": {
            "text/plain": [
              "<IPython.core.display.HTML object>"
            ],
            "text/html": [
              "<h2>Round 5:</h2>"
            ]
          },
          "metadata": {}
        },
        {
          "output_type": "display_data",
          "data": {
            "text/plain": [
              "<IPython.core.display.HTML object>"
            ],
            "text/html": [
              "<p style=\"color:red;\">Red Team launches Man-in-the-Middle Attack</p>"
            ]
          },
          "metadata": {}
        },
        {
          "output_type": "display_data",
          "data": {
            "text/plain": [
              "<IPython.core.display.HTML object>"
            ],
            "text/html": [
              "<pre style=\"color:red;\">\n",
              "# Identify target network\n",
              "network = '192.168.1.0/24'\n",
              "\n",
              "# Launch MITM attack\n",
              "mitm_attack(network)\n",
              "</pre>"
            ]
          },
          "metadata": {}
        },
        {
          "output_type": "display_data",
          "data": {
            "text/plain": [
              "<IPython.core.display.HTML object>"
            ],
            "text/html": [
              "<p style=\"color:red;\">Red Team successfully performs the Man-in-the-Middle Attack</p>"
            ]
          },
          "metadata": {}
        },
        {
          "output_type": "display_data",
          "data": {
            "text/plain": [
              "<IPython.core.display.HTML object>"
            ],
            "text/html": [
              "<h2>The winner is Red Team with 3 points</h2>"
            ]
          },
          "metadata": {}
        }
      ]
    }
  ]
}