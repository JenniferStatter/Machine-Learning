{
 "cells": [
  {
   "cell_type": "markdown",
   "id": "05f9ec6e-7d5e-474f-be56-88e440d18867",
   "metadata": {},
   "source": [
    "#### Library"
   ]
  },
  {
   "cell_type": "code",
   "execution_count": 1,
   "id": "07a4aed9-cf27-4f38-aa66-9e7e19e09fb6",
   "metadata": {},
   "outputs": [
    {
     "data": {
      "application/javascript": [
       "\n",
       "            setTimeout(function() {\n",
       "                var nbb_cell_id = 1;\n",
       "                var nbb_unformatted_code = \"# To help with reading and manipulating data\\nimport pandas as pd\\nimport numpy as np\\n\\n# To help with data visualization\\n%matplotlib inline\\nimport matplotlib.pyplot as plt\\nimport seaborn as sns\\n\\n# To be used for missing value imputation\\nfrom sklearn.impute import SimpleImputer\\n\\n# To help with model building\\nfrom sklearn.linear_model import LogisticRegression\\nfrom sklearn.tree import DecisionTreeClassifier\\nfrom sklearn.ensemble import (\\n    AdaBoostClassifier,\\n    GradientBoostingClassifier,\\n    RandomForestClassifier,\\n    BaggingClassifier,\\n)\\nfrom xgboost import XGBClassifier\\n\\n# To get different metric scores, and split data\\nfrom sklearn import metrics\\nfrom sklearn.model_selection import train_test_split, StratifiedKFold, cross_val_score\\nfrom sklearn.metrics import (\\n    f1_score,\\n    accuracy_score,\\n    recall_score,\\n    precision_score,\\n    confusion_matrix,\\n    roc_auc_score,\\n    plot_confusion_matrix,\\n)\\n\\n# To be used for data scaling and one hot encoding\\nfrom sklearn.preprocessing import StandardScaler, MinMaxScaler, OneHotEncoder\\n\\n\\n# To be used for tuning the model\\nfrom sklearn.model_selection import GridSearchCV, RandomizedSearchCV\\n\\n# To be used for creating pipelines and personalizing them\\nfrom sklearn.pipeline import Pipeline\\nfrom sklearn.compose import ColumnTransformer\\nfrom sklearn.preprocessing import FunctionTransformer\\n\\n#imblearn\\n\\n\\n# To define maximum number of columns to be displayed in a dataframe\\npd.set_option(\\\"display.max_columns\\\", None)\\n\\n# To supress scientific notations for a dataframe\\npd.set_option(\\\"display.float_format\\\", lambda x: \\\"%.3f\\\" % x)\\n\\n# To supress warnings\\nimport warnings\\n\\nwarnings.filterwarnings(\\\"ignore\\\")\\n\\n# This will help in making the Python code more structured automatically (good coding practice)\\n%load_ext nb_black\\n\\n\\n#for Sampling\\nimport imblearn\";\n",
       "                var nbb_formatted_code = \"# To help with reading and manipulating data\\nimport pandas as pd\\nimport numpy as np\\n\\n# To help with data visualization\\n%matplotlib inline\\nimport matplotlib.pyplot as plt\\nimport seaborn as sns\\n\\n# To be used for missing value imputation\\nfrom sklearn.impute import SimpleImputer\\n\\n# To help with model building\\nfrom sklearn.linear_model import LogisticRegression\\nfrom sklearn.tree import DecisionTreeClassifier\\nfrom sklearn.ensemble import (\\n    AdaBoostClassifier,\\n    GradientBoostingClassifier,\\n    RandomForestClassifier,\\n    BaggingClassifier,\\n)\\nfrom xgboost import XGBClassifier\\n\\n# To get different metric scores, and split data\\nfrom sklearn import metrics\\nfrom sklearn.model_selection import train_test_split, StratifiedKFold, cross_val_score\\nfrom sklearn.metrics import (\\n    f1_score,\\n    accuracy_score,\\n    recall_score,\\n    precision_score,\\n    confusion_matrix,\\n    roc_auc_score,\\n    plot_confusion_matrix,\\n)\\n\\n# To be used for data scaling and one hot encoding\\nfrom sklearn.preprocessing import StandardScaler, MinMaxScaler, OneHotEncoder\\n\\n\\n# To be used for tuning the model\\nfrom sklearn.model_selection import GridSearchCV, RandomizedSearchCV\\n\\n# To be used for creating pipelines and personalizing them\\nfrom sklearn.pipeline import Pipeline\\nfrom sklearn.compose import ColumnTransformer\\nfrom sklearn.preprocessing import FunctionTransformer\\n\\n# imblearn\\n\\n\\n# To define maximum number of columns to be displayed in a dataframe\\npd.set_option(\\\"display.max_columns\\\", None)\\n\\n# To supress scientific notations for a dataframe\\npd.set_option(\\\"display.float_format\\\", lambda x: \\\"%.3f\\\" % x)\\n\\n# To supress warnings\\nimport warnings\\n\\nwarnings.filterwarnings(\\\"ignore\\\")\\n\\n# This will help in making the Python code more structured automatically (good coding practice)\\n%load_ext nb_black\\n\\n\\n# for Sampling\\nimport imblearn\";\n",
       "                var nbb_cells = Jupyter.notebook.get_cells();\n",
       "                for (var i = 0; i < nbb_cells.length; ++i) {\n",
       "                    if (nbb_cells[i].input_prompt_number == nbb_cell_id) {\n",
       "                        if (nbb_cells[i].get_text() == nbb_unformatted_code) {\n",
       "                             nbb_cells[i].set_text(nbb_formatted_code);\n",
       "                        }\n",
       "                        break;\n",
       "                    }\n",
       "                }\n",
       "            }, 500);\n",
       "            "
      ],
      "text/plain": [
       "<IPython.core.display.Javascript object>"
      ]
     },
     "metadata": {},
     "output_type": "display_data"
    }
   ],
   "source": [
    "# To help with reading and manipulating data\n",
    "import pandas as pd\n",
    "import numpy as np\n",
    "\n",
    "# To help with data visualization\n",
    "%matplotlib inline\n",
    "import matplotlib.pyplot as plt\n",
    "import seaborn as sns\n",
    "\n",
    "# To be used for missing value imputation\n",
    "from sklearn.impute import SimpleImputer\n",
    "\n",
    "# To help with model building\n",
    "from sklearn.linear_model import LogisticRegression\n",
    "from sklearn.tree import DecisionTreeClassifier\n",
    "from sklearn.ensemble import (\n",
    "    AdaBoostClassifier,\n",
    "    GradientBoostingClassifier,\n",
    "    RandomForestClassifier,\n",
    "    BaggingClassifier,\n",
    ")\n",
    "from xgboost import XGBClassifier\n",
    "\n",
    "# To get different metric scores, and split data\n",
    "from sklearn import metrics\n",
    "from sklearn.model_selection import train_test_split, StratifiedKFold, cross_val_score\n",
    "from sklearn.metrics import (\n",
    "    f1_score,\n",
    "    accuracy_score,\n",
    "    recall_score,\n",
    "    precision_score,\n",
    "    confusion_matrix,\n",
    "    roc_auc_score,\n",
    "    plot_confusion_matrix,\n",
    ")\n",
    "\n",
    "# To be used for data scaling and one hot encoding\n",
    "from sklearn.preprocessing import StandardScaler, MinMaxScaler, OneHotEncoder\n",
    "\n",
    "\n",
    "# To be used for tuning the model\n",
    "from sklearn.model_selection import GridSearchCV, RandomizedSearchCV\n",
    "\n",
    "# To be used for creating pipelines and personalizing them\n",
    "from sklearn.pipeline import Pipeline\n",
    "from sklearn.compose import ColumnTransformer\n",
    "from sklearn.preprocessing import FunctionTransformer\n",
    "\n",
    "# imblearn\n",
    "\n",
    "\n",
    "# To define maximum number of columns to be displayed in a dataframe\n",
    "pd.set_option(\"display.max_columns\", None)\n",
    "\n",
    "# To supress scientific notations for a dataframe\n",
    "pd.set_option(\"display.float_format\", lambda x: \"%.3f\" % x)\n",
    "\n",
    "# To supress warnings\n",
    "import warnings\n",
    "\n",
    "warnings.filterwarnings(\"ignore\")\n",
    "\n",
    "# This will help in making the Python code more structured automatically (good coding practice)\n",
    "%load_ext nb_black\n",
    "\n",
    "\n",
    "# for Sampling\n",
    "import imblearn"
   ]
  },
  {
   "cell_type": "code",
   "execution_count": 2,
   "id": "e5654f67-5020-4293-824a-ce395591a21d",
   "metadata": {},
   "outputs": [
    {
     "data": {
      "application/javascript": [
       "\n",
       "            setTimeout(function() {\n",
       "                var nbb_cell_id = 2;\n",
       "                var nbb_unformatted_code = \"from sklearn.ensemble import BaggingClassifier\\nfrom sklearn.ensemble import RandomForestClassifier\\nfrom sklearn.ensemble import AdaBoostClassifier, GradientBoostingClassifier\\nfrom xgboost import XGBClassifier\\n\\nfrom sklearn.ensemble import BaggingRegressor,RandomForestRegressor, GradientBoostingRegressor, AdaBoostRegressor, StackingRegressor\\nfrom xgboost import XGBRegressor\\nfrom sklearn.ensemble import StackingClassifier\";\n",
       "                var nbb_formatted_code = \"from sklearn.ensemble import BaggingClassifier\\nfrom sklearn.ensemble import RandomForestClassifier\\nfrom sklearn.ensemble import AdaBoostClassifier, GradientBoostingClassifier\\nfrom xgboost import XGBClassifier\\n\\nfrom sklearn.ensemble import (\\n    BaggingRegressor,\\n    RandomForestRegressor,\\n    GradientBoostingRegressor,\\n    AdaBoostRegressor,\\n    StackingRegressor,\\n)\\nfrom xgboost import XGBRegressor\\nfrom sklearn.ensemble import StackingClassifier\";\n",
       "                var nbb_cells = Jupyter.notebook.get_cells();\n",
       "                for (var i = 0; i < nbb_cells.length; ++i) {\n",
       "                    if (nbb_cells[i].input_prompt_number == nbb_cell_id) {\n",
       "                        if (nbb_cells[i].get_text() == nbb_unformatted_code) {\n",
       "                             nbb_cells[i].set_text(nbb_formatted_code);\n",
       "                        }\n",
       "                        break;\n",
       "                    }\n",
       "                }\n",
       "            }, 500);\n",
       "            "
      ],
      "text/plain": [
       "<IPython.core.display.Javascript object>"
      ]
     },
     "metadata": {},
     "output_type": "display_data"
    }
   ],
   "source": [
    "from sklearn.ensemble import BaggingClassifier\n",
    "from sklearn.ensemble import RandomForestClassifier\n",
    "from sklearn.ensemble import AdaBoostClassifier, GradientBoostingClassifier\n",
    "from xgboost import XGBClassifier\n",
    "\n",
    "from sklearn.ensemble import (\n",
    "    BaggingRegressor,\n",
    "    RandomForestRegressor,\n",
    "    GradientBoostingRegressor,\n",
    "    AdaBoostRegressor,\n",
    "    StackingRegressor,\n",
    ")\n",
    "from xgboost import XGBRegressor\n",
    "from sklearn.ensemble import StackingClassifier"
   ]
  },
  {
   "cell_type": "code",
   "execution_count": 3,
   "id": "fde49f7b-6644-475c-a357-fbc9472e4382",
   "metadata": {},
   "outputs": [
    {
     "data": {
      "application/javascript": [
       "\n",
       "            setTimeout(function() {\n",
       "                var nbb_cell_id = 3;\n",
       "                var nbb_unformatted_code = \"# Loading the dataset - sheet_name parameter is used if there are multiple tabs in the excel file.\\ncredit = pd.read_csv(\\\"BankChurners.csv\\\")\";\n",
       "                var nbb_formatted_code = \"# Loading the dataset - sheet_name parameter is used if there are multiple tabs in the excel file.\\ncredit = pd.read_csv(\\\"BankChurners.csv\\\")\";\n",
       "                var nbb_cells = Jupyter.notebook.get_cells();\n",
       "                for (var i = 0; i < nbb_cells.length; ++i) {\n",
       "                    if (nbb_cells[i].input_prompt_number == nbb_cell_id) {\n",
       "                        if (nbb_cells[i].get_text() == nbb_unformatted_code) {\n",
       "                             nbb_cells[i].set_text(nbb_formatted_code);\n",
       "                        }\n",
       "                        break;\n",
       "                    }\n",
       "                }\n",
       "            }, 500);\n",
       "            "
      ],
      "text/plain": [
       "<IPython.core.display.Javascript object>"
      ]
     },
     "metadata": {},
     "output_type": "display_data"
    }
   ],
   "source": [
    "# Loading the dataset - sheet_name parameter is used if there are multiple tabs in the excel file.\n",
    "credit = pd.read_csv(\"BankChurners.csv\")"
   ]
  },
  {
   "cell_type": "code",
   "execution_count": 4,
   "id": "93eda333-56fe-45b3-b05a-6a0261718e25",
   "metadata": {},
   "outputs": [
    {
     "data": {
      "application/javascript": [
       "\n",
       "            setTimeout(function() {\n",
       "                var nbb_cell_id = 4;\n",
       "                var nbb_unformatted_code = \"data =credit.copy()\";\n",
       "                var nbb_formatted_code = \"data = credit.copy()\";\n",
       "                var nbb_cells = Jupyter.notebook.get_cells();\n",
       "                for (var i = 0; i < nbb_cells.length; ++i) {\n",
       "                    if (nbb_cells[i].input_prompt_number == nbb_cell_id) {\n",
       "                        if (nbb_cells[i].get_text() == nbb_unformatted_code) {\n",
       "                             nbb_cells[i].set_text(nbb_formatted_code);\n",
       "                        }\n",
       "                        break;\n",
       "                    }\n",
       "                }\n",
       "            }, 500);\n",
       "            "
      ],
      "text/plain": [
       "<IPython.core.display.Javascript object>"
      ]
     },
     "metadata": {},
     "output_type": "display_data"
    }
   ],
   "source": [
    "data = credit.copy()"
   ]
  },
  {
   "cell_type": "code",
   "execution_count": 5,
   "id": "6a0ab5e8-49d6-48cd-b75f-2182405009fa",
   "metadata": {},
   "outputs": [
    {
     "data": {
      "text/plain": [
       "(10127, 21)"
      ]
     },
     "execution_count": 5,
     "metadata": {},
     "output_type": "execute_result"
    },
    {
     "data": {
      "application/javascript": [
       "\n",
       "            setTimeout(function() {\n",
       "                var nbb_cell_id = 5;\n",
       "                var nbb_unformatted_code = \"data.shape\";\n",
       "                var nbb_formatted_code = \"data.shape\";\n",
       "                var nbb_cells = Jupyter.notebook.get_cells();\n",
       "                for (var i = 0; i < nbb_cells.length; ++i) {\n",
       "                    if (nbb_cells[i].input_prompt_number == nbb_cell_id) {\n",
       "                        if (nbb_cells[i].get_text() == nbb_unformatted_code) {\n",
       "                             nbb_cells[i].set_text(nbb_formatted_code);\n",
       "                        }\n",
       "                        break;\n",
       "                    }\n",
       "                }\n",
       "            }, 500);\n",
       "            "
      ],
      "text/plain": [
       "<IPython.core.display.Javascript object>"
      ]
     },
     "metadata": {},
     "output_type": "display_data"
    }
   ],
   "source": [
    "data.shape"
   ]
  },
  {
   "cell_type": "code",
   "execution_count": 6,
   "id": "79b8421d-3566-43d8-ab3f-035782f0267f",
   "metadata": {},
   "outputs": [
    {
     "data": {
      "text/html": [
       "<div>\n",
       "<style scoped>\n",
       "    .dataframe tbody tr th:only-of-type {\n",
       "        vertical-align: middle;\n",
       "    }\n",
       "\n",
       "    .dataframe tbody tr th {\n",
       "        vertical-align: top;\n",
       "    }\n",
       "\n",
       "    .dataframe thead th {\n",
       "        text-align: right;\n",
       "    }\n",
       "</style>\n",
       "<table border=\"1\" class=\"dataframe\">\n",
       "  <thead>\n",
       "    <tr style=\"text-align: right;\">\n",
       "      <th></th>\n",
       "      <th>CLIENTNUM</th>\n",
       "      <th>Attrition_Flag</th>\n",
       "      <th>Customer_Age</th>\n",
       "      <th>Gender</th>\n",
       "      <th>Dependent_count</th>\n",
       "      <th>Education_Level</th>\n",
       "      <th>Marital_Status</th>\n",
       "      <th>Income_Category</th>\n",
       "      <th>Card_Category</th>\n",
       "      <th>Months_on_book</th>\n",
       "      <th>Total_Relationship_Count</th>\n",
       "      <th>Months_Inactive_12_mon</th>\n",
       "      <th>Contacts_Count_12_mon</th>\n",
       "      <th>Credit_Limit</th>\n",
       "      <th>Total_Revolving_Bal</th>\n",
       "      <th>Avg_Open_To_Buy</th>\n",
       "      <th>Total_Amt_Chng_Q4_Q1</th>\n",
       "      <th>Total_Trans_Amt</th>\n",
       "      <th>Total_Trans_Ct</th>\n",
       "      <th>Total_Ct_Chng_Q4_Q1</th>\n",
       "      <th>Avg_Utilization_Ratio</th>\n",
       "    </tr>\n",
       "  </thead>\n",
       "  <tbody>\n",
       "    <tr>\n",
       "      <th>0</th>\n",
       "      <td>768805383</td>\n",
       "      <td>Existing Customer</td>\n",
       "      <td>45</td>\n",
       "      <td>M</td>\n",
       "      <td>3</td>\n",
       "      <td>High School</td>\n",
       "      <td>Married</td>\n",
       "      <td>$60K - $80K</td>\n",
       "      <td>Blue</td>\n",
       "      <td>39</td>\n",
       "      <td>5</td>\n",
       "      <td>1</td>\n",
       "      <td>3</td>\n",
       "      <td>12691.000</td>\n",
       "      <td>777</td>\n",
       "      <td>11914.000</td>\n",
       "      <td>1.335</td>\n",
       "      <td>1144</td>\n",
       "      <td>42</td>\n",
       "      <td>1.625</td>\n",
       "      <td>0.061</td>\n",
       "    </tr>\n",
       "    <tr>\n",
       "      <th>1</th>\n",
       "      <td>818770008</td>\n",
       "      <td>Existing Customer</td>\n",
       "      <td>49</td>\n",
       "      <td>F</td>\n",
       "      <td>5</td>\n",
       "      <td>Graduate</td>\n",
       "      <td>Single</td>\n",
       "      <td>Less than $40K</td>\n",
       "      <td>Blue</td>\n",
       "      <td>44</td>\n",
       "      <td>6</td>\n",
       "      <td>1</td>\n",
       "      <td>2</td>\n",
       "      <td>8256.000</td>\n",
       "      <td>864</td>\n",
       "      <td>7392.000</td>\n",
       "      <td>1.541</td>\n",
       "      <td>1291</td>\n",
       "      <td>33</td>\n",
       "      <td>3.714</td>\n",
       "      <td>0.105</td>\n",
       "    </tr>\n",
       "    <tr>\n",
       "      <th>2</th>\n",
       "      <td>713982108</td>\n",
       "      <td>Existing Customer</td>\n",
       "      <td>51</td>\n",
       "      <td>M</td>\n",
       "      <td>3</td>\n",
       "      <td>Graduate</td>\n",
       "      <td>Married</td>\n",
       "      <td>$80K - $120K</td>\n",
       "      <td>Blue</td>\n",
       "      <td>36</td>\n",
       "      <td>4</td>\n",
       "      <td>1</td>\n",
       "      <td>0</td>\n",
       "      <td>3418.000</td>\n",
       "      <td>0</td>\n",
       "      <td>3418.000</td>\n",
       "      <td>2.594</td>\n",
       "      <td>1887</td>\n",
       "      <td>20</td>\n",
       "      <td>2.333</td>\n",
       "      <td>0.000</td>\n",
       "    </tr>\n",
       "    <tr>\n",
       "      <th>3</th>\n",
       "      <td>769911858</td>\n",
       "      <td>Existing Customer</td>\n",
       "      <td>40</td>\n",
       "      <td>F</td>\n",
       "      <td>4</td>\n",
       "      <td>High School</td>\n",
       "      <td>NaN</td>\n",
       "      <td>Less than $40K</td>\n",
       "      <td>Blue</td>\n",
       "      <td>34</td>\n",
       "      <td>3</td>\n",
       "      <td>4</td>\n",
       "      <td>1</td>\n",
       "      <td>3313.000</td>\n",
       "      <td>2517</td>\n",
       "      <td>796.000</td>\n",
       "      <td>1.405</td>\n",
       "      <td>1171</td>\n",
       "      <td>20</td>\n",
       "      <td>2.333</td>\n",
       "      <td>0.760</td>\n",
       "    </tr>\n",
       "    <tr>\n",
       "      <th>4</th>\n",
       "      <td>709106358</td>\n",
       "      <td>Existing Customer</td>\n",
       "      <td>40</td>\n",
       "      <td>M</td>\n",
       "      <td>3</td>\n",
       "      <td>Uneducated</td>\n",
       "      <td>Married</td>\n",
       "      <td>$60K - $80K</td>\n",
       "      <td>Blue</td>\n",
       "      <td>21</td>\n",
       "      <td>5</td>\n",
       "      <td>1</td>\n",
       "      <td>0</td>\n",
       "      <td>4716.000</td>\n",
       "      <td>0</td>\n",
       "      <td>4716.000</td>\n",
       "      <td>2.175</td>\n",
       "      <td>816</td>\n",
       "      <td>28</td>\n",
       "      <td>2.500</td>\n",
       "      <td>0.000</td>\n",
       "    </tr>\n",
       "  </tbody>\n",
       "</table>\n",
       "</div>"
      ],
      "text/plain": [
       "   CLIENTNUM     Attrition_Flag  Customer_Age Gender  Dependent_count  \\\n",
       "0  768805383  Existing Customer            45      M                3   \n",
       "1  818770008  Existing Customer            49      F                5   \n",
       "2  713982108  Existing Customer            51      M                3   \n",
       "3  769911858  Existing Customer            40      F                4   \n",
       "4  709106358  Existing Customer            40      M                3   \n",
       "\n",
       "  Education_Level Marital_Status Income_Category Card_Category  \\\n",
       "0     High School        Married     $60K - $80K          Blue   \n",
       "1        Graduate         Single  Less than $40K          Blue   \n",
       "2        Graduate        Married    $80K - $120K          Blue   \n",
       "3     High School            NaN  Less than $40K          Blue   \n",
       "4      Uneducated        Married     $60K - $80K          Blue   \n",
       "\n",
       "   Months_on_book  Total_Relationship_Count  Months_Inactive_12_mon  \\\n",
       "0              39                         5                       1   \n",
       "1              44                         6                       1   \n",
       "2              36                         4                       1   \n",
       "3              34                         3                       4   \n",
       "4              21                         5                       1   \n",
       "\n",
       "   Contacts_Count_12_mon  Credit_Limit  Total_Revolving_Bal  Avg_Open_To_Buy  \\\n",
       "0                      3     12691.000                  777        11914.000   \n",
       "1                      2      8256.000                  864         7392.000   \n",
       "2                      0      3418.000                    0         3418.000   \n",
       "3                      1      3313.000                 2517          796.000   \n",
       "4                      0      4716.000                    0         4716.000   \n",
       "\n",
       "   Total_Amt_Chng_Q4_Q1  Total_Trans_Amt  Total_Trans_Ct  Total_Ct_Chng_Q4_Q1  \\\n",
       "0                 1.335             1144              42                1.625   \n",
       "1                 1.541             1291              33                3.714   \n",
       "2                 2.594             1887              20                2.333   \n",
       "3                 1.405             1171              20                2.333   \n",
       "4                 2.175              816              28                2.500   \n",
       "\n",
       "   Avg_Utilization_Ratio  \n",
       "0                  0.061  \n",
       "1                  0.105  \n",
       "2                  0.000  \n",
       "3                  0.760  \n",
       "4                  0.000  "
      ]
     },
     "execution_count": 6,
     "metadata": {},
     "output_type": "execute_result"
    },
    {
     "data": {
      "application/javascript": [
       "\n",
       "            setTimeout(function() {\n",
       "                var nbb_cell_id = 6;\n",
       "                var nbb_unformatted_code = \"data.head()\";\n",
       "                var nbb_formatted_code = \"data.head()\";\n",
       "                var nbb_cells = Jupyter.notebook.get_cells();\n",
       "                for (var i = 0; i < nbb_cells.length; ++i) {\n",
       "                    if (nbb_cells[i].input_prompt_number == nbb_cell_id) {\n",
       "                        if (nbb_cells[i].get_text() == nbb_unformatted_code) {\n",
       "                             nbb_cells[i].set_text(nbb_formatted_code);\n",
       "                        }\n",
       "                        break;\n",
       "                    }\n",
       "                }\n",
       "            }, 500);\n",
       "            "
      ],
      "text/plain": [
       "<IPython.core.display.Javascript object>"
      ]
     },
     "metadata": {},
     "output_type": "display_data"
    }
   ],
   "source": [
    "data.head()"
   ]
  },
  {
   "cell_type": "code",
   "execution_count": 7,
   "id": "8abda220-ce62-40f6-8bb5-257056e9ab74",
   "metadata": {},
   "outputs": [
    {
     "data": {
      "text/html": [
       "<div>\n",
       "<style scoped>\n",
       "    .dataframe tbody tr th:only-of-type {\n",
       "        vertical-align: middle;\n",
       "    }\n",
       "\n",
       "    .dataframe tbody tr th {\n",
       "        vertical-align: top;\n",
       "    }\n",
       "\n",
       "    .dataframe thead th {\n",
       "        text-align: right;\n",
       "    }\n",
       "</style>\n",
       "<table border=\"1\" class=\"dataframe\">\n",
       "  <thead>\n",
       "    <tr style=\"text-align: right;\">\n",
       "      <th></th>\n",
       "      <th>CLIENTNUM</th>\n",
       "      <th>Attrition_Flag</th>\n",
       "      <th>Customer_Age</th>\n",
       "      <th>Gender</th>\n",
       "      <th>Dependent_count</th>\n",
       "      <th>Education_Level</th>\n",
       "      <th>Marital_Status</th>\n",
       "      <th>Income_Category</th>\n",
       "      <th>Card_Category</th>\n",
       "      <th>Months_on_book</th>\n",
       "      <th>Total_Relationship_Count</th>\n",
       "      <th>Months_Inactive_12_mon</th>\n",
       "      <th>Contacts_Count_12_mon</th>\n",
       "      <th>Credit_Limit</th>\n",
       "      <th>Total_Revolving_Bal</th>\n",
       "      <th>Avg_Open_To_Buy</th>\n",
       "      <th>Total_Amt_Chng_Q4_Q1</th>\n",
       "      <th>Total_Trans_Amt</th>\n",
       "      <th>Total_Trans_Ct</th>\n",
       "      <th>Total_Ct_Chng_Q4_Q1</th>\n",
       "      <th>Avg_Utilization_Ratio</th>\n",
       "    </tr>\n",
       "  </thead>\n",
       "  <tbody>\n",
       "    <tr>\n",
       "      <th>10122</th>\n",
       "      <td>772366833</td>\n",
       "      <td>Existing Customer</td>\n",
       "      <td>50</td>\n",
       "      <td>M</td>\n",
       "      <td>2</td>\n",
       "      <td>Graduate</td>\n",
       "      <td>Single</td>\n",
       "      <td>$40K - $60K</td>\n",
       "      <td>Blue</td>\n",
       "      <td>40</td>\n",
       "      <td>3</td>\n",
       "      <td>2</td>\n",
       "      <td>3</td>\n",
       "      <td>4003.000</td>\n",
       "      <td>1851</td>\n",
       "      <td>2152.000</td>\n",
       "      <td>0.703</td>\n",
       "      <td>15476</td>\n",
       "      <td>117</td>\n",
       "      <td>0.857</td>\n",
       "      <td>0.462</td>\n",
       "    </tr>\n",
       "    <tr>\n",
       "      <th>10123</th>\n",
       "      <td>710638233</td>\n",
       "      <td>Attrited Customer</td>\n",
       "      <td>41</td>\n",
       "      <td>M</td>\n",
       "      <td>2</td>\n",
       "      <td>NaN</td>\n",
       "      <td>Divorced</td>\n",
       "      <td>$40K - $60K</td>\n",
       "      <td>Blue</td>\n",
       "      <td>25</td>\n",
       "      <td>4</td>\n",
       "      <td>2</td>\n",
       "      <td>3</td>\n",
       "      <td>4277.000</td>\n",
       "      <td>2186</td>\n",
       "      <td>2091.000</td>\n",
       "      <td>0.804</td>\n",
       "      <td>8764</td>\n",
       "      <td>69</td>\n",
       "      <td>0.683</td>\n",
       "      <td>0.511</td>\n",
       "    </tr>\n",
       "    <tr>\n",
       "      <th>10124</th>\n",
       "      <td>716506083</td>\n",
       "      <td>Attrited Customer</td>\n",
       "      <td>44</td>\n",
       "      <td>F</td>\n",
       "      <td>1</td>\n",
       "      <td>High School</td>\n",
       "      <td>Married</td>\n",
       "      <td>Less than $40K</td>\n",
       "      <td>Blue</td>\n",
       "      <td>36</td>\n",
       "      <td>5</td>\n",
       "      <td>3</td>\n",
       "      <td>4</td>\n",
       "      <td>5409.000</td>\n",
       "      <td>0</td>\n",
       "      <td>5409.000</td>\n",
       "      <td>0.819</td>\n",
       "      <td>10291</td>\n",
       "      <td>60</td>\n",
       "      <td>0.818</td>\n",
       "      <td>0.000</td>\n",
       "    </tr>\n",
       "    <tr>\n",
       "      <th>10125</th>\n",
       "      <td>717406983</td>\n",
       "      <td>Attrited Customer</td>\n",
       "      <td>30</td>\n",
       "      <td>M</td>\n",
       "      <td>2</td>\n",
       "      <td>Graduate</td>\n",
       "      <td>NaN</td>\n",
       "      <td>$40K - $60K</td>\n",
       "      <td>Blue</td>\n",
       "      <td>36</td>\n",
       "      <td>4</td>\n",
       "      <td>3</td>\n",
       "      <td>3</td>\n",
       "      <td>5281.000</td>\n",
       "      <td>0</td>\n",
       "      <td>5281.000</td>\n",
       "      <td>0.535</td>\n",
       "      <td>8395</td>\n",
       "      <td>62</td>\n",
       "      <td>0.722</td>\n",
       "      <td>0.000</td>\n",
       "    </tr>\n",
       "    <tr>\n",
       "      <th>10126</th>\n",
       "      <td>714337233</td>\n",
       "      <td>Attrited Customer</td>\n",
       "      <td>43</td>\n",
       "      <td>F</td>\n",
       "      <td>2</td>\n",
       "      <td>Graduate</td>\n",
       "      <td>Married</td>\n",
       "      <td>Less than $40K</td>\n",
       "      <td>Silver</td>\n",
       "      <td>25</td>\n",
       "      <td>6</td>\n",
       "      <td>2</td>\n",
       "      <td>4</td>\n",
       "      <td>10388.000</td>\n",
       "      <td>1961</td>\n",
       "      <td>8427.000</td>\n",
       "      <td>0.703</td>\n",
       "      <td>10294</td>\n",
       "      <td>61</td>\n",
       "      <td>0.649</td>\n",
       "      <td>0.189</td>\n",
       "    </tr>\n",
       "  </tbody>\n",
       "</table>\n",
       "</div>"
      ],
      "text/plain": [
       "       CLIENTNUM     Attrition_Flag  Customer_Age Gender  Dependent_count  \\\n",
       "10122  772366833  Existing Customer            50      M                2   \n",
       "10123  710638233  Attrited Customer            41      M                2   \n",
       "10124  716506083  Attrited Customer            44      F                1   \n",
       "10125  717406983  Attrited Customer            30      M                2   \n",
       "10126  714337233  Attrited Customer            43      F                2   \n",
       "\n",
       "      Education_Level Marital_Status Income_Category Card_Category  \\\n",
       "10122        Graduate         Single     $40K - $60K          Blue   \n",
       "10123             NaN       Divorced     $40K - $60K          Blue   \n",
       "10124     High School        Married  Less than $40K          Blue   \n",
       "10125        Graduate            NaN     $40K - $60K          Blue   \n",
       "10126        Graduate        Married  Less than $40K        Silver   \n",
       "\n",
       "       Months_on_book  Total_Relationship_Count  Months_Inactive_12_mon  \\\n",
       "10122              40                         3                       2   \n",
       "10123              25                         4                       2   \n",
       "10124              36                         5                       3   \n",
       "10125              36                         4                       3   \n",
       "10126              25                         6                       2   \n",
       "\n",
       "       Contacts_Count_12_mon  Credit_Limit  Total_Revolving_Bal  \\\n",
       "10122                      3      4003.000                 1851   \n",
       "10123                      3      4277.000                 2186   \n",
       "10124                      4      5409.000                    0   \n",
       "10125                      3      5281.000                    0   \n",
       "10126                      4     10388.000                 1961   \n",
       "\n",
       "       Avg_Open_To_Buy  Total_Amt_Chng_Q4_Q1  Total_Trans_Amt  Total_Trans_Ct  \\\n",
       "10122         2152.000                 0.703            15476             117   \n",
       "10123         2091.000                 0.804             8764              69   \n",
       "10124         5409.000                 0.819            10291              60   \n",
       "10125         5281.000                 0.535             8395              62   \n",
       "10126         8427.000                 0.703            10294              61   \n",
       "\n",
       "       Total_Ct_Chng_Q4_Q1  Avg_Utilization_Ratio  \n",
       "10122                0.857                  0.462  \n",
       "10123                0.683                  0.511  \n",
       "10124                0.818                  0.000  \n",
       "10125                0.722                  0.000  \n",
       "10126                0.649                  0.189  "
      ]
     },
     "execution_count": 7,
     "metadata": {},
     "output_type": "execute_result"
    },
    {
     "data": {
      "application/javascript": [
       "\n",
       "            setTimeout(function() {\n",
       "                var nbb_cell_id = 7;\n",
       "                var nbb_unformatted_code = \"data.tail()\";\n",
       "                var nbb_formatted_code = \"data.tail()\";\n",
       "                var nbb_cells = Jupyter.notebook.get_cells();\n",
       "                for (var i = 0; i < nbb_cells.length; ++i) {\n",
       "                    if (nbb_cells[i].input_prompt_number == nbb_cell_id) {\n",
       "                        if (nbb_cells[i].get_text() == nbb_unformatted_code) {\n",
       "                             nbb_cells[i].set_text(nbb_formatted_code);\n",
       "                        }\n",
       "                        break;\n",
       "                    }\n",
       "                }\n",
       "            }, 500);\n",
       "            "
      ],
      "text/plain": [
       "<IPython.core.display.Javascript object>"
      ]
     },
     "metadata": {},
     "output_type": "display_data"
    }
   ],
   "source": [
    "data.tail()"
   ]
  },
  {
   "cell_type": "markdown",
   "id": "0e8589cc-ef96-4e8c-9b9f-6d2b41e81658",
   "metadata": {},
   "source": [
    "### Data Clean Up:"
   ]
  },
  {
   "cell_type": "code",
   "execution_count": 8,
   "id": "c0b32abc-cee4-4495-a30b-cdd010613028",
   "metadata": {},
   "outputs": [
    {
     "data": {
      "text/plain": [
       "CLIENTNUM                   0\n",
       "Attrition_Flag              0\n",
       "Customer_Age                0\n",
       "Gender                      0\n",
       "Dependent_count             0\n",
       "Education_Level             0\n",
       "Marital_Status              0\n",
       "Income_Category             0\n",
       "Card_Category               0\n",
       "Months_on_book              0\n",
       "Total_Relationship_Count    0\n",
       "Months_Inactive_12_mon      0\n",
       "Contacts_Count_12_mon       0\n",
       "Credit_Limit                0\n",
       "Total_Revolving_Bal         0\n",
       "Avg_Open_To_Buy             0\n",
       "Total_Amt_Chng_Q4_Q1        0\n",
       "Total_Trans_Amt             0\n",
       "Total_Trans_Ct              0\n",
       "Total_Ct_Chng_Q4_Q1         0\n",
       "Avg_Utilization_Ratio       0\n",
       "dtype: int64"
      ]
     },
     "execution_count": 8,
     "metadata": {},
     "output_type": "execute_result"
    },
    {
     "data": {
      "application/javascript": [
       "\n",
       "            setTimeout(function() {\n",
       "                var nbb_cell_id = 8;\n",
       "                var nbb_unformatted_code = \"#checking for duplicates\\ndata[data.duplicated()].count()\";\n",
       "                var nbb_formatted_code = \"# checking for duplicates\\ndata[data.duplicated()].count()\";\n",
       "                var nbb_cells = Jupyter.notebook.get_cells();\n",
       "                for (var i = 0; i < nbb_cells.length; ++i) {\n",
       "                    if (nbb_cells[i].input_prompt_number == nbb_cell_id) {\n",
       "                        if (nbb_cells[i].get_text() == nbb_unformatted_code) {\n",
       "                             nbb_cells[i].set_text(nbb_formatted_code);\n",
       "                        }\n",
       "                        break;\n",
       "                    }\n",
       "                }\n",
       "            }, 500);\n",
       "            "
      ],
      "text/plain": [
       "<IPython.core.display.Javascript object>"
      ]
     },
     "metadata": {},
     "output_type": "display_data"
    }
   ],
   "source": [
    "# checking for duplicates\n",
    "data[data.duplicated()].count()"
   ]
  },
  {
   "cell_type": "markdown",
   "id": "4c5e4927-14ff-456e-a2d9-716203e9cbc1",
   "metadata": {},
   "source": [
    "- there are no duplicates"
   ]
  },
  {
   "cell_type": "markdown",
   "id": "45454055-e58d-4608-950e-942d3c9d56ad",
   "metadata": {},
   "source": [
    "Now CLIENTNUM can be dropped."
   ]
  },
  {
   "cell_type": "code",
   "execution_count": 9,
   "id": "1828d386-c525-4ecd-bdc3-8c1800cf9f28",
   "metadata": {},
   "outputs": [
    {
     "data": {
      "application/javascript": [
       "\n",
       "            setTimeout(function() {\n",
       "                var nbb_cell_id = 9;\n",
       "                var nbb_unformatted_code = \"# drop the CustomerID. column as it does not add any value to the analysis\\ndata.drop(\\\"CLIENTNUM\\\", axis=1, inplace=True)\";\n",
       "                var nbb_formatted_code = \"# drop the CustomerID. column as it does not add any value to the analysis\\ndata.drop(\\\"CLIENTNUM\\\", axis=1, inplace=True)\";\n",
       "                var nbb_cells = Jupyter.notebook.get_cells();\n",
       "                for (var i = 0; i < nbb_cells.length; ++i) {\n",
       "                    if (nbb_cells[i].input_prompt_number == nbb_cell_id) {\n",
       "                        if (nbb_cells[i].get_text() == nbb_unformatted_code) {\n",
       "                             nbb_cells[i].set_text(nbb_formatted_code);\n",
       "                        }\n",
       "                        break;\n",
       "                    }\n",
       "                }\n",
       "            }, 500);\n",
       "            "
      ],
      "text/plain": [
       "<IPython.core.display.Javascript object>"
      ]
     },
     "metadata": {},
     "output_type": "display_data"
    }
   ],
   "source": [
    "# drop the CustomerID. column as it does not add any value to the analysis\n",
    "data.drop(\"CLIENTNUM\", axis=1, inplace=True)"
   ]
  },
  {
   "cell_type": "code",
   "execution_count": 10,
   "id": "b2cf60f5-6b3c-4972-977d-c1c15e5a6324",
   "metadata": {},
   "outputs": [
    {
     "data": {
      "text/plain": [
       "(10127, 20)"
      ]
     },
     "execution_count": 10,
     "metadata": {},
     "output_type": "execute_result"
    },
    {
     "data": {
      "application/javascript": [
       "\n",
       "            setTimeout(function() {\n",
       "                var nbb_cell_id = 10;\n",
       "                var nbb_unformatted_code = \"data.shape\";\n",
       "                var nbb_formatted_code = \"data.shape\";\n",
       "                var nbb_cells = Jupyter.notebook.get_cells();\n",
       "                for (var i = 0; i < nbb_cells.length; ++i) {\n",
       "                    if (nbb_cells[i].input_prompt_number == nbb_cell_id) {\n",
       "                        if (nbb_cells[i].get_text() == nbb_unformatted_code) {\n",
       "                             nbb_cells[i].set_text(nbb_formatted_code);\n",
       "                        }\n",
       "                        break;\n",
       "                    }\n",
       "                }\n",
       "            }, 500);\n",
       "            "
      ],
      "text/plain": [
       "<IPython.core.display.Javascript object>"
      ]
     },
     "metadata": {},
     "output_type": "display_data"
    }
   ],
   "source": [
    "data.shape"
   ]
  },
  {
   "cell_type": "markdown",
   "id": "707fff7a-b110-4611-a7fc-e86a39220ba6",
   "metadata": {},
   "source": [
    "- Dropping CLIENTNUM was succesful because shape of column changed."
   ]
  },
  {
   "cell_type": "code",
   "execution_count": 11,
   "id": "04c4d646-6980-437b-b3d0-c66a80c8cd6e",
   "metadata": {},
   "outputs": [
    {
     "data": {
      "text/plain": [
       "Attrition_Flag                 0\n",
       "Customer_Age                   0\n",
       "Gender                         0\n",
       "Dependent_count                0\n",
       "Education_Level             1519\n",
       "Marital_Status               749\n",
       "Income_Category                0\n",
       "Card_Category                  0\n",
       "Months_on_book                 0\n",
       "Total_Relationship_Count       0\n",
       "Months_Inactive_12_mon         0\n",
       "Contacts_Count_12_mon          0\n",
       "Credit_Limit                   0\n",
       "Total_Revolving_Bal            0\n",
       "Avg_Open_To_Buy                0\n",
       "Total_Amt_Chng_Q4_Q1           0\n",
       "Total_Trans_Amt                0\n",
       "Total_Trans_Ct                 0\n",
       "Total_Ct_Chng_Q4_Q1            0\n",
       "Avg_Utilization_Ratio          0\n",
       "dtype: int64"
      ]
     },
     "execution_count": 11,
     "metadata": {},
     "output_type": "execute_result"
    },
    {
     "data": {
      "application/javascript": [
       "\n",
       "            setTimeout(function() {\n",
       "                var nbb_cell_id = 11;\n",
       "                var nbb_unformatted_code = \"# checking for missing values in the data\\ndata.isnull().sum()\";\n",
       "                var nbb_formatted_code = \"# checking for missing values in the data\\ndata.isnull().sum()\";\n",
       "                var nbb_cells = Jupyter.notebook.get_cells();\n",
       "                for (var i = 0; i < nbb_cells.length; ++i) {\n",
       "                    if (nbb_cells[i].input_prompt_number == nbb_cell_id) {\n",
       "                        if (nbb_cells[i].get_text() == nbb_unformatted_code) {\n",
       "                             nbb_cells[i].set_text(nbb_formatted_code);\n",
       "                        }\n",
       "                        break;\n",
       "                    }\n",
       "                }\n",
       "            }, 500);\n",
       "            "
      ],
      "text/plain": [
       "<IPython.core.display.Javascript object>"
      ]
     },
     "metadata": {},
     "output_type": "display_data"
    }
   ],
   "source": [
    "# checking for missing values in the data\n",
    "data.isnull().sum()"
   ]
  },
  {
   "cell_type": "code",
   "execution_count": 12,
   "id": "a39a3dd8-12b5-475d-a18f-730083687005",
   "metadata": {},
   "outputs": [
    {
     "data": {
      "text/html": [
       "<div>\n",
       "<style scoped>\n",
       "    .dataframe tbody tr th:only-of-type {\n",
       "        vertical-align: middle;\n",
       "    }\n",
       "\n",
       "    .dataframe tbody tr th {\n",
       "        vertical-align: top;\n",
       "    }\n",
       "\n",
       "    .dataframe thead th {\n",
       "        text-align: right;\n",
       "    }\n",
       "</style>\n",
       "<table border=\"1\" class=\"dataframe\">\n",
       "  <thead>\n",
       "    <tr style=\"text-align: right;\">\n",
       "      <th></th>\n",
       "      <th>% of Missing Values</th>\n",
       "    </tr>\n",
       "  </thead>\n",
       "  <tbody>\n",
       "    <tr>\n",
       "      <th>Attrition_Flag</th>\n",
       "      <td>0.000</td>\n",
       "    </tr>\n",
       "    <tr>\n",
       "      <th>Customer_Age</th>\n",
       "      <td>0.000</td>\n",
       "    </tr>\n",
       "    <tr>\n",
       "      <th>Gender</th>\n",
       "      <td>0.000</td>\n",
       "    </tr>\n",
       "    <tr>\n",
       "      <th>Dependent_count</th>\n",
       "      <td>0.000</td>\n",
       "    </tr>\n",
       "    <tr>\n",
       "      <th>Education_Level</th>\n",
       "      <td>15.000</td>\n",
       "    </tr>\n",
       "    <tr>\n",
       "      <th>Marital_Status</th>\n",
       "      <td>7.400</td>\n",
       "    </tr>\n",
       "    <tr>\n",
       "      <th>Income_Category</th>\n",
       "      <td>0.000</td>\n",
       "    </tr>\n",
       "    <tr>\n",
       "      <th>Card_Category</th>\n",
       "      <td>0.000</td>\n",
       "    </tr>\n",
       "    <tr>\n",
       "      <th>Months_on_book</th>\n",
       "      <td>0.000</td>\n",
       "    </tr>\n",
       "    <tr>\n",
       "      <th>Total_Relationship_Count</th>\n",
       "      <td>0.000</td>\n",
       "    </tr>\n",
       "    <tr>\n",
       "      <th>Months_Inactive_12_mon</th>\n",
       "      <td>0.000</td>\n",
       "    </tr>\n",
       "    <tr>\n",
       "      <th>Contacts_Count_12_mon</th>\n",
       "      <td>0.000</td>\n",
       "    </tr>\n",
       "    <tr>\n",
       "      <th>Credit_Limit</th>\n",
       "      <td>0.000</td>\n",
       "    </tr>\n",
       "    <tr>\n",
       "      <th>Total_Revolving_Bal</th>\n",
       "      <td>0.000</td>\n",
       "    </tr>\n",
       "    <tr>\n",
       "      <th>Avg_Open_To_Buy</th>\n",
       "      <td>0.000</td>\n",
       "    </tr>\n",
       "    <tr>\n",
       "      <th>Total_Amt_Chng_Q4_Q1</th>\n",
       "      <td>0.000</td>\n",
       "    </tr>\n",
       "    <tr>\n",
       "      <th>Total_Trans_Amt</th>\n",
       "      <td>0.000</td>\n",
       "    </tr>\n",
       "    <tr>\n",
       "      <th>Total_Trans_Ct</th>\n",
       "      <td>0.000</td>\n",
       "    </tr>\n",
       "    <tr>\n",
       "      <th>Total_Ct_Chng_Q4_Q1</th>\n",
       "      <td>0.000</td>\n",
       "    </tr>\n",
       "    <tr>\n",
       "      <th>Avg_Utilization_Ratio</th>\n",
       "      <td>0.000</td>\n",
       "    </tr>\n",
       "  </tbody>\n",
       "</table>\n",
       "</div>"
      ],
      "text/plain": [
       "                          % of Missing Values\n",
       "Attrition_Flag                          0.000\n",
       "Customer_Age                            0.000\n",
       "Gender                                  0.000\n",
       "Dependent_count                         0.000\n",
       "Education_Level                        15.000\n",
       "Marital_Status                          7.400\n",
       "Income_Category                         0.000\n",
       "Card_Category                           0.000\n",
       "Months_on_book                          0.000\n",
       "Total_Relationship_Count                0.000\n",
       "Months_Inactive_12_mon                  0.000\n",
       "Contacts_Count_12_mon                   0.000\n",
       "Credit_Limit                            0.000\n",
       "Total_Revolving_Bal                     0.000\n",
       "Avg_Open_To_Buy                         0.000\n",
       "Total_Amt_Chng_Q4_Q1                    0.000\n",
       "Total_Trans_Amt                         0.000\n",
       "Total_Trans_Ct                          0.000\n",
       "Total_Ct_Chng_Q4_Q1                     0.000\n",
       "Avg_Utilization_Ratio                   0.000"
      ]
     },
     "execution_count": 12,
     "metadata": {},
     "output_type": "execute_result"
    },
    {
     "data": {
      "application/javascript": [
       "\n",
       "            setTimeout(function() {\n",
       "                var nbb_cell_id = 12;\n",
       "                var nbb_unformatted_code = \"pd.DataFrame(data={'% of Missing Values':round(data.isna().sum()/data.isna().count()*100,2)})\";\n",
       "                var nbb_formatted_code = \"pd.DataFrame(\\n    data={\\n        \\\"% of Missing Values\\\": round(data.isna().sum() / data.isna().count() * 100, 2)\\n    }\\n)\";\n",
       "                var nbb_cells = Jupyter.notebook.get_cells();\n",
       "                for (var i = 0; i < nbb_cells.length; ++i) {\n",
       "                    if (nbb_cells[i].input_prompt_number == nbb_cell_id) {\n",
       "                        if (nbb_cells[i].get_text() == nbb_unformatted_code) {\n",
       "                             nbb_cells[i].set_text(nbb_formatted_code);\n",
       "                        }\n",
       "                        break;\n",
       "                    }\n",
       "                }\n",
       "            }, 500);\n",
       "            "
      ],
      "text/plain": [
       "<IPython.core.display.Javascript object>"
      ]
     },
     "metadata": {},
     "output_type": "display_data"
    }
   ],
   "source": [
    "pd.DataFrame(\n",
    "    data={\n",
    "        \"% of Missing Values\": round(data.isna().sum() / data.isna().count() * 100, 2)\n",
    "    }\n",
    ")"
   ]
  },
  {
   "cell_type": "code",
   "execution_count": 13,
   "id": "70a6b5ed-729f-4ad7-b191-188ad735a0cf",
   "metadata": {},
   "outputs": [
    {
     "data": {
      "application/javascript": [
       "\n",
       "            setTimeout(function() {\n",
       "                var nbb_cell_id = 13;\n",
       "                var nbb_unformatted_code = \"#Dropping null values\\ndata=data.dropna()\";\n",
       "                var nbb_formatted_code = \"# Dropping null values\\ndata = data.dropna()\";\n",
       "                var nbb_cells = Jupyter.notebook.get_cells();\n",
       "                for (var i = 0; i < nbb_cells.length; ++i) {\n",
       "                    if (nbb_cells[i].input_prompt_number == nbb_cell_id) {\n",
       "                        if (nbb_cells[i].get_text() == nbb_unformatted_code) {\n",
       "                             nbb_cells[i].set_text(nbb_formatted_code);\n",
       "                        }\n",
       "                        break;\n",
       "                    }\n",
       "                }\n",
       "            }, 500);\n",
       "            "
      ],
      "text/plain": [
       "<IPython.core.display.Javascript object>"
      ]
     },
     "metadata": {},
     "output_type": "display_data"
    }
   ],
   "source": [
    "# Dropping null values\n",
    "data = data.dropna()"
   ]
  },
  {
   "cell_type": "code",
   "execution_count": 14,
   "id": "d623cc12-77fc-46d2-8102-60f5cfc2f7ec",
   "metadata": {},
   "outputs": [
    {
     "data": {
      "text/plain": [
       "(7973, 20)"
      ]
     },
     "execution_count": 14,
     "metadata": {},
     "output_type": "execute_result"
    },
    {
     "data": {
      "application/javascript": [
       "\n",
       "            setTimeout(function() {\n",
       "                var nbb_cell_id = 14;\n",
       "                var nbb_unformatted_code = \"data.shape\";\n",
       "                var nbb_formatted_code = \"data.shape\";\n",
       "                var nbb_cells = Jupyter.notebook.get_cells();\n",
       "                for (var i = 0; i < nbb_cells.length; ++i) {\n",
       "                    if (nbb_cells[i].input_prompt_number == nbb_cell_id) {\n",
       "                        if (nbb_cells[i].get_text() == nbb_unformatted_code) {\n",
       "                             nbb_cells[i].set_text(nbb_formatted_code);\n",
       "                        }\n",
       "                        break;\n",
       "                    }\n",
       "                }\n",
       "            }, 500);\n",
       "            "
      ],
      "text/plain": [
       "<IPython.core.display.Javascript object>"
      ]
     },
     "metadata": {},
     "output_type": "display_data"
    }
   ],
   "source": [
    "data.shape"
   ]
  },
  {
   "cell_type": "code",
   "execution_count": 15,
   "id": "bdf40236-6ba0-46da-9aa8-74d1e0a57cf0",
   "metadata": {},
   "outputs": [
    {
     "name": "stdout",
     "output_type": "stream",
     "text": [
      "<class 'pandas.core.frame.DataFrame'>\n",
      "Int64Index: 7973 entries, 0 to 10126\n",
      "Data columns (total 20 columns):\n",
      " #   Column                    Non-Null Count  Dtype  \n",
      "---  ------                    --------------  -----  \n",
      " 0   Attrition_Flag            7973 non-null   object \n",
      " 1   Customer_Age              7973 non-null   int64  \n",
      " 2   Gender                    7973 non-null   object \n",
      " 3   Dependent_count           7973 non-null   int64  \n",
      " 4   Education_Level           7973 non-null   object \n",
      " 5   Marital_Status            7973 non-null   object \n",
      " 6   Income_Category           7973 non-null   object \n",
      " 7   Card_Category             7973 non-null   object \n",
      " 8   Months_on_book            7973 non-null   int64  \n",
      " 9   Total_Relationship_Count  7973 non-null   int64  \n",
      " 10  Months_Inactive_12_mon    7973 non-null   int64  \n",
      " 11  Contacts_Count_12_mon     7973 non-null   int64  \n",
      " 12  Credit_Limit              7973 non-null   float64\n",
      " 13  Total_Revolving_Bal       7973 non-null   int64  \n",
      " 14  Avg_Open_To_Buy           7973 non-null   float64\n",
      " 15  Total_Amt_Chng_Q4_Q1      7973 non-null   float64\n",
      " 16  Total_Trans_Amt           7973 non-null   int64  \n",
      " 17  Total_Trans_Ct            7973 non-null   int64  \n",
      " 18  Total_Ct_Chng_Q4_Q1       7973 non-null   float64\n",
      " 19  Avg_Utilization_Ratio     7973 non-null   float64\n",
      "dtypes: float64(5), int64(9), object(6)\n",
      "memory usage: 1.3+ MB\n"
     ]
    },
    {
     "data": {
      "application/javascript": [
       "\n",
       "            setTimeout(function() {\n",
       "                var nbb_cell_id = 15;\n",
       "                var nbb_unformatted_code = \"data.info()\";\n",
       "                var nbb_formatted_code = \"data.info()\";\n",
       "                var nbb_cells = Jupyter.notebook.get_cells();\n",
       "                for (var i = 0; i < nbb_cells.length; ++i) {\n",
       "                    if (nbb_cells[i].input_prompt_number == nbb_cell_id) {\n",
       "                        if (nbb_cells[i].get_text() == nbb_unformatted_code) {\n",
       "                             nbb_cells[i].set_text(nbb_formatted_code);\n",
       "                        }\n",
       "                        break;\n",
       "                    }\n",
       "                }\n",
       "            }, 500);\n",
       "            "
      ],
      "text/plain": [
       "<IPython.core.display.Javascript object>"
      ]
     },
     "metadata": {},
     "output_type": "display_data"
    }
   ],
   "source": [
    "data.info()"
   ]
  },
  {
   "cell_type": "code",
   "execution_count": 16,
   "id": "d5bf0e64-8a6b-4932-ad42-c8aa48244aa7",
   "metadata": {},
   "outputs": [
    {
     "data": {
      "text/plain": [
       "2"
      ]
     },
     "execution_count": 16,
     "metadata": {},
     "output_type": "execute_result"
    },
    {
     "data": {
      "application/javascript": [
       "\n",
       "            setTimeout(function() {\n",
       "                var nbb_cell_id = 16;\n",
       "                var nbb_unformatted_code = \"data[\\\"Gender\\\"].nunique()\";\n",
       "                var nbb_formatted_code = \"data[\\\"Gender\\\"].nunique()\";\n",
       "                var nbb_cells = Jupyter.notebook.get_cells();\n",
       "                for (var i = 0; i < nbb_cells.length; ++i) {\n",
       "                    if (nbb_cells[i].input_prompt_number == nbb_cell_id) {\n",
       "                        if (nbb_cells[i].get_text() == nbb_unformatted_code) {\n",
       "                             nbb_cells[i].set_text(nbb_formatted_code);\n",
       "                        }\n",
       "                        break;\n",
       "                    }\n",
       "                }\n",
       "            }, 500);\n",
       "            "
      ],
      "text/plain": [
       "<IPython.core.display.Javascript object>"
      ]
     },
     "metadata": {},
     "output_type": "display_data"
    }
   ],
   "source": [
    "data[\"Gender\"].nunique()"
   ]
  },
  {
   "cell_type": "code",
   "execution_count": 17,
   "id": "1f7a3290-ebe9-43c5-a7f6-d2aa0f4172bc",
   "metadata": {},
   "outputs": [
    {
     "data": {
      "application/javascript": [
       "\n",
       "            setTimeout(function() {\n",
       "                var nbb_cell_id = 17;\n",
       "                var nbb_unformatted_code = \"#is male\\ndata.replace(('M', 'F'), (1, 0), inplace=True)\";\n",
       "                var nbb_formatted_code = \"# is male\\ndata.replace((\\\"M\\\", \\\"F\\\"), (1, 0), inplace=True)\";\n",
       "                var nbb_cells = Jupyter.notebook.get_cells();\n",
       "                for (var i = 0; i < nbb_cells.length; ++i) {\n",
       "                    if (nbb_cells[i].input_prompt_number == nbb_cell_id) {\n",
       "                        if (nbb_cells[i].get_text() == nbb_unformatted_code) {\n",
       "                             nbb_cells[i].set_text(nbb_formatted_code);\n",
       "                        }\n",
       "                        break;\n",
       "                    }\n",
       "                }\n",
       "            }, 500);\n",
       "            "
      ],
      "text/plain": [
       "<IPython.core.display.Javascript object>"
      ]
     },
     "metadata": {},
     "output_type": "display_data"
    }
   ],
   "source": [
    "# is male\n",
    "data.replace((\"M\", \"F\"), (1, 0), inplace=True)"
   ]
  },
  {
   "cell_type": "code",
   "execution_count": 18,
   "id": "6c7209cf-80f9-43c4-a8d0-47e1a6b52d15",
   "metadata": {},
   "outputs": [
    {
     "data": {
      "text/plain": [
       "2"
      ]
     },
     "execution_count": 18,
     "metadata": {},
     "output_type": "execute_result"
    },
    {
     "data": {
      "application/javascript": [
       "\n",
       "            setTimeout(function() {\n",
       "                var nbb_cell_id = 18;\n",
       "                var nbb_unformatted_code = \"data[\\\"Attrition_Flag\\\"].nunique()\";\n",
       "                var nbb_formatted_code = \"data[\\\"Attrition_Flag\\\"].nunique()\";\n",
       "                var nbb_cells = Jupyter.notebook.get_cells();\n",
       "                for (var i = 0; i < nbb_cells.length; ++i) {\n",
       "                    if (nbb_cells[i].input_prompt_number == nbb_cell_id) {\n",
       "                        if (nbb_cells[i].get_text() == nbb_unformatted_code) {\n",
       "                             nbb_cells[i].set_text(nbb_formatted_code);\n",
       "                        }\n",
       "                        break;\n",
       "                    }\n",
       "                }\n",
       "            }, 500);\n",
       "            "
      ],
      "text/plain": [
       "<IPython.core.display.Javascript object>"
      ]
     },
     "metadata": {},
     "output_type": "display_data"
    }
   ],
   "source": [
    "data[\"Attrition_Flag\"].nunique()"
   ]
  },
  {
   "cell_type": "code",
   "execution_count": 19,
   "id": "db9ceff5-d72d-4a20-95e3-b0d3fc9d9eee",
   "metadata": {},
   "outputs": [
    {
     "data": {
      "application/javascript": [
       "\n",
       "            setTimeout(function() {\n",
       "                var nbb_cell_id = 19;\n",
       "                var nbb_unformatted_code = \"# Is Existing Customer \\ndata.replace(('Existing Customer', 'Attrited Customer'), (1, 0), inplace=True)\";\n",
       "                var nbb_formatted_code = \"# Is Existing Customer\\ndata.replace((\\\"Existing Customer\\\", \\\"Attrited Customer\\\"), (1, 0), inplace=True)\";\n",
       "                var nbb_cells = Jupyter.notebook.get_cells();\n",
       "                for (var i = 0; i < nbb_cells.length; ++i) {\n",
       "                    if (nbb_cells[i].input_prompt_number == nbb_cell_id) {\n",
       "                        if (nbb_cells[i].get_text() == nbb_unformatted_code) {\n",
       "                             nbb_cells[i].set_text(nbb_formatted_code);\n",
       "                        }\n",
       "                        break;\n",
       "                    }\n",
       "                }\n",
       "            }, 500);\n",
       "            "
      ],
      "text/plain": [
       "<IPython.core.display.Javascript object>"
      ]
     },
     "metadata": {},
     "output_type": "display_data"
    }
   ],
   "source": [
    "# Is Existing Customer\n",
    "data.replace((\"Existing Customer\", \"Attrited Customer\"), (1, 0), inplace=True)"
   ]
  },
  {
   "cell_type": "code",
   "execution_count": 20,
   "id": "4bdf168b-77db-4673-9b2c-da47913f39db",
   "metadata": {},
   "outputs": [
    {
     "data": {
      "text/html": [
       "<div>\n",
       "<style scoped>\n",
       "    .dataframe tbody tr th:only-of-type {\n",
       "        vertical-align: middle;\n",
       "    }\n",
       "\n",
       "    .dataframe tbody tr th {\n",
       "        vertical-align: top;\n",
       "    }\n",
       "\n",
       "    .dataframe thead th {\n",
       "        text-align: right;\n",
       "    }\n",
       "</style>\n",
       "<table border=\"1\" class=\"dataframe\">\n",
       "  <thead>\n",
       "    <tr style=\"text-align: right;\">\n",
       "      <th></th>\n",
       "      <th>Attrition_Flag</th>\n",
       "      <th>Customer_Age</th>\n",
       "      <th>Gender</th>\n",
       "      <th>Dependent_count</th>\n",
       "      <th>Education_Level</th>\n",
       "      <th>Marital_Status</th>\n",
       "      <th>Income_Category</th>\n",
       "      <th>Card_Category</th>\n",
       "      <th>Months_on_book</th>\n",
       "      <th>Total_Relationship_Count</th>\n",
       "      <th>Months_Inactive_12_mon</th>\n",
       "      <th>Contacts_Count_12_mon</th>\n",
       "      <th>Credit_Limit</th>\n",
       "      <th>Total_Revolving_Bal</th>\n",
       "      <th>Avg_Open_To_Buy</th>\n",
       "      <th>Total_Amt_Chng_Q4_Q1</th>\n",
       "      <th>Total_Trans_Amt</th>\n",
       "      <th>Total_Trans_Ct</th>\n",
       "      <th>Total_Ct_Chng_Q4_Q1</th>\n",
       "      <th>Avg_Utilization_Ratio</th>\n",
       "    </tr>\n",
       "  </thead>\n",
       "  <tbody>\n",
       "    <tr>\n",
       "      <th>10120</th>\n",
       "      <td>1</td>\n",
       "      <td>54</td>\n",
       "      <td>1</td>\n",
       "      <td>1</td>\n",
       "      <td>High School</td>\n",
       "      <td>Single</td>\n",
       "      <td>$60K - $80K</td>\n",
       "      <td>Blue</td>\n",
       "      <td>34</td>\n",
       "      <td>5</td>\n",
       "      <td>2</td>\n",
       "      <td>0</td>\n",
       "      <td>13940.000</td>\n",
       "      <td>2109</td>\n",
       "      <td>11831.000</td>\n",
       "      <td>0.660</td>\n",
       "      <td>15577</td>\n",
       "      <td>114</td>\n",
       "      <td>0.754</td>\n",
       "      <td>0.151</td>\n",
       "    </tr>\n",
       "    <tr>\n",
       "      <th>10121</th>\n",
       "      <td>1</td>\n",
       "      <td>56</td>\n",
       "      <td>0</td>\n",
       "      <td>1</td>\n",
       "      <td>Graduate</td>\n",
       "      <td>Single</td>\n",
       "      <td>Less than $40K</td>\n",
       "      <td>Blue</td>\n",
       "      <td>50</td>\n",
       "      <td>4</td>\n",
       "      <td>1</td>\n",
       "      <td>4</td>\n",
       "      <td>3688.000</td>\n",
       "      <td>606</td>\n",
       "      <td>3082.000</td>\n",
       "      <td>0.570</td>\n",
       "      <td>14596</td>\n",
       "      <td>120</td>\n",
       "      <td>0.791</td>\n",
       "      <td>0.164</td>\n",
       "    </tr>\n",
       "    <tr>\n",
       "      <th>10122</th>\n",
       "      <td>1</td>\n",
       "      <td>50</td>\n",
       "      <td>1</td>\n",
       "      <td>2</td>\n",
       "      <td>Graduate</td>\n",
       "      <td>Single</td>\n",
       "      <td>$40K - $60K</td>\n",
       "      <td>Blue</td>\n",
       "      <td>40</td>\n",
       "      <td>3</td>\n",
       "      <td>2</td>\n",
       "      <td>3</td>\n",
       "      <td>4003.000</td>\n",
       "      <td>1851</td>\n",
       "      <td>2152.000</td>\n",
       "      <td>0.703</td>\n",
       "      <td>15476</td>\n",
       "      <td>117</td>\n",
       "      <td>0.857</td>\n",
       "      <td>0.462</td>\n",
       "    </tr>\n",
       "    <tr>\n",
       "      <th>10124</th>\n",
       "      <td>0</td>\n",
       "      <td>44</td>\n",
       "      <td>0</td>\n",
       "      <td>1</td>\n",
       "      <td>High School</td>\n",
       "      <td>Married</td>\n",
       "      <td>Less than $40K</td>\n",
       "      <td>Blue</td>\n",
       "      <td>36</td>\n",
       "      <td>5</td>\n",
       "      <td>3</td>\n",
       "      <td>4</td>\n",
       "      <td>5409.000</td>\n",
       "      <td>0</td>\n",
       "      <td>5409.000</td>\n",
       "      <td>0.819</td>\n",
       "      <td>10291</td>\n",
       "      <td>60</td>\n",
       "      <td>0.818</td>\n",
       "      <td>0.000</td>\n",
       "    </tr>\n",
       "    <tr>\n",
       "      <th>10126</th>\n",
       "      <td>0</td>\n",
       "      <td>43</td>\n",
       "      <td>0</td>\n",
       "      <td>2</td>\n",
       "      <td>Graduate</td>\n",
       "      <td>Married</td>\n",
       "      <td>Less than $40K</td>\n",
       "      <td>Silver</td>\n",
       "      <td>25</td>\n",
       "      <td>6</td>\n",
       "      <td>2</td>\n",
       "      <td>4</td>\n",
       "      <td>10388.000</td>\n",
       "      <td>1961</td>\n",
       "      <td>8427.000</td>\n",
       "      <td>0.703</td>\n",
       "      <td>10294</td>\n",
       "      <td>61</td>\n",
       "      <td>0.649</td>\n",
       "      <td>0.189</td>\n",
       "    </tr>\n",
       "  </tbody>\n",
       "</table>\n",
       "</div>"
      ],
      "text/plain": [
       "       Attrition_Flag  Customer_Age  Gender  Dependent_count Education_Level  \\\n",
       "10120               1            54       1                1     High School   \n",
       "10121               1            56       0                1        Graduate   \n",
       "10122               1            50       1                2        Graduate   \n",
       "10124               0            44       0                1     High School   \n",
       "10126               0            43       0                2        Graduate   \n",
       "\n",
       "      Marital_Status Income_Category Card_Category  Months_on_book  \\\n",
       "10120         Single     $60K - $80K          Blue              34   \n",
       "10121         Single  Less than $40K          Blue              50   \n",
       "10122         Single     $40K - $60K          Blue              40   \n",
       "10124        Married  Less than $40K          Blue              36   \n",
       "10126        Married  Less than $40K        Silver              25   \n",
       "\n",
       "       Total_Relationship_Count  Months_Inactive_12_mon  \\\n",
       "10120                         5                       2   \n",
       "10121                         4                       1   \n",
       "10122                         3                       2   \n",
       "10124                         5                       3   \n",
       "10126                         6                       2   \n",
       "\n",
       "       Contacts_Count_12_mon  Credit_Limit  Total_Revolving_Bal  \\\n",
       "10120                      0     13940.000                 2109   \n",
       "10121                      4      3688.000                  606   \n",
       "10122                      3      4003.000                 1851   \n",
       "10124                      4      5409.000                    0   \n",
       "10126                      4     10388.000                 1961   \n",
       "\n",
       "       Avg_Open_To_Buy  Total_Amt_Chng_Q4_Q1  Total_Trans_Amt  Total_Trans_Ct  \\\n",
       "10120        11831.000                 0.660            15577             114   \n",
       "10121         3082.000                 0.570            14596             120   \n",
       "10122         2152.000                 0.703            15476             117   \n",
       "10124         5409.000                 0.819            10291              60   \n",
       "10126         8427.000                 0.703            10294              61   \n",
       "\n",
       "       Total_Ct_Chng_Q4_Q1  Avg_Utilization_Ratio  \n",
       "10120                0.754                  0.151  \n",
       "10121                0.791                  0.164  \n",
       "10122                0.857                  0.462  \n",
       "10124                0.818                  0.000  \n",
       "10126                0.649                  0.189  "
      ]
     },
     "execution_count": 20,
     "metadata": {},
     "output_type": "execute_result"
    },
    {
     "data": {
      "application/javascript": [
       "\n",
       "            setTimeout(function() {\n",
       "                var nbb_cell_id = 20;\n",
       "                var nbb_unformatted_code = \"data.tail()\";\n",
       "                var nbb_formatted_code = \"data.tail()\";\n",
       "                var nbb_cells = Jupyter.notebook.get_cells();\n",
       "                for (var i = 0; i < nbb_cells.length; ++i) {\n",
       "                    if (nbb_cells[i].input_prompt_number == nbb_cell_id) {\n",
       "                        if (nbb_cells[i].get_text() == nbb_unformatted_code) {\n",
       "                             nbb_cells[i].set_text(nbb_formatted_code);\n",
       "                        }\n",
       "                        break;\n",
       "                    }\n",
       "                }\n",
       "            }, 500);\n",
       "            "
      ],
      "text/plain": [
       "<IPython.core.display.Javascript object>"
      ]
     },
     "metadata": {},
     "output_type": "display_data"
    }
   ],
   "source": [
    "data.tail()"
   ]
  },
  {
   "cell_type": "code",
   "execution_count": 21,
   "id": "3547971e-c9d4-49ff-9084-f6fa24eb2482",
   "metadata": {},
   "outputs": [
    {
     "data": {
      "text/plain": [
       "Index(['Education_Level', 'Marital_Status', 'Income_Category',\n",
       "       'Card_Category'],\n",
       "      dtype='object')"
      ]
     },
     "execution_count": 21,
     "metadata": {},
     "output_type": "execute_result"
    },
    {
     "data": {
      "application/javascript": [
       "\n",
       "            setTimeout(function() {\n",
       "                var nbb_cell_id = 21;\n",
       "                var nbb_unformatted_code = \"# filtering non-numeric columns\\ncat_columns = data.select_dtypes(exclude=np.number).columns\\ncat_columns\";\n",
       "                var nbb_formatted_code = \"# filtering non-numeric columns\\ncat_columns = data.select_dtypes(exclude=np.number).columns\\ncat_columns\";\n",
       "                var nbb_cells = Jupyter.notebook.get_cells();\n",
       "                for (var i = 0; i < nbb_cells.length; ++i) {\n",
       "                    if (nbb_cells[i].input_prompt_number == nbb_cell_id) {\n",
       "                        if (nbb_cells[i].get_text() == nbb_unformatted_code) {\n",
       "                             nbb_cells[i].set_text(nbb_formatted_code);\n",
       "                        }\n",
       "                        break;\n",
       "                    }\n",
       "                }\n",
       "            }, 500);\n",
       "            "
      ],
      "text/plain": [
       "<IPython.core.display.Javascript object>"
      ]
     },
     "metadata": {},
     "output_type": "display_data"
    }
   ],
   "source": [
    "# filtering non-numeric columns\n",
    "cat_columns = data.select_dtypes(exclude=np.number).columns\n",
    "cat_columns"
   ]
  },
  {
   "cell_type": "code",
   "execution_count": 22,
   "id": "4da1db29-6571-4e17-856e-a440264347f7",
   "metadata": {},
   "outputs": [
    {
     "data": {
      "application/javascript": [
       "\n",
       "            setTimeout(function() {\n",
       "                var nbb_cell_id = 22;\n",
       "                var nbb_unformatted_code = \"## Converting the data type of categorical features to 'category'\\ncat_cols = [\\n    'Education_Level', 'Marital_Status', 'Income_Category',\\n       'Card_Category', 'Attrition_Flag', 'Gender'\\n]\";\n",
       "                var nbb_formatted_code = \"## Converting the data type of categorical features to 'category'\\ncat_cols = [\\n    \\\"Education_Level\\\",\\n    \\\"Marital_Status\\\",\\n    \\\"Income_Category\\\",\\n    \\\"Card_Category\\\",\\n    \\\"Attrition_Flag\\\",\\n    \\\"Gender\\\",\\n]\";\n",
       "                var nbb_cells = Jupyter.notebook.get_cells();\n",
       "                for (var i = 0; i < nbb_cells.length; ++i) {\n",
       "                    if (nbb_cells[i].input_prompt_number == nbb_cell_id) {\n",
       "                        if (nbb_cells[i].get_text() == nbb_unformatted_code) {\n",
       "                             nbb_cells[i].set_text(nbb_formatted_code);\n",
       "                        }\n",
       "                        break;\n",
       "                    }\n",
       "                }\n",
       "            }, 500);\n",
       "            "
      ],
      "text/plain": [
       "<IPython.core.display.Javascript object>"
      ]
     },
     "metadata": {},
     "output_type": "display_data"
    }
   ],
   "source": [
    "## Converting the data type of categorical features to 'category'\n",
    "cat_cols = [\n",
    "    \"Education_Level\",\n",
    "    \"Marital_Status\",\n",
    "    \"Income_Category\",\n",
    "    \"Card_Category\",\n",
    "    \"Attrition_Flag\",\n",
    "    \"Gender\",\n",
    "]"
   ]
  },
  {
   "cell_type": "code",
   "execution_count": 23,
   "id": "6748a6e5-b145-466a-b256-1d6d6d9bea21",
   "metadata": {
    "tags": []
   },
   "outputs": [
    {
     "data": {
      "text/plain": [
       "Education_Level    6\n",
       "Marital_Status     3\n",
       "Income_Category    6\n",
       "Card_Category      4\n",
       "Attrition_Flag     2\n",
       "Gender             2\n",
       "dtype: int64"
      ]
     },
     "execution_count": 23,
     "metadata": {},
     "output_type": "execute_result"
    },
    {
     "data": {
      "application/javascript": [
       "\n",
       "            setTimeout(function() {\n",
       "                var nbb_cell_id = 23;\n",
       "                var nbb_unformatted_code = \"data[cat_cols].nunique()\";\n",
       "                var nbb_formatted_code = \"data[cat_cols].nunique()\";\n",
       "                var nbb_cells = Jupyter.notebook.get_cells();\n",
       "                for (var i = 0; i < nbb_cells.length; ++i) {\n",
       "                    if (nbb_cells[i].input_prompt_number == nbb_cell_id) {\n",
       "                        if (nbb_cells[i].get_text() == nbb_unformatted_code) {\n",
       "                             nbb_cells[i].set_text(nbb_formatted_code);\n",
       "                        }\n",
       "                        break;\n",
       "                    }\n",
       "                }\n",
       "            }, 500);\n",
       "            "
      ],
      "text/plain": [
       "<IPython.core.display.Javascript object>"
      ]
     },
     "metadata": {},
     "output_type": "display_data"
    }
   ],
   "source": [
    "data[cat_cols].nunique()"
   ]
  },
  {
   "cell_type": "code",
   "execution_count": 24,
   "id": "4ffa6fc5-1a68-45ff-bf27-ae4b748e8a53",
   "metadata": {
    "tags": []
   },
   "outputs": [
    {
     "name": "stdout",
     "output_type": "stream",
     "text": [
      "Graduate         2901\n",
      "High School      1859\n",
      "Uneducated       1378\n",
      "College           939\n",
      "Post-Graduate     473\n",
      "Doctorate         423\n",
      "Name: Education_Level, dtype: int64\n",
      "\n",
      "\n",
      "\n",
      "Married     3999\n",
      "Single      3322\n",
      "Divorced     652\n",
      "Name: Marital_Status, dtype: int64\n",
      "\n",
      "\n",
      "\n",
      "Less than $40K    2792\n",
      "$40K - $60K       1412\n",
      "$80K - $120K      1202\n",
      "$60K - $80K       1103\n",
      "abc                892\n",
      "$120K +            572\n",
      "Name: Income_Category, dtype: int64\n",
      "\n",
      "\n",
      "\n",
      "Blue        7441\n",
      "Silver       428\n",
      "Gold          88\n",
      "Platinum      16\n",
      "Name: Card_Category, dtype: int64\n",
      "\n",
      "\n",
      "\n"
     ]
    },
    {
     "data": {
      "application/javascript": [
       "\n",
       "            setTimeout(function() {\n",
       "                var nbb_cell_id = 24;\n",
       "                var nbb_unformatted_code = \"# looking at value counts for non-numeric features\\n\\nnum_to_display = 19  # defining this up here so it's easy to change later if I want\\nfor colname in data.dtypes[data.dtypes == 'object'].index:\\n    val_counts = data[colname].value_counts(dropna=False)  # i want to see NA counts\\n    print(val_counts[:num_to_display])\\n    if len(val_counts) > num_to_display:\\n        print(f'Only displaying first {num_to_display} of {len(val_counts)} values.')\\n    print('\\\\n\\\\n') # just for more space between \";\n",
       "                var nbb_formatted_code = \"# looking at value counts for non-numeric features\\n\\nnum_to_display = 19  # defining this up here so it's easy to change later if I want\\nfor colname in data.dtypes[data.dtypes == \\\"object\\\"].index:\\n    val_counts = data[colname].value_counts(dropna=False)  # i want to see NA counts\\n    print(val_counts[:num_to_display])\\n    if len(val_counts) > num_to_display:\\n        print(f\\\"Only displaying first {num_to_display} of {len(val_counts)} values.\\\")\\n    print(\\\"\\\\n\\\\n\\\")  # just for more space between\";\n",
       "                var nbb_cells = Jupyter.notebook.get_cells();\n",
       "                for (var i = 0; i < nbb_cells.length; ++i) {\n",
       "                    if (nbb_cells[i].input_prompt_number == nbb_cell_id) {\n",
       "                        if (nbb_cells[i].get_text() == nbb_unformatted_code) {\n",
       "                             nbb_cells[i].set_text(nbb_formatted_code);\n",
       "                        }\n",
       "                        break;\n",
       "                    }\n",
       "                }\n",
       "            }, 500);\n",
       "            "
      ],
      "text/plain": [
       "<IPython.core.display.Javascript object>"
      ]
     },
     "metadata": {},
     "output_type": "display_data"
    }
   ],
   "source": [
    "# looking at value counts for non-numeric features\n",
    "\n",
    "num_to_display = 19  # defining this up here so it's easy to change later if I want\n",
    "for colname in data.dtypes[data.dtypes == \"object\"].index:\n",
    "    val_counts = data[colname].value_counts(dropna=False)  # i want to see NA counts\n",
    "    print(val_counts[:num_to_display])\n",
    "    if len(val_counts) > num_to_display:\n",
    "        print(f\"Only displaying first {num_to_display} of {len(val_counts)} values.\")\n",
    "    print(\"\\n\\n\")  # just for more space between"
   ]
  },
  {
   "cell_type": "code",
   "execution_count": 25,
   "id": "a110851b-0c0a-4453-84e6-680770d43f22",
   "metadata": {
    "tags": []
   },
   "outputs": [
    {
     "data": {
      "application/javascript": [
       "\n",
       "            setTimeout(function() {\n",
       "                var nbb_cell_id = 25;\n",
       "                var nbb_unformatted_code = \"#Converting the data type of each categorical variable to 'category'\\nfor column in cat_cols:\\n    data[column]=data[column].astype('category')\";\n",
       "                var nbb_formatted_code = \"# Converting the data type of each categorical variable to 'category'\\nfor column in cat_cols:\\n    data[column] = data[column].astype(\\\"category\\\")\";\n",
       "                var nbb_cells = Jupyter.notebook.get_cells();\n",
       "                for (var i = 0; i < nbb_cells.length; ++i) {\n",
       "                    if (nbb_cells[i].input_prompt_number == nbb_cell_id) {\n",
       "                        if (nbb_cells[i].get_text() == nbb_unformatted_code) {\n",
       "                             nbb_cells[i].set_text(nbb_formatted_code);\n",
       "                        }\n",
       "                        break;\n",
       "                    }\n",
       "                }\n",
       "            }, 500);\n",
       "            "
      ],
      "text/plain": [
       "<IPython.core.display.Javascript object>"
      ]
     },
     "metadata": {},
     "output_type": "display_data"
    }
   ],
   "source": [
    "# Converting the data type of each categorical variable to 'category'\n",
    "for column in cat_cols:\n",
    "    data[column] = data[column].astype(\"category\")"
   ]
  },
  {
   "cell_type": "code",
   "execution_count": 26,
   "id": "cc0890f3-3ad8-41f7-9262-56f996410d97",
   "metadata": {},
   "outputs": [
    {
     "data": {
      "application/javascript": [
       "\n",
       "            setTimeout(function() {\n",
       "                var nbb_cell_id = 26;\n",
       "                var nbb_unformatted_code = \"#drop abc rows \\ndata = data[data.Income_Category != \\\"abc\\\"]\";\n",
       "                var nbb_formatted_code = \"# drop abc rows\\ndata = data[data.Income_Category != \\\"abc\\\"]\";\n",
       "                var nbb_cells = Jupyter.notebook.get_cells();\n",
       "                for (var i = 0; i < nbb_cells.length; ++i) {\n",
       "                    if (nbb_cells[i].input_prompt_number == nbb_cell_id) {\n",
       "                        if (nbb_cells[i].get_text() == nbb_unformatted_code) {\n",
       "                             nbb_cells[i].set_text(nbb_formatted_code);\n",
       "                        }\n",
       "                        break;\n",
       "                    }\n",
       "                }\n",
       "            }, 500);\n",
       "            "
      ],
      "text/plain": [
       "<IPython.core.display.Javascript object>"
      ]
     },
     "metadata": {},
     "output_type": "display_data"
    }
   ],
   "source": [
    "# drop abc rows\n",
    "data = data[data.Income_Category != \"abc\"]"
   ]
  },
  {
   "cell_type": "code",
   "execution_count": 27,
   "id": "99f7bd83-9438-4ee3-8def-1082e7a7aedc",
   "metadata": {},
   "outputs": [
    {
     "name": "stdout",
     "output_type": "stream",
     "text": [
      "<class 'pandas.core.frame.DataFrame'>\n",
      "Int64Index: 7081 entries, 0 to 10126\n",
      "Data columns (total 20 columns):\n",
      " #   Column                    Non-Null Count  Dtype   \n",
      "---  ------                    --------------  -----   \n",
      " 0   Attrition_Flag            7081 non-null   category\n",
      " 1   Customer_Age              7081 non-null   int64   \n",
      " 2   Gender                    7081 non-null   category\n",
      " 3   Dependent_count           7081 non-null   int64   \n",
      " 4   Education_Level           7081 non-null   category\n",
      " 5   Marital_Status            7081 non-null   category\n",
      " 6   Income_Category           7081 non-null   category\n",
      " 7   Card_Category             7081 non-null   category\n",
      " 8   Months_on_book            7081 non-null   int64   \n",
      " 9   Total_Relationship_Count  7081 non-null   int64   \n",
      " 10  Months_Inactive_12_mon    7081 non-null   int64   \n",
      " 11  Contacts_Count_12_mon     7081 non-null   int64   \n",
      " 12  Credit_Limit              7081 non-null   float64 \n",
      " 13  Total_Revolving_Bal       7081 non-null   int64   \n",
      " 14  Avg_Open_To_Buy           7081 non-null   float64 \n",
      " 15  Total_Amt_Chng_Q4_Q1      7081 non-null   float64 \n",
      " 16  Total_Trans_Amt           7081 non-null   int64   \n",
      " 17  Total_Trans_Ct            7081 non-null   int64   \n",
      " 18  Total_Ct_Chng_Q4_Q1       7081 non-null   float64 \n",
      " 19  Avg_Utilization_Ratio     7081 non-null   float64 \n",
      "dtypes: category(6), float64(5), int64(9)\n",
      "memory usage: 872.3 KB\n"
     ]
    },
    {
     "data": {
      "application/javascript": [
       "\n",
       "            setTimeout(function() {\n",
       "                var nbb_cell_id = 27;\n",
       "                var nbb_unformatted_code = \"data.info()\";\n",
       "                var nbb_formatted_code = \"data.info()\";\n",
       "                var nbb_cells = Jupyter.notebook.get_cells();\n",
       "                for (var i = 0; i < nbb_cells.length; ++i) {\n",
       "                    if (nbb_cells[i].input_prompt_number == nbb_cell_id) {\n",
       "                        if (nbb_cells[i].get_text() == nbb_unformatted_code) {\n",
       "                             nbb_cells[i].set_text(nbb_formatted_code);\n",
       "                        }\n",
       "                        break;\n",
       "                    }\n",
       "                }\n",
       "            }, 500);\n",
       "            "
      ],
      "text/plain": [
       "<IPython.core.display.Javascript object>"
      ]
     },
     "metadata": {},
     "output_type": "display_data"
    }
   ],
   "source": [
    "data.info()"
   ]
  },
  {
   "cell_type": "markdown",
   "id": "0a7b2596-1759-4a4e-af2d-52afa1b76626",
   "metadata": {},
   "source": [
    "- Total memory decreased from 1.3 MB to 872.3 KB."
   ]
  },
  {
   "cell_type": "code",
   "execution_count": 28,
   "id": "b5d5f5da-ee42-4873-911d-51e833d7ea7f",
   "metadata": {},
   "outputs": [
    {
     "data": {
      "text/plain": [
       "(7081, 20)"
      ]
     },
     "execution_count": 28,
     "metadata": {},
     "output_type": "execute_result"
    },
    {
     "data": {
      "application/javascript": [
       "\n",
       "            setTimeout(function() {\n",
       "                var nbb_cell_id = 28;\n",
       "                var nbb_unformatted_code = \"data.shape\";\n",
       "                var nbb_formatted_code = \"data.shape\";\n",
       "                var nbb_cells = Jupyter.notebook.get_cells();\n",
       "                for (var i = 0; i < nbb_cells.length; ++i) {\n",
       "                    if (nbb_cells[i].input_prompt_number == nbb_cell_id) {\n",
       "                        if (nbb_cells[i].get_text() == nbb_unformatted_code) {\n",
       "                             nbb_cells[i].set_text(nbb_formatted_code);\n",
       "                        }\n",
       "                        break;\n",
       "                    }\n",
       "                }\n",
       "            }, 500);\n",
       "            "
      ],
      "text/plain": [
       "<IPython.core.display.Javascript object>"
      ]
     },
     "metadata": {},
     "output_type": "display_data"
    }
   ],
   "source": [
    "data.shape"
   ]
  },
  {
   "cell_type": "markdown",
   "id": "8637a90b-8982-4a83-b87f-39daadd14338",
   "metadata": {},
   "source": [
    "#### Summary of the data"
   ]
  },
  {
   "cell_type": "code",
   "execution_count": 29,
   "id": "f84c7aaf-1362-4143-b939-6efbdcc87139",
   "metadata": {},
   "outputs": [
    {
     "data": {
      "text/html": [
       "<div>\n",
       "<style scoped>\n",
       "    .dataframe tbody tr th:only-of-type {\n",
       "        vertical-align: middle;\n",
       "    }\n",
       "\n",
       "    .dataframe tbody tr th {\n",
       "        vertical-align: top;\n",
       "    }\n",
       "\n",
       "    .dataframe thead th {\n",
       "        text-align: right;\n",
       "    }\n",
       "</style>\n",
       "<table border=\"1\" class=\"dataframe\">\n",
       "  <thead>\n",
       "    <tr style=\"text-align: right;\">\n",
       "      <th></th>\n",
       "      <th>count</th>\n",
       "      <th>mean</th>\n",
       "      <th>std</th>\n",
       "      <th>min</th>\n",
       "      <th>25%</th>\n",
       "      <th>50%</th>\n",
       "      <th>75%</th>\n",
       "      <th>max</th>\n",
       "    </tr>\n",
       "  </thead>\n",
       "  <tbody>\n",
       "    <tr>\n",
       "      <th>Customer_Age</th>\n",
       "      <td>7081.000</td>\n",
       "      <td>46.348</td>\n",
       "      <td>8.041</td>\n",
       "      <td>26.000</td>\n",
       "      <td>41.000</td>\n",
       "      <td>46.000</td>\n",
       "      <td>52.000</td>\n",
       "      <td>73.000</td>\n",
       "    </tr>\n",
       "    <tr>\n",
       "      <th>Dependent_count</th>\n",
       "      <td>7081.000</td>\n",
       "      <td>2.338</td>\n",
       "      <td>1.292</td>\n",
       "      <td>0.000</td>\n",
       "      <td>1.000</td>\n",
       "      <td>2.000</td>\n",
       "      <td>3.000</td>\n",
       "      <td>5.000</td>\n",
       "    </tr>\n",
       "    <tr>\n",
       "      <th>Months_on_book</th>\n",
       "      <td>7081.000</td>\n",
       "      <td>35.981</td>\n",
       "      <td>8.003</td>\n",
       "      <td>13.000</td>\n",
       "      <td>31.000</td>\n",
       "      <td>36.000</td>\n",
       "      <td>40.000</td>\n",
       "      <td>56.000</td>\n",
       "    </tr>\n",
       "    <tr>\n",
       "      <th>Total_Relationship_Count</th>\n",
       "      <td>7081.000</td>\n",
       "      <td>3.819</td>\n",
       "      <td>1.544</td>\n",
       "      <td>1.000</td>\n",
       "      <td>3.000</td>\n",
       "      <td>4.000</td>\n",
       "      <td>5.000</td>\n",
       "      <td>6.000</td>\n",
       "    </tr>\n",
       "    <tr>\n",
       "      <th>Months_Inactive_12_mon</th>\n",
       "      <td>7081.000</td>\n",
       "      <td>2.343</td>\n",
       "      <td>0.995</td>\n",
       "      <td>0.000</td>\n",
       "      <td>2.000</td>\n",
       "      <td>2.000</td>\n",
       "      <td>3.000</td>\n",
       "      <td>6.000</td>\n",
       "    </tr>\n",
       "    <tr>\n",
       "      <th>Contacts_Count_12_mon</th>\n",
       "      <td>7081.000</td>\n",
       "      <td>2.454</td>\n",
       "      <td>1.105</td>\n",
       "      <td>0.000</td>\n",
       "      <td>2.000</td>\n",
       "      <td>2.000</td>\n",
       "      <td>3.000</td>\n",
       "      <td>6.000</td>\n",
       "    </tr>\n",
       "    <tr>\n",
       "      <th>Credit_Limit</th>\n",
       "      <td>7081.000</td>\n",
       "      <td>8492.774</td>\n",
       "      <td>9126.073</td>\n",
       "      <td>1438.300</td>\n",
       "      <td>2498.000</td>\n",
       "      <td>4287.000</td>\n",
       "      <td>10729.000</td>\n",
       "      <td>34516.000</td>\n",
       "    </tr>\n",
       "    <tr>\n",
       "      <th>Total_Revolving_Bal</th>\n",
       "      <td>7081.000</td>\n",
       "      <td>1167.502</td>\n",
       "      <td>812.316</td>\n",
       "      <td>0.000</td>\n",
       "      <td>463.000</td>\n",
       "      <td>1282.000</td>\n",
       "      <td>1781.000</td>\n",
       "      <td>2517.000</td>\n",
       "    </tr>\n",
       "    <tr>\n",
       "      <th>Avg_Open_To_Buy</th>\n",
       "      <td>7081.000</td>\n",
       "      <td>7325.272</td>\n",
       "      <td>9131.218</td>\n",
       "      <td>3.000</td>\n",
       "      <td>1248.000</td>\n",
       "      <td>3250.000</td>\n",
       "      <td>9491.000</td>\n",
       "      <td>34516.000</td>\n",
       "    </tr>\n",
       "    <tr>\n",
       "      <th>Total_Amt_Chng_Q4_Q1</th>\n",
       "      <td>7081.000</td>\n",
       "      <td>0.761</td>\n",
       "      <td>0.223</td>\n",
       "      <td>0.000</td>\n",
       "      <td>0.629</td>\n",
       "      <td>0.735</td>\n",
       "      <td>0.858</td>\n",
       "      <td>3.397</td>\n",
       "    </tr>\n",
       "    <tr>\n",
       "      <th>Total_Trans_Amt</th>\n",
       "      <td>7081.000</td>\n",
       "      <td>4394.300</td>\n",
       "      <td>3468.462</td>\n",
       "      <td>510.000</td>\n",
       "      <td>2089.000</td>\n",
       "      <td>3831.000</td>\n",
       "      <td>4740.000</td>\n",
       "      <td>17995.000</td>\n",
       "    </tr>\n",
       "    <tr>\n",
       "      <th>Total_Trans_Ct</th>\n",
       "      <td>7081.000</td>\n",
       "      <td>64.503</td>\n",
       "      <td>23.809</td>\n",
       "      <td>10.000</td>\n",
       "      <td>44.000</td>\n",
       "      <td>67.000</td>\n",
       "      <td>80.000</td>\n",
       "      <td>134.000</td>\n",
       "    </tr>\n",
       "    <tr>\n",
       "      <th>Total_Ct_Chng_Q4_Q1</th>\n",
       "      <td>7081.000</td>\n",
       "      <td>0.712</td>\n",
       "      <td>0.239</td>\n",
       "      <td>0.000</td>\n",
       "      <td>0.583</td>\n",
       "      <td>0.700</td>\n",
       "      <td>0.818</td>\n",
       "      <td>3.714</td>\n",
       "    </tr>\n",
       "    <tr>\n",
       "      <th>Avg_Utilization_Ratio</th>\n",
       "      <td>7081.000</td>\n",
       "      <td>0.282</td>\n",
       "      <td>0.279</td>\n",
       "      <td>0.000</td>\n",
       "      <td>0.026</td>\n",
       "      <td>0.186</td>\n",
       "      <td>0.515</td>\n",
       "      <td>0.999</td>\n",
       "    </tr>\n",
       "  </tbody>\n",
       "</table>\n",
       "</div>"
      ],
      "text/plain": [
       "                            count     mean      std      min      25%  \\\n",
       "Customer_Age             7081.000   46.348    8.041   26.000   41.000   \n",
       "Dependent_count          7081.000    2.338    1.292    0.000    1.000   \n",
       "Months_on_book           7081.000   35.981    8.003   13.000   31.000   \n",
       "Total_Relationship_Count 7081.000    3.819    1.544    1.000    3.000   \n",
       "Months_Inactive_12_mon   7081.000    2.343    0.995    0.000    2.000   \n",
       "Contacts_Count_12_mon    7081.000    2.454    1.105    0.000    2.000   \n",
       "Credit_Limit             7081.000 8492.774 9126.073 1438.300 2498.000   \n",
       "Total_Revolving_Bal      7081.000 1167.502  812.316    0.000  463.000   \n",
       "Avg_Open_To_Buy          7081.000 7325.272 9131.218    3.000 1248.000   \n",
       "Total_Amt_Chng_Q4_Q1     7081.000    0.761    0.223    0.000    0.629   \n",
       "Total_Trans_Amt          7081.000 4394.300 3468.462  510.000 2089.000   \n",
       "Total_Trans_Ct           7081.000   64.503   23.809   10.000   44.000   \n",
       "Total_Ct_Chng_Q4_Q1      7081.000    0.712    0.239    0.000    0.583   \n",
       "Avg_Utilization_Ratio    7081.000    0.282    0.279    0.000    0.026   \n",
       "\n",
       "                              50%       75%       max  \n",
       "Customer_Age               46.000    52.000    73.000  \n",
       "Dependent_count             2.000     3.000     5.000  \n",
       "Months_on_book             36.000    40.000    56.000  \n",
       "Total_Relationship_Count    4.000     5.000     6.000  \n",
       "Months_Inactive_12_mon      2.000     3.000     6.000  \n",
       "Contacts_Count_12_mon       2.000     3.000     6.000  \n",
       "Credit_Limit             4287.000 10729.000 34516.000  \n",
       "Total_Revolving_Bal      1282.000  1781.000  2517.000  \n",
       "Avg_Open_To_Buy          3250.000  9491.000 34516.000  \n",
       "Total_Amt_Chng_Q4_Q1        0.735     0.858     3.397  \n",
       "Total_Trans_Amt          3831.000  4740.000 17995.000  \n",
       "Total_Trans_Ct             67.000    80.000   134.000  \n",
       "Total_Ct_Chng_Q4_Q1         0.700     0.818     3.714  \n",
       "Avg_Utilization_Ratio       0.186     0.515     0.999  "
      ]
     },
     "execution_count": 29,
     "metadata": {},
     "output_type": "execute_result"
    },
    {
     "data": {
      "application/javascript": [
       "\n",
       "            setTimeout(function() {\n",
       "                var nbb_cell_id = 29;\n",
       "                var nbb_unformatted_code = \"data.describe().T\";\n",
       "                var nbb_formatted_code = \"data.describe().T\";\n",
       "                var nbb_cells = Jupyter.notebook.get_cells();\n",
       "                for (var i = 0; i < nbb_cells.length; ++i) {\n",
       "                    if (nbb_cells[i].input_prompt_number == nbb_cell_id) {\n",
       "                        if (nbb_cells[i].get_text() == nbb_unformatted_code) {\n",
       "                             nbb_cells[i].set_text(nbb_formatted_code);\n",
       "                        }\n",
       "                        break;\n",
       "                    }\n",
       "                }\n",
       "            }, 500);\n",
       "            "
      ],
      "text/plain": [
       "<IPython.core.display.Javascript object>"
      ]
     },
     "metadata": {},
     "output_type": "display_data"
    }
   ],
   "source": [
    "data.describe().T"
   ]
  },
  {
   "cell_type": "markdown",
   "id": "191ab7f8-3678-4608-b087-e481c5966d02",
   "metadata": {},
   "source": [
    "### EDA"
   ]
  },
  {
   "cell_type": "markdown",
   "id": "9bd871b1-55ab-47b4-a1a9-6c30224df585",
   "metadata": {},
   "source": [
    "#### Univariate analysis"
   ]
  },
  {
   "cell_type": "code",
   "execution_count": 30,
   "id": "b641c3ad-c174-40b2-9131-bef29e1ce917",
   "metadata": {},
   "outputs": [
    {
     "data": {
      "application/javascript": [
       "\n",
       "            setTimeout(function() {\n",
       "                var nbb_cell_id = 30;\n",
       "                var nbb_unformatted_code = \"# function to plot a boxplot and a histogram along the same scale.\\n\\n\\ndef histogram_boxplot(data, feature, figsize=(12, 7), kde=False, bins=None):\\n    \\\"\\\"\\\"\\n    Boxplot and histogram combined\\n\\n    data: dataframe\\n    feature: dataframe column\\n    figsize: size of figure (default (12,7))\\n    kde: whether to show the density curve (default False)\\n    bins: number of bins for histogram (default None)\\n    \\\"\\\"\\\"\\n    f2, (ax_box2, ax_hist2) = plt.subplots(\\n        nrows=2,  # Number of rows of the subplot grid= 2\\n        sharex=True,  # x-axis will be shared among all subplots\\n        gridspec_kw={\\\"height_ratios\\\": (0.25, 0.75)},\\n        figsize=figsize,\\n    )  # creating the 2 subplots\\n    sns.boxplot(\\n        data=data, x=feature, ax=ax_box2, showmeans=True, color=\\\"violet\\\"\\n    )  # boxplot will be created and a star will indicate the mean value of the column\\n    sns.histplot(\\n        data=data, x=feature, kde=kde, ax=ax_hist2, bins=bins, palette=\\\"winter\\\"\\n    ) if bins else sns.histplot(\\n        data=data, x=feature, kde=kde, ax=ax_hist2\\n    )  # For histogram\\n    ax_hist2.axvline(\\n        data[feature].mean(), color=\\\"green\\\", linestyle=\\\"--\\\"\\n    )  # Add mean to the histogram\\n    ax_hist2.axvline(\\n        data[feature].median(), color=\\\"black\\\", linestyle=\\\"-\\\"\\n    )  # Add median to the histogram\";\n",
       "                var nbb_formatted_code = \"# function to plot a boxplot and a histogram along the same scale.\\n\\n\\ndef histogram_boxplot(data, feature, figsize=(12, 7), kde=False, bins=None):\\n    \\\"\\\"\\\"\\n    Boxplot and histogram combined\\n\\n    data: dataframe\\n    feature: dataframe column\\n    figsize: size of figure (default (12,7))\\n    kde: whether to show the density curve (default False)\\n    bins: number of bins for histogram (default None)\\n    \\\"\\\"\\\"\\n    f2, (ax_box2, ax_hist2) = plt.subplots(\\n        nrows=2,  # Number of rows of the subplot grid= 2\\n        sharex=True,  # x-axis will be shared among all subplots\\n        gridspec_kw={\\\"height_ratios\\\": (0.25, 0.75)},\\n        figsize=figsize,\\n    )  # creating the 2 subplots\\n    sns.boxplot(\\n        data=data, x=feature, ax=ax_box2, showmeans=True, color=\\\"violet\\\"\\n    )  # boxplot will be created and a star will indicate the mean value of the column\\n    sns.histplot(\\n        data=data, x=feature, kde=kde, ax=ax_hist2, bins=bins, palette=\\\"winter\\\"\\n    ) if bins else sns.histplot(\\n        data=data, x=feature, kde=kde, ax=ax_hist2\\n    )  # For histogram\\n    ax_hist2.axvline(\\n        data[feature].mean(), color=\\\"green\\\", linestyle=\\\"--\\\"\\n    )  # Add mean to the histogram\\n    ax_hist2.axvline(\\n        data[feature].median(), color=\\\"black\\\", linestyle=\\\"-\\\"\\n    )  # Add median to the histogram\";\n",
       "                var nbb_cells = Jupyter.notebook.get_cells();\n",
       "                for (var i = 0; i < nbb_cells.length; ++i) {\n",
       "                    if (nbb_cells[i].input_prompt_number == nbb_cell_id) {\n",
       "                        if (nbb_cells[i].get_text() == nbb_unformatted_code) {\n",
       "                             nbb_cells[i].set_text(nbb_formatted_code);\n",
       "                        }\n",
       "                        break;\n",
       "                    }\n",
       "                }\n",
       "            }, 500);\n",
       "            "
      ],
      "text/plain": [
       "<IPython.core.display.Javascript object>"
      ]
     },
     "metadata": {},
     "output_type": "display_data"
    }
   ],
   "source": [
    "# function to plot a boxplot and a histogram along the same scale.\n",
    "\n",
    "\n",
    "def histogram_boxplot(data, feature, figsize=(12, 7), kde=False, bins=None):\n",
    "    \"\"\"\n",
    "    Boxplot and histogram combined\n",
    "\n",
    "    data: dataframe\n",
    "    feature: dataframe column\n",
    "    figsize: size of figure (default (12,7))\n",
    "    kde: whether to show the density curve (default False)\n",
    "    bins: number of bins for histogram (default None)\n",
    "    \"\"\"\n",
    "    f2, (ax_box2, ax_hist2) = plt.subplots(\n",
    "        nrows=2,  # Number of rows of the subplot grid= 2\n",
    "        sharex=True,  # x-axis will be shared among all subplots\n",
    "        gridspec_kw={\"height_ratios\": (0.25, 0.75)},\n",
    "        figsize=figsize,\n",
    "    )  # creating the 2 subplots\n",
    "    sns.boxplot(\n",
    "        data=data, x=feature, ax=ax_box2, showmeans=True, color=\"violet\"\n",
    "    )  # boxplot will be created and a star will indicate the mean value of the column\n",
    "    sns.histplot(\n",
    "        data=data, x=feature, kde=kde, ax=ax_hist2, bins=bins, palette=\"winter\"\n",
    "    ) if bins else sns.histplot(\n",
    "        data=data, x=feature, kde=kde, ax=ax_hist2\n",
    "    )  # For histogram\n",
    "    ax_hist2.axvline(\n",
    "        data[feature].mean(), color=\"green\", linestyle=\"--\"\n",
    "    )  # Add mean to the histogram\n",
    "    ax_hist2.axvline(\n",
    "        data[feature].median(), color=\"black\", linestyle=\"-\"\n",
    "    )  # Add median to the histogram"
   ]
  },
  {
   "cell_type": "code",
   "execution_count": 31,
   "id": "6f53a4ea-aad7-4006-a80e-9ba9be754f04",
   "metadata": {},
   "outputs": [
    {
     "data": {
      "image/png": "[encoded data removed]",
      "text/plain": [
       "<Figure size 864x504 with 2 Axes>"
      ]
     },
     "metadata": {
      "needs_background": "light"
     },
     "output_type": "display_data"
    },
    {
     "data": {
      "application/javascript": [
       "\n",
       "            setTimeout(function() {\n",
       "                var nbb_cell_id = 31;\n",
       "                var nbb_unformatted_code = \"histogram_boxplot(data, 'Customer_Age')\";\n",
       "                var nbb_formatted_code = \"histogram_boxplot(data, \\\"Customer_Age\\\")\";\n",
       "                var nbb_cells = Jupyter.notebook.get_cells();\n",
       "                for (var i = 0; i < nbb_cells.length; ++i) {\n",
       "                    if (nbb_cells[i].input_prompt_number == nbb_cell_id) {\n",
       "                        if (nbb_cells[i].get_text() == nbb_unformatted_code) {\n",
       "                             nbb_cells[i].set_text(nbb_formatted_code);\n",
       "                        }\n",
       "                        break;\n",
       "                    }\n",
       "                }\n",
       "            }, 500);\n",
       "            "
      ],
      "text/plain": [
       "<IPython.core.display.Javascript object>"
      ]
     },
     "metadata": {},
     "output_type": "display_data"
    }
   ],
   "source": [
    "histogram_boxplot(data, \"Customer_Age\")"
   ]
  },
  {
   "cell_type": "markdown",
   "id": "6209d027-b571-4dda-bf07-da952166fae3",
   "metadata": {},
   "source": [
    "- Age is almost balanced but still slightly right skewed."
   ]
  },
  {
   "cell_type": "code",
   "execution_count": 32,
   "id": "8fd000de-f6e3-4f40-b9d6-527dfade7cbc",
   "metadata": {},
   "outputs": [
    {
     "data": {
      "image/png": "[encoded data removed]",
      "text/plain": [
       "<Figure size 864x504 with 2 Axes>"
      ]
     },
     "metadata": {
      "needs_background": "light"
     },
     "output_type": "display_data"
    },
    {
     "data": {
      "application/javascript": [
       "\n",
       "            setTimeout(function() {\n",
       "                var nbb_cell_id = 32;\n",
       "                var nbb_unformatted_code = \"histogram_boxplot(data, 'Total_Revolving_Bal')\";\n",
       "                var nbb_formatted_code = \"histogram_boxplot(data, \\\"Total_Revolving_Bal\\\")\";\n",
       "                var nbb_cells = Jupyter.notebook.get_cells();\n",
       "                for (var i = 0; i < nbb_cells.length; ++i) {\n",
       "                    if (nbb_cells[i].input_prompt_number == nbb_cell_id) {\n",
       "                        if (nbb_cells[i].get_text() == nbb_unformatted_code) {\n",
       "                             nbb_cells[i].set_text(nbb_formatted_code);\n",
       "                        }\n",
       "                        break;\n",
       "                    }\n",
       "                }\n",
       "            }, 500);\n",
       "            "
      ],
      "text/plain": [
       "<IPython.core.display.Javascript object>"
      ]
     },
     "metadata": {},
     "output_type": "display_data"
    }
   ],
   "source": [
    "histogram_boxplot(data, \"Total_Revolving_Bal\")"
   ]
  },
  {
   "cell_type": "markdown",
   "id": "bf06a999-ba58-4930-b10d-fb1091032766",
   "metadata": {},
   "source": [
    "- Balanced"
   ]
  },
  {
   "cell_type": "code",
   "execution_count": 33,
   "id": "a0176bc6-a86b-4d8b-b73d-665000dc00a9",
   "metadata": {},
   "outputs": [
    {
     "data": {
      "image/png": "[encoded data removed]",
      "text/plain": [
       "<Figure size 864x504 with 2 Axes>"
      ]
     },
     "metadata": {
      "needs_background": "light"
     },
     "output_type": "display_data"
    },
    {
     "data": {
      "application/javascript": [
       "\n",
       "            setTimeout(function() {\n",
       "                var nbb_cell_id = 33;\n",
       "                var nbb_unformatted_code = \"histogram_boxplot(data, 'Avg_Open_To_Buy')\";\n",
       "                var nbb_formatted_code = \"histogram_boxplot(data, \\\"Avg_Open_To_Buy\\\")\";\n",
       "                var nbb_cells = Jupyter.notebook.get_cells();\n",
       "                for (var i = 0; i < nbb_cells.length; ++i) {\n",
       "                    if (nbb_cells[i].input_prompt_number == nbb_cell_id) {\n",
       "                        if (nbb_cells[i].get_text() == nbb_unformatted_code) {\n",
       "                             nbb_cells[i].set_text(nbb_formatted_code);\n",
       "                        }\n",
       "                        break;\n",
       "                    }\n",
       "                }\n",
       "            }, 500);\n",
       "            "
      ],
      "text/plain": [
       "<IPython.core.display.Javascript object>"
      ]
     },
     "metadata": {},
     "output_type": "display_data"
    }
   ],
   "source": [
    "histogram_boxplot(data, \"Avg_Open_To_Buy\")"
   ]
  },
  {
   "cell_type": "markdown",
   "id": "fbab43aa-cc9a-4ea2-bba1-2301125fb2f4",
   "metadata": {},
   "source": [
    "- Right skewed."
   ]
  },
  {
   "cell_type": "code",
   "execution_count": 34,
   "id": "e847a715-ca4e-47a9-b0f8-02eb5bcabbf0",
   "metadata": {},
   "outputs": [
    {
     "data": {
      "image/png": "[encoded data removed]",
      "text/plain": [
       "<Figure size 864x504 with 2 Axes>"
      ]
     },
     "metadata": {
      "needs_background": "light"
     },
     "output_type": "display_data"
    },
    {
     "data": {
      "application/javascript": [
       "\n",
       "            setTimeout(function() {\n",
       "                var nbb_cell_id = 34;\n",
       "                var nbb_unformatted_code = \"histogram_boxplot(data, 'Total_Amt_Chng_Q4_Q1')\";\n",
       "                var nbb_formatted_code = \"histogram_boxplot(data, \\\"Total_Amt_Chng_Q4_Q1\\\")\";\n",
       "                var nbb_cells = Jupyter.notebook.get_cells();\n",
       "                for (var i = 0; i < nbb_cells.length; ++i) {\n",
       "                    if (nbb_cells[i].input_prompt_number == nbb_cell_id) {\n",
       "                        if (nbb_cells[i].get_text() == nbb_unformatted_code) {\n",
       "                             nbb_cells[i].set_text(nbb_formatted_code);\n",
       "                        }\n",
       "                        break;\n",
       "                    }\n",
       "                }\n",
       "            }, 500);\n",
       "            "
      ],
      "text/plain": [
       "<IPython.core.display.Javascript object>"
      ]
     },
     "metadata": {},
     "output_type": "display_data"
    }
   ],
   "source": [
    "histogram_boxplot(data, \"Total_Amt_Chng_Q4_Q1\")"
   ]
  },
  {
   "cell_type": "code",
   "execution_count": 35,
   "id": "0f74aa8f-a369-4c03-984c-104734030f0b",
   "metadata": {},
   "outputs": [
    {
     "data": {
      "image/png": "[encoded data removed]",
      "text/plain": [
       "<Figure size 864x504 with 2 Axes>"
      ]
     },
     "metadata": {
      "needs_background": "light"
     },
     "output_type": "display_data"
    },
    {
     "data": {
      "application/javascript": [
       "\n",
       "            setTimeout(function() {\n",
       "                var nbb_cell_id = 35;\n",
       "                var nbb_unformatted_code = \"histogram_boxplot(data, 'Total_Trans_Amt')\";\n",
       "                var nbb_formatted_code = \"histogram_boxplot(data, \\\"Total_Trans_Amt\\\")\";\n",
       "                var nbb_cells = Jupyter.notebook.get_cells();\n",
       "                for (var i = 0; i < nbb_cells.length; ++i) {\n",
       "                    if (nbb_cells[i].input_prompt_number == nbb_cell_id) {\n",
       "                        if (nbb_cells[i].get_text() == nbb_unformatted_code) {\n",
       "                             nbb_cells[i].set_text(nbb_formatted_code);\n",
       "                        }\n",
       "                        break;\n",
       "                    }\n",
       "                }\n",
       "            }, 500);\n",
       "            "
      ],
      "text/plain": [
       "<IPython.core.display.Javascript object>"
      ]
     },
     "metadata": {},
     "output_type": "display_data"
    }
   ],
   "source": [
    "histogram_boxplot(data, \"Total_Trans_Amt\")"
   ]
  },
  {
   "cell_type": "code",
   "execution_count": 36,
   "id": "86e38767-d916-484d-86d8-b3bd85b2e3a4",
   "metadata": {},
   "outputs": [
    {
     "data": {
      "image/png": "[encoded data removed]",
      "text/plain": [
       "<Figure size 864x504 with 2 Axes>"
      ]
     },
     "metadata": {
      "needs_background": "light"
     },
     "output_type": "display_data"
    },
    {
     "data": {
      "application/javascript": [
       "\n",
       "            setTimeout(function() {\n",
       "                var nbb_cell_id = 36;\n",
       "                var nbb_unformatted_code = \"histogram_boxplot(data, 'Total_Trans_Ct')\";\n",
       "                var nbb_formatted_code = \"histogram_boxplot(data, \\\"Total_Trans_Ct\\\")\";\n",
       "                var nbb_cells = Jupyter.notebook.get_cells();\n",
       "                for (var i = 0; i < nbb_cells.length; ++i) {\n",
       "                    if (nbb_cells[i].input_prompt_number == nbb_cell_id) {\n",
       "                        if (nbb_cells[i].get_text() == nbb_unformatted_code) {\n",
       "                             nbb_cells[i].set_text(nbb_formatted_code);\n",
       "                        }\n",
       "                        break;\n",
       "                    }\n",
       "                }\n",
       "            }, 500);\n",
       "            "
      ],
      "text/plain": [
       "<IPython.core.display.Javascript object>"
      ]
     },
     "metadata": {},
     "output_type": "display_data"
    }
   ],
   "source": [
    "histogram_boxplot(data, \"Total_Trans_Ct\")"
   ]
  },
  {
   "cell_type": "code",
   "execution_count": 37,
   "id": "b00f7eb1-b8a6-44b6-a175-ef33f5c55ad7",
   "metadata": {},
   "outputs": [
    {
     "data": {
      "image/png": "[encoded data removed]",
      "text/plain": [
       "<Figure size 864x504 with 2 Axes>"
      ]
     },
     "metadata": {
      "needs_background": "light"
     },
     "output_type": "display_data"
    },
    {
     "data": {
      "application/javascript": [
       "\n",
       "            setTimeout(function() {\n",
       "                var nbb_cell_id = 37;\n",
       "                var nbb_unformatted_code = \"histogram_boxplot(data, 'Total_Ct_Chng_Q4_Q1')\";\n",
       "                var nbb_formatted_code = \"histogram_boxplot(data, \\\"Total_Ct_Chng_Q4_Q1\\\")\";\n",
       "                var nbb_cells = Jupyter.notebook.get_cells();\n",
       "                for (var i = 0; i < nbb_cells.length; ++i) {\n",
       "                    if (nbb_cells[i].input_prompt_number == nbb_cell_id) {\n",
       "                        if (nbb_cells[i].get_text() == nbb_unformatted_code) {\n",
       "                             nbb_cells[i].set_text(nbb_formatted_code);\n",
       "                        }\n",
       "                        break;\n",
       "                    }\n",
       "                }\n",
       "            }, 500);\n",
       "            "
      ],
      "text/plain": [
       "<IPython.core.display.Javascript object>"
      ]
     },
     "metadata": {},
     "output_type": "display_data"
    }
   ],
   "source": [
    "histogram_boxplot(data, \"Total_Ct_Chng_Q4_Q1\")"
   ]
  },
  {
   "cell_type": "code",
   "execution_count": 38,
   "id": "c1672819-2a43-4ade-95bb-665df1d29e5d",
   "metadata": {},
   "outputs": [
    {
     "data": {
      "image/png": "[encoded data removed]",
      "text/plain": [
       "<Figure size 864x504 with 2 Axes>"
      ]
     },
     "metadata": {
      "needs_background": "light"
     },
     "output_type": "display_data"
    },
    {
     "data": {
      "application/javascript": [
       "\n",
       "            setTimeout(function() {\n",
       "                var nbb_cell_id = 38;\n",
       "                var nbb_unformatted_code = \"histogram_boxplot(data, 'Avg_Utilization_Ratio')\";\n",
       "                var nbb_formatted_code = \"histogram_boxplot(data, \\\"Avg_Utilization_Ratio\\\")\";\n",
       "                var nbb_cells = Jupyter.notebook.get_cells();\n",
       "                for (var i = 0; i < nbb_cells.length; ++i) {\n",
       "                    if (nbb_cells[i].input_prompt_number == nbb_cell_id) {\n",
       "                        if (nbb_cells[i].get_text() == nbb_unformatted_code) {\n",
       "                             nbb_cells[i].set_text(nbb_formatted_code);\n",
       "                        }\n",
       "                        break;\n",
       "                    }\n",
       "                }\n",
       "            }, 500);\n",
       "            "
      ],
      "text/plain": [
       "<IPython.core.display.Javascript object>"
      ]
     },
     "metadata": {},
     "output_type": "display_data"
    }
   ],
   "source": [
    "histogram_boxplot(data, \"Avg_Utilization_Ratio\")"
   ]
  },
  {
   "cell_type": "markdown",
   "id": "ab0dea82-a248-4e52-b914-fc80a43ef237",
   "metadata": {},
   "source": [
    "#### Bivariate"
   ]
  },
  {
   "cell_type": "markdown",
   "id": "792740ae-ffa9-468d-96f6-6edf543ad84f",
   "metadata": {},
   "source": [
    "##### What card does has the most loyal customers?"
   ]
  },
  {
   "cell_type": "code",
   "execution_count": 39,
   "id": "16859975-461b-49e7-9887-bbb996f05683",
   "metadata": {},
   "outputs": [
    {
     "data": {
      "image/png": "[encoded data removed]",
      "text/plain": [
       "<Figure size 504x504 with 1 Axes>"
      ]
     },
     "metadata": {},
     "output_type": "display_data"
    },
    {
     "data": {
      "application/javascript": [
       "\n",
       "            setTimeout(function() {\n",
       "                var nbb_cell_id = 39;\n",
       "                var nbb_unformatted_code = \"sns.set(rc={'figure.figsize':(7,7)})\\nsns.heatmap(data.corr(),\\n            annot=True,\\n            linewidths=.5,\\n            center=0,\\n            cbar=False,\\n            cmap=\\\"Spectral\\\",\\n            fmt='0.2f')\\nplt.show()\";\n",
       "                var nbb_formatted_code = \"sns.set(rc={\\\"figure.figsize\\\": (7, 7)})\\nsns.heatmap(\\n    data.corr(),\\n    annot=True,\\n    linewidths=0.5,\\n    center=0,\\n    cbar=False,\\n    cmap=\\\"Spectral\\\",\\n    fmt=\\\"0.2f\\\",\\n)\\nplt.show()\";\n",
       "                var nbb_cells = Jupyter.notebook.get_cells();\n",
       "                for (var i = 0; i < nbb_cells.length; ++i) {\n",
       "                    if (nbb_cells[i].input_prompt_number == nbb_cell_id) {\n",
       "                        if (nbb_cells[i].get_text() == nbb_unformatted_code) {\n",
       "                             nbb_cells[i].set_text(nbb_formatted_code);\n",
       "                        }\n",
       "                        break;\n",
       "                    }\n",
       "                }\n",
       "            }, 500);\n",
       "            "
      ],
      "text/plain": [
       "<IPython.core.display.Javascript object>"
      ]
     },
     "metadata": {},
     "output_type": "display_data"
    }
   ],
   "source": [
    "sns.set(rc={\"figure.figsize\": (7, 7)})\n",
    "sns.heatmap(\n",
    "    data.corr(),\n",
    "    annot=True,\n",
    "    linewidths=0.5,\n",
    "    center=0,\n",
    "    cbar=False,\n",
    "    cmap=\"Spectral\",\n",
    "    fmt=\"0.2f\",\n",
    ")\n",
    "plt.show()"
   ]
  },
  {
   "cell_type": "markdown",
   "id": "615af39c-008c-4359-b218-994b22814dc3",
   "metadata": {},
   "source": [
    "- Total revolving balance and Avg_Ultiization_Ratio have the highest positive correlation. "
   ]
  },
  {
   "cell_type": "markdown",
   "id": "1df117ba-de04-4163-9dc1-4c6aef55f669",
   "metadata": {},
   "source": [
    "#### Split Data:"
   ]
  },
  {
   "cell_type": "code",
   "execution_count": 40,
   "id": "22d40d70-7303-4e02-9fec-84316e4f3f67",
   "metadata": {},
   "outputs": [
    {
     "data": {
      "application/javascript": [
       "\n",
       "            setTimeout(function() {\n",
       "                var nbb_cell_id = 40;\n",
       "                var nbb_unformatted_code = \"data1 = data.copy()\";\n",
       "                var nbb_formatted_code = \"data1 = data.copy()\";\n",
       "                var nbb_cells = Jupyter.notebook.get_cells();\n",
       "                for (var i = 0; i < nbb_cells.length; ++i) {\n",
       "                    if (nbb_cells[i].input_prompt_number == nbb_cell_id) {\n",
       "                        if (nbb_cells[i].get_text() == nbb_unformatted_code) {\n",
       "                             nbb_cells[i].set_text(nbb_formatted_code);\n",
       "                        }\n",
       "                        break;\n",
       "                    }\n",
       "                }\n",
       "            }, 500);\n",
       "            "
      ],
      "text/plain": [
       "<IPython.core.display.Javascript object>"
      ]
     },
     "metadata": {},
     "output_type": "display_data"
    }
   ],
   "source": [
    "data1 = data.copy()"
   ]
  },
  {
   "cell_type": "code",
   "execution_count": 41,
   "id": "df1ef47d-d015-4ab3-8348-fd38de5dc98b",
   "metadata": {},
   "outputs": [
    {
     "data": {
      "application/javascript": [
       "\n",
       "            setTimeout(function() {\n",
       "                var nbb_cell_id = 41;\n",
       "                var nbb_unformatted_code = \"X = data1.drop(columns=\\\"Attrition_Flag\\\")\\nX = pd.get_dummies(X)\\n\\ny = data1[\\\"Attrition_Flag\\\"]\";\n",
       "                var nbb_formatted_code = \"X = data1.drop(columns=\\\"Attrition_Flag\\\")\\nX = pd.get_dummies(X)\\n\\ny = data1[\\\"Attrition_Flag\\\"]\";\n",
       "                var nbb_cells = Jupyter.notebook.get_cells();\n",
       "                for (var i = 0; i < nbb_cells.length; ++i) {\n",
       "                    if (nbb_cells[i].input_prompt_number == nbb_cell_id) {\n",
       "                        if (nbb_cells[i].get_text() == nbb_unformatted_code) {\n",
       "                             nbb_cells[i].set_text(nbb_formatted_code);\n",
       "                        }\n",
       "                        break;\n",
       "                    }\n",
       "                }\n",
       "            }, 500);\n",
       "            "
      ],
      "text/plain": [
       "<IPython.core.display.Javascript object>"
      ]
     },
     "metadata": {},
     "output_type": "display_data"
    }
   ],
   "source": [
    "X = data1.drop(columns=\"Attrition_Flag\")\n",
    "X = pd.get_dummies(X)\n",
    "\n",
    "y = data1[\"Attrition_Flag\"]"
   ]
  },
  {
   "cell_type": "code",
   "execution_count": 42,
   "id": "edc11d2e-ec1f-4fb1-8e57-53b418ff1cc1",
   "metadata": {},
   "outputs": [
    {
     "name": "stdout",
     "output_type": "stream",
     "text": [
      "(4531, 35) (1133, 35) (1417, 35)\n"
     ]
    },
    {
     "data": {
      "application/javascript": [
       "\n",
       "            setTimeout(function() {\n",
       "                var nbb_cell_id = 42;\n",
       "                var nbb_unformatted_code = \"# Splitting data into training, validation and test set:\\n\\n# first we split data into 2 parts, say temporary and test\\nX_temp, X_test, y_temp, y_test = train_test_split(\\n    X, y, test_size=0.2, random_state=5, stratify=y\\n)\\n\\n# then we split the temporary set into train and validation\\nX_train, X_val, y_train, y_val = train_test_split(\\n    X_temp, y_temp, test_size=0.2, random_state=5, stratify=y_temp\\n)\\n\\nprint(X_train.shape, X_val.shape, X_test.shape)\";\n",
       "                var nbb_formatted_code = \"# Splitting data into training, validation and test set:\\n\\n# first we split data into 2 parts, say temporary and test\\nX_temp, X_test, y_temp, y_test = train_test_split(\\n    X, y, test_size=0.2, random_state=5, stratify=y\\n)\\n\\n# then we split the temporary set into train and validation\\nX_train, X_val, y_train, y_val = train_test_split(\\n    X_temp, y_temp, test_size=0.2, random_state=5, stratify=y_temp\\n)\\n\\nprint(X_train.shape, X_val.shape, X_test.shape)\";\n",
       "                var nbb_cells = Jupyter.notebook.get_cells();\n",
       "                for (var i = 0; i < nbb_cells.length; ++i) {\n",
       "                    if (nbb_cells[i].input_prompt_number == nbb_cell_id) {\n",
       "                        if (nbb_cells[i].get_text() == nbb_unformatted_code) {\n",
       "                             nbb_cells[i].set_text(nbb_formatted_code);\n",
       "                        }\n",
       "                        break;\n",
       "                    }\n",
       "                }\n",
       "            }, 500);\n",
       "            "
      ],
      "text/plain": [
       "<IPython.core.display.Javascript object>"
      ]
     },
     "metadata": {},
     "output_type": "display_data"
    }
   ],
   "source": [
    "# Splitting data into training, validation and test set:\n",
    "\n",
    "# first we split data into 2 parts, say temporary and test\n",
    "X_temp, X_test, y_temp, y_test = train_test_split(\n",
    "    X, y, test_size=0.2, random_state=5, stratify=y\n",
    ")\n",
    "\n",
    "# then we split the temporary set into train and validation\n",
    "X_train, X_val, y_train, y_val = train_test_split(\n",
    "    X_temp, y_temp, test_size=0.2, random_state=5, stratify=y_temp\n",
    ")\n",
    "\n",
    "print(X_train.shape, X_val.shape, X_test.shape)"
   ]
  },
  {
   "cell_type": "code",
   "execution_count": 43,
   "id": "9e4bea9e-ed89-4d1b-9023-277b3d979891",
   "metadata": {},
   "outputs": [
    {
     "name": "stdout",
     "output_type": "stream",
     "text": [
      "Target value ratio in y\n",
      "1   0.843\n",
      "0   0.157\n",
      "Name: Attrition_Flag, dtype: float64\n",
      "********************************************************************************\n",
      "Target value ratio in y_train\n",
      "1   0.843\n",
      "0   0.157\n",
      "Name: Attrition_Flag, dtype: float64\n",
      "********************************************************************************\n",
      "Target value ratio in y_val\n",
      "1   0.843\n",
      "0   0.157\n",
      "Name: Attrition_Flag, dtype: float64\n",
      "********************************************************************************\n",
      "Target value ratio in y_test\n",
      "1   0.843\n",
      "0   0.157\n",
      "Name: Attrition_Flag, dtype: float64\n",
      "********************************************************************************\n"
     ]
    },
    {
     "data": {
      "application/javascript": [
       "\n",
       "            setTimeout(function() {\n",
       "                var nbb_cell_id = 43;\n",
       "                var nbb_unformatted_code = \"# Checking class balance for whole data, train set, validation set, and test set\\n\\nprint(\\\"Target value ratio in y\\\")\\nprint(y.value_counts(1))\\nprint(\\\"*\\\" * 80)\\nprint(\\\"Target value ratio in y_train\\\")\\nprint(y_train.value_counts(1))\\nprint(\\\"*\\\" * 80)\\nprint(\\\"Target value ratio in y_val\\\")\\nprint(y_val.value_counts(1))\\nprint(\\\"*\\\" * 80)\\nprint(\\\"Target value ratio in y_test\\\")\\nprint(y_test.value_counts(1))\\nprint(\\\"*\\\" * 80)\";\n",
       "                var nbb_formatted_code = \"# Checking class balance for whole data, train set, validation set, and test set\\n\\nprint(\\\"Target value ratio in y\\\")\\nprint(y.value_counts(1))\\nprint(\\\"*\\\" * 80)\\nprint(\\\"Target value ratio in y_train\\\")\\nprint(y_train.value_counts(1))\\nprint(\\\"*\\\" * 80)\\nprint(\\\"Target value ratio in y_val\\\")\\nprint(y_val.value_counts(1))\\nprint(\\\"*\\\" * 80)\\nprint(\\\"Target value ratio in y_test\\\")\\nprint(y_test.value_counts(1))\\nprint(\\\"*\\\" * 80)\";\n",
       "                var nbb_cells = Jupyter.notebook.get_cells();\n",
       "                for (var i = 0; i < nbb_cells.length; ++i) {\n",
       "                    if (nbb_cells[i].input_prompt_number == nbb_cell_id) {\n",
       "                        if (nbb_cells[i].get_text() == nbb_unformatted_code) {\n",
       "                             nbb_cells[i].set_text(nbb_formatted_code);\n",
       "                        }\n",
       "                        break;\n",
       "                    }\n",
       "                }\n",
       "            }, 500);\n",
       "            "
      ],
      "text/plain": [
       "<IPython.core.display.Javascript object>"
      ]
     },
     "metadata": {},
     "output_type": "display_data"
    }
   ],
   "source": [
    "# Checking class balance for whole data, train set, validation set, and test set\n",
    "\n",
    "print(\"Target value ratio in y\")\n",
    "print(y.value_counts(1))\n",
    "print(\"*\" * 80)\n",
    "print(\"Target value ratio in y_train\")\n",
    "print(y_train.value_counts(1))\n",
    "print(\"*\" * 80)\n",
    "print(\"Target value ratio in y_val\")\n",
    "print(y_val.value_counts(1))\n",
    "print(\"*\" * 80)\n",
    "print(\"Target value ratio in y_test\")\n",
    "print(y_test.value_counts(1))\n",
    "print(\"*\" * 80)"
   ]
  },
  {
   "cell_type": "markdown",
   "id": "94f07264-b9a9-4d5a-8889-73fe35782976",
   "metadata": {},
   "source": [
    "#### Storing the models:"
   ]
  },
  {
   "cell_type": "code",
   "execution_count": 44,
   "id": "3ee72c78-b82e-455e-b14f-fc54e39e7009",
   "metadata": {},
   "outputs": [
    {
     "name": "stdout",
     "output_type": "stream",
     "text": [
      "\n",
      "Cross-Validation Performance:\n",
      "\n",
      "Bagging: 97.17236315728078\n",
      "Random forest: 98.87413969382364\n",
      "Logistic Regression: 96.4653510186437\n",
      "GBM: 98.87413969382364\n",
      "Adaboost: 97.93138822366932\n",
      "Xgboost: 98.6385375995828\n",
      "\n",
      "Training Performance:\n",
      "\n",
      "Bagging: 99.8167059439644\n",
      "Random forest: 100.0\n",
      "Logistic Regression: 96.62215239591517\n",
      "GBM: 99.45011783189317\n",
      "Adaboost: 98.27179890023567\n",
      "Xgboost: 100.0\n"
     ]
    },
    {
     "data": {
      "application/javascript": [
       "\n",
       "            setTimeout(function() {\n",
       "                var nbb_cell_id = 44;\n",
       "                var nbb_unformatted_code = \"models = []  # Empty list to store all the models\\n\\n# Appending models into the list\\nmodels.append((\\\"Bagging\\\", BaggingClassifier(random_state=1)))\\nmodels.append((\\\"Random forest\\\", RandomForestClassifier(random_state=1)))\\nmodels.append((\\\"Logistic Regression\\\", LogisticRegression(random_state=1)))\\nmodels.append((\\\"GBM\\\", GradientBoostingClassifier(random_state=1)))\\nmodels.append((\\\"Adaboost\\\", AdaBoostClassifier(random_state=1)))\\nmodels.append((\\\"Xgboost\\\", XGBClassifier(random_state=1, eval_metric=\\\"logloss\\\")))\\n\\nresults = []  # Empty list to store all model's CV scores\\nnames = []  # Empty list to store name of the models\\n\\n\\n# loop through all models to get the mean cross validated score\\nprint(\\\"\\\\n\\\" \\\"Cross-Validation Performance:\\\" \\\"\\\\n\\\")\\n\\nfor name, model in models:\\n    scoring = \\\"recall\\\"\\n    kfold = StratifiedKFold(\\n        n_splits=5, shuffle=True, random_state=1\\n    )  # Setting number of splits equal to 5\\n    cv_result = cross_val_score(\\n        estimator=model, X=X_train, y=y_train, scoring=scoring, cv=kfold\\n    )\\n    results.append(cv_result)\\n    names.append(name)\\n    print(\\\"{}: {}\\\".format(name, cv_result.mean() * 100))\\n\\nprint(\\\"\\\\n\\\" \\\"Training Performance:\\\" \\\"\\\\n\\\")\\n\\nfor name, model in models:\\n    model.fit(X_train, y_train)\\n    scores = recall_score(y_train, model.predict(X_train)) * 100\\n    print(\\\"{}: {}\\\".format(name, scores))\";\n",
       "                var nbb_formatted_code = \"models = []  # Empty list to store all the models\\n\\n# Appending models into the list\\nmodels.append((\\\"Bagging\\\", BaggingClassifier(random_state=1)))\\nmodels.append((\\\"Random forest\\\", RandomForestClassifier(random_state=1)))\\nmodels.append((\\\"Logistic Regression\\\", LogisticRegression(random_state=1)))\\nmodels.append((\\\"GBM\\\", GradientBoostingClassifier(random_state=1)))\\nmodels.append((\\\"Adaboost\\\", AdaBoostClassifier(random_state=1)))\\nmodels.append((\\\"Xgboost\\\", XGBClassifier(random_state=1, eval_metric=\\\"logloss\\\")))\\n\\nresults = []  # Empty list to store all model's CV scores\\nnames = []  # Empty list to store name of the models\\n\\n\\n# loop through all models to get the mean cross validated score\\nprint(\\\"\\\\n\\\" \\\"Cross-Validation Performance:\\\" \\\"\\\\n\\\")\\n\\nfor name, model in models:\\n    scoring = \\\"recall\\\"\\n    kfold = StratifiedKFold(\\n        n_splits=5, shuffle=True, random_state=1\\n    )  # Setting number of splits equal to 5\\n    cv_result = cross_val_score(\\n        estimator=model, X=X_train, y=y_train, scoring=scoring, cv=kfold\\n    )\\n    results.append(cv_result)\\n    names.append(name)\\n    print(\\\"{}: {}\\\".format(name, cv_result.mean() * 100))\\n\\nprint(\\\"\\\\n\\\" \\\"Training Performance:\\\" \\\"\\\\n\\\")\\n\\nfor name, model in models:\\n    model.fit(X_train, y_train)\\n    scores = recall_score(y_train, model.predict(X_train)) * 100\\n    print(\\\"{}: {}\\\".format(name, scores))\";\n",
       "                var nbb_cells = Jupyter.notebook.get_cells();\n",
       "                for (var i = 0; i < nbb_cells.length; ++i) {\n",
       "                    if (nbb_cells[i].input_prompt_number == nbb_cell_id) {\n",
       "                        if (nbb_cells[i].get_text() == nbb_unformatted_code) {\n",
       "                             nbb_cells[i].set_text(nbb_formatted_code);\n",
       "                        }\n",
       "                        break;\n",
       "                    }\n",
       "                }\n",
       "            }, 500);\n",
       "            "
      ],
      "text/plain": [
       "<IPython.core.display.Javascript object>"
      ]
     },
     "metadata": {},
     "output_type": "display_data"
    }
   ],
   "source": [
    "models = []  # Empty list to store all the models\n",
    "\n",
    "# Appending models into the list\n",
    "models.append((\"Bagging\", BaggingClassifier(random_state=1)))\n",
    "models.append((\"Random forest\", RandomForestClassifier(random_state=1)))\n",
    "models.append((\"Logistic Regression\", LogisticRegression(random_state=1)))\n",
    "models.append((\"GBM\", GradientBoostingClassifier(random_state=1)))\n",
    "models.append((\"Adaboost\", AdaBoostClassifier(random_state=1)))\n",
    "models.append((\"Xgboost\", XGBClassifier(random_state=1, eval_metric=\"logloss\")))\n",
    "\n",
    "results = []  # Empty list to store all model's CV scores\n",
    "names = []  # Empty list to store name of the models\n",
    "\n",
    "\n",
    "# loop through all models to get the mean cross validated score\n",
    "print(\"\\n\" \"Cross-Validation Performance:\" \"\\n\")\n",
    "\n",
    "for name, model in models:\n",
    "    scoring = \"recall\"\n",
    "    kfold = StratifiedKFold(\n",
    "        n_splits=5, shuffle=True, random_state=1\n",
    "    )  # Setting number of splits equal to 5\n",
    "    cv_result = cross_val_score(\n",
    "        estimator=model, X=X_train, y=y_train, scoring=scoring, cv=kfold\n",
    "    )\n",
    "    results.append(cv_result)\n",
    "    names.append(name)\n",
    "    print(\"{}: {}\".format(name, cv_result.mean() * 100))\n",
    "\n",
    "print(\"\\n\" \"Training Performance:\" \"\\n\")\n",
    "\n",
    "for name, model in models:\n",
    "    model.fit(X_train, y_train)\n",
    "    scores = recall_score(y_train, model.predict(X_train)) * 100\n",
    "    print(\"{}: {}\".format(name, scores))"
   ]
  },
  {
   "cell_type": "markdown",
   "id": "32ef36e8-05fa-4eee-98bf-03d41fb89410",
   "metadata": {},
   "source": [
    "##### Plotting the models:"
   ]
  },
  {
   "cell_type": "code",
   "execution_count": 45,
   "id": "a57485b9-d68c-45ec-aea8-690ec1375a2a",
   "metadata": {},
   "outputs": [
    {
     "data": {
      "image/png": "[encoded data removed]",
      "text/plain": [
       "<Figure size 720x504 with 1 Axes>"
      ]
     },
     "metadata": {},
     "output_type": "display_data"
    },
    {
     "data": {
      "application/javascript": [
       "\n",
       "            setTimeout(function() {\n",
       "                var nbb_cell_id = 45;\n",
       "                var nbb_unformatted_code = \"# Plotting boxplots for CV scores of all models defined above\\nfig = plt.figure(figsize=(10, 7))\\n\\nfig.suptitle(\\\"Algorithm Comparison\\\")\\nax = fig.add_subplot(111)\\n\\nplt.boxplot(results)\\nax.set_xticklabels(names)\\n\\nplt.show()\";\n",
       "                var nbb_formatted_code = \"# Plotting boxplots for CV scores of all models defined above\\nfig = plt.figure(figsize=(10, 7))\\n\\nfig.suptitle(\\\"Algorithm Comparison\\\")\\nax = fig.add_subplot(111)\\n\\nplt.boxplot(results)\\nax.set_xticklabels(names)\\n\\nplt.show()\";\n",
       "                var nbb_cells = Jupyter.notebook.get_cells();\n",
       "                for (var i = 0; i < nbb_cells.length; ++i) {\n",
       "                    if (nbb_cells[i].input_prompt_number == nbb_cell_id) {\n",
       "                        if (nbb_cells[i].get_text() == nbb_unformatted_code) {\n",
       "                             nbb_cells[i].set_text(nbb_formatted_code);\n",
       "                        }\n",
       "                        break;\n",
       "                    }\n",
       "                }\n",
       "            }, 500);\n",
       "            "
      ],
      "text/plain": [
       "<IPython.core.display.Javascript object>"
      ]
     },
     "metadata": {},
     "output_type": "display_data"
    }
   ],
   "source": [
    "# Plotting boxplots for CV scores of all models defined above\n",
    "fig = plt.figure(figsize=(10, 7))\n",
    "\n",
    "fig.suptitle(\"Algorithm Comparison\")\n",
    "ax = fig.add_subplot(111)\n",
    "\n",
    "plt.boxplot(results)\n",
    "ax.set_xticklabels(names)\n",
    "\n",
    "plt.show()"
   ]
  },
  {
   "cell_type": "markdown",
   "id": "102a8ce1-ca00-4826-a6a1-83eff97cbfde",
   "metadata": {},
   "source": [
    "- Random Forest, GBM, and Xgboost will be tuned. because they have the best performance."
   ]
  },
  {
   "cell_type": "markdown",
   "id": "e54983b3-0b62-4e51-bfe2-d3d028553f84",
   "metadata": {},
   "source": [
    "#### Functions:"
   ]
  },
  {
   "cell_type": "code",
   "execution_count": 46,
   "id": "10b7b0cb-21b1-44b0-a59b-2d07e3e9eae8",
   "metadata": {},
   "outputs": [
    {
     "data": {
      "application/javascript": [
       "\n",
       "            setTimeout(function() {\n",
       "                var nbb_cell_id = 46;\n",
       "                var nbb_unformatted_code = \"##  Function to calculate r2_score and RMSE on train and test data\\ndef get_model_score(model, flag=True):\\n    '''\\n    model : classifier to predict values of X\\n\\n    '''\\n    # defining an empty list to store train and test results\\n    score_list=[] \\n    \\n    pred_train = model.predict(X_train)\\n    pred_test = model.predict(X_test)\\n    \\n    train_r2=metrics.r2_score(y_train,pred_train)\\n    test_r2=metrics.r2_score(y_test,pred_test)\\n    train_rmse=np.sqrt(metrics.mean_squared_error(y_train,pred_train))\\n    test_rmse=np.sqrt(metrics.mean_squared_error(y_test,pred_test))\\n    \\n    #Adding all scores in the list\\n    score_list.extend((train_r2,test_r2,train_rmse,test_rmse))\\n    \\n    # If the flag is set to True then only the following print statements will be dispayed, the default value is True\\n    if flag==True: \\n        print(\\\"R-sqaure on training set : \\\",metrics.r2_score(y_train,pred_train))\\n        print(\\\"R-square on test set : \\\",metrics.r2_score(y_test,pred_test))\\n        print(\\\"RMSE on training set : \\\",np.sqrt(metrics.mean_squared_error(y_train,pred_train)))\\n        print(\\\"RMSE on test set : \\\",np.sqrt(metrics.mean_squared_error(y_test,pred_test)))\\n    \\n    # returning the list with train and test scores\\n    return score_list\";\n",
       "                var nbb_formatted_code = \"##  Function to calculate r2_score and RMSE on train and test data\\ndef get_model_score(model, flag=True):\\n    \\\"\\\"\\\"\\n    model : classifier to predict values of X\\n\\n    \\\"\\\"\\\"\\n    # defining an empty list to store train and test results\\n    score_list = []\\n\\n    pred_train = model.predict(X_train)\\n    pred_test = model.predict(X_test)\\n\\n    train_r2 = metrics.r2_score(y_train, pred_train)\\n    test_r2 = metrics.r2_score(y_test, pred_test)\\n    train_rmse = np.sqrt(metrics.mean_squared_error(y_train, pred_train))\\n    test_rmse = np.sqrt(metrics.mean_squared_error(y_test, pred_test))\\n\\n    # Adding all scores in the list\\n    score_list.extend((train_r2, test_r2, train_rmse, test_rmse))\\n\\n    # If the flag is set to True then only the following print statements will be dispayed, the default value is True\\n    if flag == True:\\n        print(\\\"R-sqaure on training set : \\\", metrics.r2_score(y_train, pred_train))\\n        print(\\\"R-square on test set : \\\", metrics.r2_score(y_test, pred_test))\\n        print(\\n            \\\"RMSE on training set : \\\",\\n            np.sqrt(metrics.mean_squared_error(y_train, pred_train)),\\n        )\\n        print(\\n            \\\"RMSE on test set : \\\",\\n            np.sqrt(metrics.mean_squared_error(y_test, pred_test)),\\n        )\\n\\n    # returning the list with train and test scores\\n    return score_list\";\n",
       "                var nbb_cells = Jupyter.notebook.get_cells();\n",
       "                for (var i = 0; i < nbb_cells.length; ++i) {\n",
       "                    if (nbb_cells[i].input_prompt_number == nbb_cell_id) {\n",
       "                        if (nbb_cells[i].get_text() == nbb_unformatted_code) {\n",
       "                             nbb_cells[i].set_text(nbb_formatted_code);\n",
       "                        }\n",
       "                        break;\n",
       "                    }\n",
       "                }\n",
       "            }, 500);\n",
       "            "
      ],
      "text/plain": [
       "<IPython.core.display.Javascript object>"
      ]
     },
     "metadata": {},
     "output_type": "display_data"
    }
   ],
   "source": [
    "##  Function to calculate r2_score and RMSE on train and test data\n",
    "def get_model_score(model, flag=True):\n",
    "    \"\"\"\n",
    "    model : classifier to predict values of X\n",
    "\n",
    "    \"\"\"\n",
    "    # defining an empty list to store train and test results\n",
    "    score_list = []\n",
    "\n",
    "    pred_train = model.predict(X_train)\n",
    "    pred_test = model.predict(X_test)\n",
    "\n",
    "    train_r2 = metrics.r2_score(y_train, pred_train)\n",
    "    test_r2 = metrics.r2_score(y_test, pred_test)\n",
    "    train_rmse = np.sqrt(metrics.mean_squared_error(y_train, pred_train))\n",
    "    test_rmse = np.sqrt(metrics.mean_squared_error(y_test, pred_test))\n",
    "\n",
    "    # Adding all scores in the list\n",
    "    score_list.extend((train_r2, test_r2, train_rmse, test_rmse))\n",
    "\n",
    "    # If the flag is set to True then only the following print statements will be dispayed, the default value is True\n",
    "    if flag == True:\n",
    "        print(\"R-sqaure on training set : \", metrics.r2_score(y_train, pred_train))\n",
    "        print(\"R-square on test set : \", metrics.r2_score(y_test, pred_test))\n",
    "        print(\n",
    "            \"RMSE on training set : \",\n",
    "            np.sqrt(metrics.mean_squared_error(y_train, pred_train)),\n",
    "        )\n",
    "        print(\n",
    "            \"RMSE on test set : \",\n",
    "            np.sqrt(metrics.mean_squared_error(y_test, pred_test)),\n",
    "        )\n",
    "\n",
    "    # returning the list with train and test scores\n",
    "    return score_list"
   ]
  },
  {
   "cell_type": "code",
   "execution_count": 47,
   "id": "2d976315-4044-46c3-830f-d88ecabcc2f3",
   "metadata": {},
   "outputs": [
    {
     "data": {
      "application/javascript": [
       "\n",
       "            setTimeout(function() {\n",
       "                var nbb_cell_id = 47;\n",
       "                var nbb_unformatted_code = \"# For Hyperparameter Tuning\\n# function to compute adjusted R-squared\\ndef adj_r2_score(predictors, targets, predictions):\\n    r2 = r2_score(targets, predictions)\\n    n = predictors.shape[0]\\n    k = predictors.shape[1]\\n    return 1 - ((1 - r2) * (n - 1) / (n - k - 1))\\n\\n\\n# function to compute MAPE\\ndef mape_score(targets, predictions):\\n    return np.mean(np.abs(targets - predictions) / targets) * 100\\n\\n\\n# function to compute different metrics to check performance of a regression model\\ndef model_performance_regression(model, predictors, target):\\n    \\\"\\\"\\\"\\n    Function to compute different metrics to check regression model performance\\n\\n    model: regressor\\n    predictors: independent variables\\n    target: dependent variable\\n    \\\"\\\"\\\"\\n\\n    # predicting using the independent variables\\n    pred = model.predict(predictors)\\n\\n    r2 = r2_score(target, pred)  # to compute R-squared\\n    adjr2 = adj_r2_score(predictors, target, pred)  # to compute adjusted R-squared\\n    rmse = np.sqrt(mean_squared_error(target, pred))  # to compute RMSE\\n    mae = mean_absolute_error(target, pred)  # to compute MAE\\n    mape = mape_score(target, pred)  # to compute MAPE\\n\\n    # creating a dataframe of metrics\\n    df_perf = pd.DataFrame(\\n        {\\n            \\\"RMSE\\\": rmse,\\n            \\\"MAE\\\": mae,\\n            \\\"R-squared\\\": r2,\\n            \\\"Adj. R-squared\\\": adjr2,\\n            \\\"MAPE\\\": mape,\\n        },\\n        index=[0],\\n    )\\n\\n    return df_perf\";\n",
       "                var nbb_formatted_code = \"# For Hyperparameter Tuning\\n# function to compute adjusted R-squared\\ndef adj_r2_score(predictors, targets, predictions):\\n    r2 = r2_score(targets, predictions)\\n    n = predictors.shape[0]\\n    k = predictors.shape[1]\\n    return 1 - ((1 - r2) * (n - 1) / (n - k - 1))\\n\\n\\n# function to compute MAPE\\ndef mape_score(targets, predictions):\\n    return np.mean(np.abs(targets - predictions) / targets) * 100\\n\\n\\n# function to compute different metrics to check performance of a regression model\\ndef model_performance_regression(model, predictors, target):\\n    \\\"\\\"\\\"\\n    Function to compute different metrics to check regression model performance\\n\\n    model: regressor\\n    predictors: independent variables\\n    target: dependent variable\\n    \\\"\\\"\\\"\\n\\n    # predicting using the independent variables\\n    pred = model.predict(predictors)\\n\\n    r2 = r2_score(target, pred)  # to compute R-squared\\n    adjr2 = adj_r2_score(predictors, target, pred)  # to compute adjusted R-squared\\n    rmse = np.sqrt(mean_squared_error(target, pred))  # to compute RMSE\\n    mae = mean_absolute_error(target, pred)  # to compute MAE\\n    mape = mape_score(target, pred)  # to compute MAPE\\n\\n    # creating a dataframe of metrics\\n    df_perf = pd.DataFrame(\\n        {\\n            \\\"RMSE\\\": rmse,\\n            \\\"MAE\\\": mae,\\n            \\\"R-squared\\\": r2,\\n            \\\"Adj. R-squared\\\": adjr2,\\n            \\\"MAPE\\\": mape,\\n        },\\n        index=[0],\\n    )\\n\\n    return df_perf\";\n",
       "                var nbb_cells = Jupyter.notebook.get_cells();\n",
       "                for (var i = 0; i < nbb_cells.length; ++i) {\n",
       "                    if (nbb_cells[i].input_prompt_number == nbb_cell_id) {\n",
       "                        if (nbb_cells[i].get_text() == nbb_unformatted_code) {\n",
       "                             nbb_cells[i].set_text(nbb_formatted_code);\n",
       "                        }\n",
       "                        break;\n",
       "                    }\n",
       "                }\n",
       "            }, 500);\n",
       "            "
      ],
      "text/plain": [
       "<IPython.core.display.Javascript object>"
      ]
     },
     "metadata": {},
     "output_type": "display_data"
    }
   ],
   "source": [
    "# For Hyperparameter Tuning\n",
    "# function to compute adjusted R-squared\n",
    "def adj_r2_score(predictors, targets, predictions):\n",
    "    r2 = r2_score(targets, predictions)\n",
    "    n = predictors.shape[0]\n",
    "    k = predictors.shape[1]\n",
    "    return 1 - ((1 - r2) * (n - 1) / (n - k - 1))\n",
    "\n",
    "\n",
    "# function to compute MAPE\n",
    "def mape_score(targets, predictions):\n",
    "    return np.mean(np.abs(targets - predictions) / targets) * 100\n",
    "\n",
    "\n",
    "# function to compute different metrics to check performance of a regression model\n",
    "def model_performance_regression(model, predictors, target):\n",
    "    \"\"\"\n",
    "    Function to compute different metrics to check regression model performance\n",
    "\n",
    "    model: regressor\n",
    "    predictors: independent variables\n",
    "    target: dependent variable\n",
    "    \"\"\"\n",
    "\n",
    "    # predicting using the independent variables\n",
    "    pred = model.predict(predictors)\n",
    "\n",
    "    r2 = r2_score(target, pred)  # to compute R-squared\n",
    "    adjr2 = adj_r2_score(predictors, target, pred)  # to compute adjusted R-squared\n",
    "    rmse = np.sqrt(mean_squared_error(target, pred))  # to compute RMSE\n",
    "    mae = mean_absolute_error(target, pred)  # to compute MAE\n",
    "    mape = mape_score(target, pred)  # to compute MAPE\n",
    "\n",
    "    # creating a dataframe of metrics\n",
    "    df_perf = pd.DataFrame(\n",
    "        {\n",
    "            \"RMSE\": rmse,\n",
    "            \"MAE\": mae,\n",
    "            \"R-squared\": r2,\n",
    "            \"Adj. R-squared\": adjr2,\n",
    "            \"MAPE\": mape,\n",
    "        },\n",
    "        index=[0],\n",
    "    )\n",
    "\n",
    "    return df_perf"
   ]
  },
  {
   "cell_type": "code",
   "execution_count": 48,
   "id": "77b31efc-4e26-49f5-8669-a766fae7c5ba",
   "metadata": {},
   "outputs": [
    {
     "data": {
      "application/javascript": [
       "\n",
       "            setTimeout(function() {\n",
       "                var nbb_cell_id = 48;\n",
       "                var nbb_unformatted_code = \"# defining a function to compute different metrics to check performance of a classification model built using sklearn\\ndef model_performance_classification_sklearn(model, predictors, target):\\n    \\\"\\\"\\\"\\n    Function to compute different metrics to check classification model performance\\n\\n    model: classifier\\n    predictors: independent variables\\n    target: dependent variable\\n    \\\"\\\"\\\"\\n\\n    # predicting using the independent variables\\n    pred = model.predict(predictors)\\n\\n    acc = accuracy_score(target, pred)  # to compute Accuracy\\n    recall = recall_score(target, pred)  # to compute Recall\\n    precision = precision_score(target, pred)  # to compute Precision\\n    f1 = f1_score(target, pred)  # to compute F1-score\\n\\n    # creating a dataframe of metrics\\n    df_perf = pd.DataFrame(\\n        {\\\"Accuracy\\\": acc, \\\"Recall\\\": recall, \\\"Precision\\\": precision, \\\"F1\\\": f1,},\\n        index=[0],\\n    )\\n\\n    return df_perf\";\n",
       "                var nbb_formatted_code = \"# defining a function to compute different metrics to check performance of a classification model built using sklearn\\ndef model_performance_classification_sklearn(model, predictors, target):\\n    \\\"\\\"\\\"\\n    Function to compute different metrics to check classification model performance\\n\\n    model: classifier\\n    predictors: independent variables\\n    target: dependent variable\\n    \\\"\\\"\\\"\\n\\n    # predicting using the independent variables\\n    pred = model.predict(predictors)\\n\\n    acc = accuracy_score(target, pred)  # to compute Accuracy\\n    recall = recall_score(target, pred)  # to compute Recall\\n    precision = precision_score(target, pred)  # to compute Precision\\n    f1 = f1_score(target, pred)  # to compute F1-score\\n\\n    # creating a dataframe of metrics\\n    df_perf = pd.DataFrame(\\n        {\\\"Accuracy\\\": acc, \\\"Recall\\\": recall, \\\"Precision\\\": precision, \\\"F1\\\": f1,},\\n        index=[0],\\n    )\\n\\n    return df_perf\";\n",
       "                var nbb_cells = Jupyter.notebook.get_cells();\n",
       "                for (var i = 0; i < nbb_cells.length; ++i) {\n",
       "                    if (nbb_cells[i].input_prompt_number == nbb_cell_id) {\n",
       "                        if (nbb_cells[i].get_text() == nbb_unformatted_code) {\n",
       "                             nbb_cells[i].set_text(nbb_formatted_code);\n",
       "                        }\n",
       "                        break;\n",
       "                    }\n",
       "                }\n",
       "            }, 500);\n",
       "            "
      ],
      "text/plain": [
       "<IPython.core.display.Javascript object>"
      ]
     },
     "metadata": {},
     "output_type": "display_data"
    }
   ],
   "source": [
    "# defining a function to compute different metrics to check performance of a classification model built using sklearn\n",
    "def model_performance_classification_sklearn(model, predictors, target):\n",
    "    \"\"\"\n",
    "    Function to compute different metrics to check classification model performance\n",
    "\n",
    "    model: classifier\n",
    "    predictors: independent variables\n",
    "    target: dependent variable\n",
    "    \"\"\"\n",
    "\n",
    "    # predicting using the independent variables\n",
    "    pred = model.predict(predictors)\n",
    "\n",
    "    acc = accuracy_score(target, pred)  # to compute Accuracy\n",
    "    recall = recall_score(target, pred)  # to compute Recall\n",
    "    precision = precision_score(target, pred)  # to compute Precision\n",
    "    f1 = f1_score(target, pred)  # to compute F1-score\n",
    "\n",
    "    # creating a dataframe of metrics\n",
    "    df_perf = pd.DataFrame(\n",
    "        {\"Accuracy\": acc, \"Recall\": recall, \"Precision\": precision, \"F1\": f1,},\n",
    "        index=[0],\n",
    "    )\n",
    "\n",
    "    return df_perf"
   ]
  },
  {
   "cell_type": "code",
   "execution_count": 49,
   "id": "7324c6f5-50cc-4e9f-973b-2f7326bb1ccc",
   "metadata": {},
   "outputs": [
    {
     "data": {
      "application/javascript": [
       "\n",
       "            setTimeout(function() {\n",
       "                var nbb_cell_id = 49;\n",
       "                var nbb_unformatted_code = \"def confusion_matrix_sklearn(model, predictors, target):\\n    \\\"\\\"\\\"\\n    To plot the confusion_matrix with percentages\\n\\n    model: classifier\\n    predictors: independent variables\\n    target: dependent variable\\n    \\\"\\\"\\\"\\n    y_pred = model.predict(predictors)\\n    cm = confusion_matrix(target, y_pred)\\n    labels = np.asarray(\\n        [\\n            [\\\"{0:0.0f}\\\".format(item) + \\\"\\\\n{0:.2%}\\\".format(item / cm.flatten().sum())]\\n            for item in cm.flatten()\\n        ]\\n    ).reshape(2, 2)\\n\\n    plt.figure(figsize=(6, 4))\\n    sns.heatmap(cm, annot=labels, fmt=\\\"\\\")\\n    plt.ylabel(\\\"True label\\\")\\n    plt.xlabel(\\\"Predicted label\\\")\";\n",
       "                var nbb_formatted_code = \"def confusion_matrix_sklearn(model, predictors, target):\\n    \\\"\\\"\\\"\\n    To plot the confusion_matrix with percentages\\n\\n    model: classifier\\n    predictors: independent variables\\n    target: dependent variable\\n    \\\"\\\"\\\"\\n    y_pred = model.predict(predictors)\\n    cm = confusion_matrix(target, y_pred)\\n    labels = np.asarray(\\n        [\\n            [\\\"{0:0.0f}\\\".format(item) + \\\"\\\\n{0:.2%}\\\".format(item / cm.flatten().sum())]\\n            for item in cm.flatten()\\n        ]\\n    ).reshape(2, 2)\\n\\n    plt.figure(figsize=(6, 4))\\n    sns.heatmap(cm, annot=labels, fmt=\\\"\\\")\\n    plt.ylabel(\\\"True label\\\")\\n    plt.xlabel(\\\"Predicted label\\\")\";\n",
       "                var nbb_cells = Jupyter.notebook.get_cells();\n",
       "                for (var i = 0; i < nbb_cells.length; ++i) {\n",
       "                    if (nbb_cells[i].input_prompt_number == nbb_cell_id) {\n",
       "                        if (nbb_cells[i].get_text() == nbb_unformatted_code) {\n",
       "                             nbb_cells[i].set_text(nbb_formatted_code);\n",
       "                        }\n",
       "                        break;\n",
       "                    }\n",
       "                }\n",
       "            }, 500);\n",
       "            "
      ],
      "text/plain": [
       "<IPython.core.display.Javascript object>"
      ]
     },
     "metadata": {},
     "output_type": "display_data"
    }
   ],
   "source": [
    "def confusion_matrix_sklearn(model, predictors, target):\n",
    "    \"\"\"\n",
    "    To plot the confusion_matrix with percentages\n",
    "\n",
    "    model: classifier\n",
    "    predictors: independent variables\n",
    "    target: dependent variable\n",
    "    \"\"\"\n",
    "    y_pred = model.predict(predictors)\n",
    "    cm = confusion_matrix(target, y_pred)\n",
    "    labels = np.asarray(\n",
    "        [\n",
    "            [\"{0:0.0f}\".format(item) + \"\\n{0:.2%}\".format(item / cm.flatten().sum())]\n",
    "            for item in cm.flatten()\n",
    "        ]\n",
    "    ).reshape(2, 2)\n",
    "\n",
    "    plt.figure(figsize=(6, 4))\n",
    "    sns.heatmap(cm, annot=labels, fmt=\"\")\n",
    "    plt.ylabel(\"True label\")\n",
    "    plt.xlabel(\"Predicted label\")"
   ]
  },
  {
   "cell_type": "markdown",
   "id": "13e25999-e1d4-48ad-a4fa-278187395aa2",
   "metadata": {},
   "source": [
    "#### Logistic Regression:"
   ]
  },
  {
   "cell_type": "code",
   "execution_count": 50,
   "id": "bf9d7fd6-e182-4dac-9cf5-5a7dca5a016b",
   "metadata": {},
   "outputs": [
    {
     "data": {
      "application/javascript": [
       "\n",
       "            setTimeout(function() {\n",
       "                var nbb_cell_id = 50;\n",
       "                var nbb_unformatted_code = \"# There are different solvers available in Sklearn logistic regression\\n# The newton-cg solver is faster for high-dimensional data\\n\\nmodel = LogisticRegression(solver=\\\"newton-cg\\\", random_state=1)\\nlg = model.fit(X_train, y_train)\";\n",
       "                var nbb_formatted_code = \"# There are different solvers available in Sklearn logistic regression\\n# The newton-cg solver is faster for high-dimensional data\\n\\nmodel = LogisticRegression(solver=\\\"newton-cg\\\", random_state=1)\\nlg = model.fit(X_train, y_train)\";\n",
       "                var nbb_cells = Jupyter.notebook.get_cells();\n",
       "                for (var i = 0; i < nbb_cells.length; ++i) {\n",
       "                    if (nbb_cells[i].input_prompt_number == nbb_cell_id) {\n",
       "                        if (nbb_cells[i].get_text() == nbb_unformatted_code) {\n",
       "                             nbb_cells[i].set_text(nbb_formatted_code);\n",
       "                        }\n",
       "                        break;\n",
       "                    }\n",
       "                }\n",
       "            }, 500);\n",
       "            "
      ],
      "text/plain": [
       "<IPython.core.display.Javascript object>"
      ]
     },
     "metadata": {},
     "output_type": "display_data"
    }
   ],
   "source": [
    "# There are different solvers available in Sklearn logistic regression\n",
    "# The newton-cg solver is faster for high-dimensional data\n",
    "\n",
    "model = LogisticRegression(solver=\"newton-cg\", random_state=1)\n",
    "lg = model.fit(X_train, y_train)"
   ]
  },
  {
   "cell_type": "code",
   "execution_count": 51,
   "id": "f3f729db-dc58-4416-9fd7-a86b8f2ad3b9",
   "metadata": {},
   "outputs": [
    {
     "data": {
      "text/html": [
       "<div>\n",
       "<style scoped>\n",
       "    .dataframe tbody tr th:only-of-type {\n",
       "        vertical-align: middle;\n",
       "    }\n",
       "\n",
       "    .dataframe tbody tr th {\n",
       "        vertical-align: top;\n",
       "    }\n",
       "\n",
       "    .dataframe thead th {\n",
       "        text-align: right;\n",
       "    }\n",
       "</style>\n",
       "<table border=\"1\" class=\"dataframe\">\n",
       "  <thead>\n",
       "    <tr style=\"text-align: right;\">\n",
       "      <th></th>\n",
       "      <th>Customer_Age</th>\n",
       "      <th>Dependent_count</th>\n",
       "      <th>Months_on_book</th>\n",
       "      <th>Total_Relationship_Count</th>\n",
       "      <th>Months_Inactive_12_mon</th>\n",
       "      <th>Contacts_Count_12_mon</th>\n",
       "      <th>Credit_Limit</th>\n",
       "      <th>Total_Revolving_Bal</th>\n",
       "      <th>Avg_Open_To_Buy</th>\n",
       "      <th>Total_Amt_Chng_Q4_Q1</th>\n",
       "      <th>Total_Trans_Amt</th>\n",
       "      <th>Total_Trans_Ct</th>\n",
       "      <th>Total_Ct_Chng_Q4_Q1</th>\n",
       "      <th>Avg_Utilization_Ratio</th>\n",
       "      <th>Gender_0</th>\n",
       "      <th>Gender_1</th>\n",
       "      <th>Education_Level_College</th>\n",
       "      <th>Education_Level_Doctorate</th>\n",
       "      <th>Education_Level_Graduate</th>\n",
       "      <th>Education_Level_High School</th>\n",
       "      <th>Education_Level_Post-Graduate</th>\n",
       "      <th>Education_Level_Uneducated</th>\n",
       "      <th>Marital_Status_Divorced</th>\n",
       "      <th>Marital_Status_Married</th>\n",
       "      <th>Marital_Status_Single</th>\n",
       "      <th>Income_Category_$120K +</th>\n",
       "      <th>Income_Category_$40K - $60K</th>\n",
       "      <th>Income_Category_$60K - $80K</th>\n",
       "      <th>Income_Category_$80K - $120K</th>\n",
       "      <th>Income_Category_Less than $40K</th>\n",
       "      <th>Income_Category_abc</th>\n",
       "      <th>Card_Category_Blue</th>\n",
       "      <th>Card_Category_Gold</th>\n",
       "      <th>Card_Category_Platinum</th>\n",
       "      <th>Card_Category_Silver</th>\n",
       "    </tr>\n",
       "  </thead>\n",
       "  <tbody>\n",
       "    <tr>\n",
       "      <th>coef</th>\n",
       "      <td>-0.004</td>\n",
       "      <td>-0.138</td>\n",
       "      <td>0.006</td>\n",
       "      <td>0.359</td>\n",
       "      <td>-0.590</td>\n",
       "      <td>-0.566</td>\n",
       "      <td>0.000</td>\n",
       "      <td>0.001</td>\n",
       "      <td>-0.000</td>\n",
       "      <td>0.417</td>\n",
       "      <td>-0.000</td>\n",
       "      <td>0.107</td>\n",
       "      <td>2.134</td>\n",
       "      <td>0.269</td>\n",
       "      <td>-1.037</td>\n",
       "      <td>-0.298</td>\n",
       "      <td>-0.124</td>\n",
       "      <td>-0.472</td>\n",
       "      <td>-0.169</td>\n",
       "      <td>-0.115</td>\n",
       "      <td>-0.270</td>\n",
       "      <td>-0.184</td>\n",
       "      <td>-0.450</td>\n",
       "      <td>-0.150</td>\n",
       "      <td>-0.735</td>\n",
       "      <td>-0.446</td>\n",
       "      <td>-0.072</td>\n",
       "      <td>-0.204</td>\n",
       "      <td>-0.456</td>\n",
       "      <td>-0.157</td>\n",
       "      <td>0.000</td>\n",
       "      <td>-0.389</td>\n",
       "      <td>-0.463</td>\n",
       "      <td>-0.090</td>\n",
       "      <td>-0.392</td>\n",
       "    </tr>\n",
       "  </tbody>\n",
       "</table>\n",
       "</div>"
      ],
      "text/plain": [
       "      Customer_Age  Dependent_count  Months_on_book  Total_Relationship_Count  \\\n",
       "coef        -0.004           -0.138           0.006                     0.359   \n",
       "\n",
       "      Months_Inactive_12_mon  Contacts_Count_12_mon  Credit_Limit  \\\n",
       "coef                  -0.590                 -0.566         0.000   \n",
       "\n",
       "      Total_Revolving_Bal  Avg_Open_To_Buy  Total_Amt_Chng_Q4_Q1  \\\n",
       "coef                0.001           -0.000                 0.417   \n",
       "\n",
       "      Total_Trans_Amt  Total_Trans_Ct  Total_Ct_Chng_Q4_Q1  \\\n",
       "coef           -0.000           0.107                2.134   \n",
       "\n",
       "      Avg_Utilization_Ratio  Gender_0  Gender_1  Education_Level_College  \\\n",
       "coef                  0.269    -1.037    -0.298                   -0.124   \n",
       "\n",
       "      Education_Level_Doctorate  Education_Level_Graduate  \\\n",
       "coef                     -0.472                    -0.169   \n",
       "\n",
       "      Education_Level_High School  Education_Level_Post-Graduate  \\\n",
       "coef                       -0.115                         -0.270   \n",
       "\n",
       "      Education_Level_Uneducated  Marital_Status_Divorced  \\\n",
       "coef                      -0.184                   -0.450   \n",
       "\n",
       "      Marital_Status_Married  Marital_Status_Single  Income_Category_$120K +  \\\n",
       "coef                  -0.150                 -0.735                   -0.446   \n",
       "\n",
       "      Income_Category_$40K - $60K  Income_Category_$60K - $80K  \\\n",
       "coef                       -0.072                       -0.204   \n",
       "\n",
       "      Income_Category_$80K - $120K  Income_Category_Less than $40K  \\\n",
       "coef                        -0.456                          -0.157   \n",
       "\n",
       "      Income_Category_abc  Card_Category_Blue  Card_Category_Gold  \\\n",
       "coef                0.000              -0.389              -0.463   \n",
       "\n",
       "      Card_Category_Platinum  Card_Category_Silver  \n",
       "coef                  -0.090                -0.392  "
      ]
     },
     "execution_count": 51,
     "metadata": {},
     "output_type": "execute_result"
    },
    {
     "data": {
      "application/javascript": [
       "\n",
       "            setTimeout(function() {\n",
       "                var nbb_cell_id = 51;\n",
       "                var nbb_unformatted_code = \"log_odds = lg.coef_[0]\\npd.DataFrame(log_odds, X_train.columns, columns=[\\\"coef\\\"]).T\";\n",
       "                var nbb_formatted_code = \"log_odds = lg.coef_[0]\\npd.DataFrame(log_odds, X_train.columns, columns=[\\\"coef\\\"]).T\";\n",
       "                var nbb_cells = Jupyter.notebook.get_cells();\n",
       "                for (var i = 0; i < nbb_cells.length; ++i) {\n",
       "                    if (nbb_cells[i].input_prompt_number == nbb_cell_id) {\n",
       "                        if (nbb_cells[i].get_text() == nbb_unformatted_code) {\n",
       "                             nbb_cells[i].set_text(nbb_formatted_code);\n",
       "                        }\n",
       "                        break;\n",
       "                    }\n",
       "                }\n",
       "            }, 500);\n",
       "            "
      ],
      "text/plain": [
       "<IPython.core.display.Javascript object>"
      ]
     },
     "metadata": {},
     "output_type": "display_data"
    }
   ],
   "source": [
    "log_odds = lg.coef_[0]\n",
    "pd.DataFrame(log_odds, X_train.columns, columns=[\"coef\"]).T"
   ]
  },
  {
   "cell_type": "code",
   "execution_count": 52,
   "id": "483d4136-676b-4163-9fcb-1dee349a6add",
   "metadata": {},
   "outputs": [
    {
     "data": {
      "text/html": [
       "<div>\n",
       "<style scoped>\n",
       "    .dataframe tbody tr th:only-of-type {\n",
       "        vertical-align: middle;\n",
       "    }\n",
       "\n",
       "    .dataframe tbody tr th {\n",
       "        vertical-align: top;\n",
       "    }\n",
       "\n",
       "    .dataframe thead th {\n",
       "        text-align: right;\n",
       "    }\n",
       "</style>\n",
       "<table border=\"1\" class=\"dataframe\">\n",
       "  <thead>\n",
       "    <tr style=\"text-align: right;\">\n",
       "      <th></th>\n",
       "      <th>Customer_Age</th>\n",
       "      <th>Dependent_count</th>\n",
       "      <th>Months_on_book</th>\n",
       "      <th>Total_Relationship_Count</th>\n",
       "      <th>Months_Inactive_12_mon</th>\n",
       "      <th>Contacts_Count_12_mon</th>\n",
       "      <th>Credit_Limit</th>\n",
       "      <th>Total_Revolving_Bal</th>\n",
       "      <th>Avg_Open_To_Buy</th>\n",
       "      <th>Total_Amt_Chng_Q4_Q1</th>\n",
       "      <th>Total_Trans_Amt</th>\n",
       "      <th>Total_Trans_Ct</th>\n",
       "      <th>Total_Ct_Chng_Q4_Q1</th>\n",
       "      <th>Avg_Utilization_Ratio</th>\n",
       "      <th>Gender_0</th>\n",
       "      <th>Gender_1</th>\n",
       "      <th>Education_Level_College</th>\n",
       "      <th>Education_Level_Doctorate</th>\n",
       "      <th>Education_Level_Graduate</th>\n",
       "      <th>Education_Level_High School</th>\n",
       "      <th>Education_Level_Post-Graduate</th>\n",
       "      <th>Education_Level_Uneducated</th>\n",
       "      <th>Marital_Status_Divorced</th>\n",
       "      <th>Marital_Status_Married</th>\n",
       "      <th>Marital_Status_Single</th>\n",
       "      <th>Income_Category_$120K +</th>\n",
       "      <th>Income_Category_$40K - $60K</th>\n",
       "      <th>Income_Category_$60K - $80K</th>\n",
       "      <th>Income_Category_$80K - $120K</th>\n",
       "      <th>Income_Category_Less than $40K</th>\n",
       "      <th>Income_Category_abc</th>\n",
       "      <th>Card_Category_Blue</th>\n",
       "      <th>Card_Category_Gold</th>\n",
       "      <th>Card_Category_Platinum</th>\n",
       "      <th>Card_Category_Silver</th>\n",
       "    </tr>\n",
       "  </thead>\n",
       "  <tbody>\n",
       "    <tr>\n",
       "      <th>Odds</th>\n",
       "      <td>0.996</td>\n",
       "      <td>0.871</td>\n",
       "      <td>1.006</td>\n",
       "      <td>1.432</td>\n",
       "      <td>0.554</td>\n",
       "      <td>0.568</td>\n",
       "      <td>1.000</td>\n",
       "      <td>1.001</td>\n",
       "      <td>1.000</td>\n",
       "      <td>1.517</td>\n",
       "      <td>1.000</td>\n",
       "      <td>1.113</td>\n",
       "      <td>8.449</td>\n",
       "      <td>1.308</td>\n",
       "      <td>0.355</td>\n",
       "      <td>0.742</td>\n",
       "      <td>0.883</td>\n",
       "      <td>0.623</td>\n",
       "      <td>0.845</td>\n",
       "      <td>0.892</td>\n",
       "      <td>0.763</td>\n",
       "      <td>0.832</td>\n",
       "      <td>0.638</td>\n",
       "      <td>0.861</td>\n",
       "      <td>0.480</td>\n",
       "      <td>0.640</td>\n",
       "      <td>0.930</td>\n",
       "      <td>0.816</td>\n",
       "      <td>0.634</td>\n",
       "      <td>0.855</td>\n",
       "      <td>1.000</td>\n",
       "      <td>0.678</td>\n",
       "      <td>0.630</td>\n",
       "      <td>0.914</td>\n",
       "      <td>0.676</td>\n",
       "    </tr>\n",
       "    <tr>\n",
       "      <th>Change_odd%</th>\n",
       "      <td>-0.354</td>\n",
       "      <td>-12.900</td>\n",
       "      <td>0.615</td>\n",
       "      <td>43.210</td>\n",
       "      <td>-44.585</td>\n",
       "      <td>-43.214</td>\n",
       "      <td>0.031</td>\n",
       "      <td>0.062</td>\n",
       "      <td>-0.031</td>\n",
       "      <td>51.737</td>\n",
       "      <td>-0.045</td>\n",
       "      <td>11.284</td>\n",
       "      <td>744.934</td>\n",
       "      <td>30.805</td>\n",
       "      <td>-64.533</td>\n",
       "      <td>-25.764</td>\n",
       "      <td>-11.671</td>\n",
       "      <td>-37.651</td>\n",
       "      <td>-15.519</td>\n",
       "      <td>-10.843</td>\n",
       "      <td>-23.669</td>\n",
       "      <td>-16.845</td>\n",
       "      <td>-36.221</td>\n",
       "      <td>-13.943</td>\n",
       "      <td>-52.030</td>\n",
       "      <td>-35.985</td>\n",
       "      <td>-6.959</td>\n",
       "      <td>-18.414</td>\n",
       "      <td>-36.627</td>\n",
       "      <td>-14.502</td>\n",
       "      <td>0.000</td>\n",
       "      <td>-32.248</td>\n",
       "      <td>-37.049</td>\n",
       "      <td>-8.647</td>\n",
       "      <td>-32.425</td>\n",
       "    </tr>\n",
       "  </tbody>\n",
       "</table>\n",
       "</div>"
      ],
      "text/plain": [
       "             Customer_Age  Dependent_count  Months_on_book  \\\n",
       "Odds                0.996            0.871           1.006   \n",
       "Change_odd%        -0.354          -12.900           0.615   \n",
       "\n",
       "             Total_Relationship_Count  Months_Inactive_12_mon  \\\n",
       "Odds                            1.432                   0.554   \n",
       "Change_odd%                    43.210                 -44.585   \n",
       "\n",
       "             Contacts_Count_12_mon  Credit_Limit  Total_Revolving_Bal  \\\n",
       "Odds                         0.568         1.000                1.001   \n",
       "Change_odd%                -43.214         0.031                0.062   \n",
       "\n",
       "             Avg_Open_To_Buy  Total_Amt_Chng_Q4_Q1  Total_Trans_Amt  \\\n",
       "Odds                   1.000                 1.517            1.000   \n",
       "Change_odd%           -0.031                51.737           -0.045   \n",
       "\n",
       "             Total_Trans_Ct  Total_Ct_Chng_Q4_Q1  Avg_Utilization_Ratio  \\\n",
       "Odds                  1.113                8.449                  1.308   \n",
       "Change_odd%          11.284              744.934                 30.805   \n",
       "\n",
       "             Gender_0  Gender_1  Education_Level_College  \\\n",
       "Odds            0.355     0.742                    0.883   \n",
       "Change_odd%   -64.533   -25.764                  -11.671   \n",
       "\n",
       "             Education_Level_Doctorate  Education_Level_Graduate  \\\n",
       "Odds                             0.623                     0.845   \n",
       "Change_odd%                    -37.651                   -15.519   \n",
       "\n",
       "             Education_Level_High School  Education_Level_Post-Graduate  \\\n",
       "Odds                               0.892                          0.763   \n",
       "Change_odd%                      -10.843                        -23.669   \n",
       "\n",
       "             Education_Level_Uneducated  Marital_Status_Divorced  \\\n",
       "Odds                              0.832                    0.638   \n",
       "Change_odd%                     -16.845                  -36.221   \n",
       "\n",
       "             Marital_Status_Married  Marital_Status_Single  \\\n",
       "Odds                          0.861                  0.480   \n",
       "Change_odd%                 -13.943                -52.030   \n",
       "\n",
       "             Income_Category_$120K +  Income_Category_$40K - $60K  \\\n",
       "Odds                           0.640                        0.930   \n",
       "Change_odd%                  -35.985                       -6.959   \n",
       "\n",
       "             Income_Category_$60K - $80K  Income_Category_$80K - $120K  \\\n",
       "Odds                               0.816                         0.634   \n",
       "Change_odd%                      -18.414                       -36.627   \n",
       "\n",
       "             Income_Category_Less than $40K  Income_Category_abc  \\\n",
       "Odds                                  0.855                1.000   \n",
       "Change_odd%                         -14.502                0.000   \n",
       "\n",
       "             Card_Category_Blue  Card_Category_Gold  Card_Category_Platinum  \\\n",
       "Odds                      0.678               0.630                   0.914   \n",
       "Change_odd%             -32.248             -37.049                  -8.647   \n",
       "\n",
       "             Card_Category_Silver  \n",
       "Odds                        0.676  \n",
       "Change_odd%               -32.425  "
      ]
     },
     "execution_count": 52,
     "metadata": {},
     "output_type": "execute_result"
    },
    {
     "data": {
      "application/javascript": [
       "\n",
       "            setTimeout(function() {\n",
       "                var nbb_cell_id = 52;\n",
       "                var nbb_unformatted_code = \"# converting coefficients to odds\\nodds = np.exp(lg.coef_[0])\\n\\n# finding the percentage change\\nperc_change_odds = (np.exp(lg.coef_[0]) - 1) * 100\\n\\n# removing limit from number of columns to display\\npd.set_option(\\\"display.max_columns\\\", None)\\n\\n# adding the odds to a dataframe\\npd.DataFrame({\\\"Odds\\\": odds, \\\"Change_odd%\\\": perc_change_odds}, index=X_train.columns).T\";\n",
       "                var nbb_formatted_code = \"# converting coefficients to odds\\nodds = np.exp(lg.coef_[0])\\n\\n# finding the percentage change\\nperc_change_odds = (np.exp(lg.coef_[0]) - 1) * 100\\n\\n# removing limit from number of columns to display\\npd.set_option(\\\"display.max_columns\\\", None)\\n\\n# adding the odds to a dataframe\\npd.DataFrame({\\\"Odds\\\": odds, \\\"Change_odd%\\\": perc_change_odds}, index=X_train.columns).T\";\n",
       "                var nbb_cells = Jupyter.notebook.get_cells();\n",
       "                for (var i = 0; i < nbb_cells.length; ++i) {\n",
       "                    if (nbb_cells[i].input_prompt_number == nbb_cell_id) {\n",
       "                        if (nbb_cells[i].get_text() == nbb_unformatted_code) {\n",
       "                             nbb_cells[i].set_text(nbb_formatted_code);\n",
       "                        }\n",
       "                        break;\n",
       "                    }\n",
       "                }\n",
       "            }, 500);\n",
       "            "
      ],
      "text/plain": [
       "<IPython.core.display.Javascript object>"
      ]
     },
     "metadata": {},
     "output_type": "display_data"
    }
   ],
   "source": [
    "# converting coefficients to odds\n",
    "odds = np.exp(lg.coef_[0])\n",
    "\n",
    "# finding the percentage change\n",
    "perc_change_odds = (np.exp(lg.coef_[0]) - 1) * 100\n",
    "\n",
    "# removing limit from number of columns to display\n",
    "pd.set_option(\"display.max_columns\", None)\n",
    "\n",
    "# adding the odds to a dataframe\n",
    "pd.DataFrame({\"Odds\": odds, \"Change_odd%\": perc_change_odds}, index=X_train.columns).T"
   ]
  },
  {
   "cell_type": "markdown",
   "id": "ebea7b6b-d545-42f1-8f6c-8206c7d16f77",
   "metadata": {},
   "source": [
    "#### Bagging Classifier:"
   ]
  },
  {
   "cell_type": "code",
   "execution_count": 53,
   "id": "a00ae901-b60b-4f1f-b85a-24abef8ed063",
   "metadata": {},
   "outputs": [
    {
     "data": {
      "text/plain": [
       "BaggingClassifier(random_state=1)"
      ]
     },
     "execution_count": 53,
     "metadata": {},
     "output_type": "execute_result"
    },
    {
     "data": {
      "application/javascript": [
       "\n",
       "            setTimeout(function() {\n",
       "                var nbb_cell_id = 53;\n",
       "                var nbb_unformatted_code = \"#base_estimator for bagging classifier is a decision tree by default\\nbagging =BaggingClassifier(random_state=1)\\nbagging.fit(X_train,y_train)\";\n",
       "                var nbb_formatted_code = \"# base_estimator for bagging classifier is a decision tree by default\\nbagging = BaggingClassifier(random_state=1)\\nbagging.fit(X_train, y_train)\";\n",
       "                var nbb_cells = Jupyter.notebook.get_cells();\n",
       "                for (var i = 0; i < nbb_cells.length; ++i) {\n",
       "                    if (nbb_cells[i].input_prompt_number == nbb_cell_id) {\n",
       "                        if (nbb_cells[i].get_text() == nbb_unformatted_code) {\n",
       "                             nbb_cells[i].set_text(nbb_formatted_code);\n",
       "                        }\n",
       "                        break;\n",
       "                    }\n",
       "                }\n",
       "            }, 500);\n",
       "            "
      ],
      "text/plain": [
       "<IPython.core.display.Javascript object>"
      ]
     },
     "metadata": {},
     "output_type": "display_data"
    }
   ],
   "source": [
    "# base_estimator for bagging classifier is a decision tree by default\n",
    "bagging = BaggingClassifier(random_state=1)\n",
    "bagging.fit(X_train, y_train)"
   ]
  },
  {
   "cell_type": "code",
   "execution_count": 54,
   "id": "4f427c22-fa9e-4c5b-9d73-df81bc17ed2c",
   "metadata": {},
   "outputs": [
    {
     "name": "stdout",
     "output_type": "stream",
     "text": [
      "Recall on train and validation set\n",
      "0.9981670594396439\n",
      "0.981151832460733\n",
      "\n",
      "Precision on train and validation set\n",
      "0.9994756161510225\n",
      "0.9689762150982419\n",
      "\n",
      "Accuracy on train and validation set\n",
      "0.9980136835135731\n",
      "0.9576345984112974\n"
     ]
    },
    {
     "data": {
      "application/javascript": [
       "\n",
       "            setTimeout(function() {\n",
       "                var nbb_cell_id = 54;\n",
       "                var nbb_unformatted_code = \"# Checking recall score on train and validation set\\nprint(\\\"Recall on train and validation set\\\")\\nprint(recall_score(y_train, bagging.predict(X_train)))\\nprint(recall_score(y_val, bagging.predict(X_val)))\\nprint(\\\"\\\")\\n\\n# Checking Precision score on train and validation set\\nprint(\\\"Precision on train and validation set\\\")\\nprint(precision_score(y_train, bagging.predict(X_train)))\\nprint(precision_score(y_val, bagging.predict(X_val)))\\n\\nprint(\\\"\\\")\\n\\n# Checking Accuracy score on train and validation set\\nprint(\\\"Accuracy on train and validation set\\\")\\nprint(accuracy_score(y_train, bagging.predict(X_train)))\\nprint(accuracy_score(y_val, bagging.predict(X_val)))\";\n",
       "                var nbb_formatted_code = \"# Checking recall score on train and validation set\\nprint(\\\"Recall on train and validation set\\\")\\nprint(recall_score(y_train, bagging.predict(X_train)))\\nprint(recall_score(y_val, bagging.predict(X_val)))\\nprint(\\\"\\\")\\n\\n# Checking Precision score on train and validation set\\nprint(\\\"Precision on train and validation set\\\")\\nprint(precision_score(y_train, bagging.predict(X_train)))\\nprint(precision_score(y_val, bagging.predict(X_val)))\\n\\nprint(\\\"\\\")\\n\\n# Checking Accuracy score on train and validation set\\nprint(\\\"Accuracy on train and validation set\\\")\\nprint(accuracy_score(y_train, bagging.predict(X_train)))\\nprint(accuracy_score(y_val, bagging.predict(X_val)))\";\n",
       "                var nbb_cells = Jupyter.notebook.get_cells();\n",
       "                for (var i = 0; i < nbb_cells.length; ++i) {\n",
       "                    if (nbb_cells[i].input_prompt_number == nbb_cell_id) {\n",
       "                        if (nbb_cells[i].get_text() == nbb_unformatted_code) {\n",
       "                             nbb_cells[i].set_text(nbb_formatted_code);\n",
       "                        }\n",
       "                        break;\n",
       "                    }\n",
       "                }\n",
       "            }, 500);\n",
       "            "
      ],
      "text/plain": [
       "<IPython.core.display.Javascript object>"
      ]
     },
     "metadata": {},
     "output_type": "display_data"
    }
   ],
   "source": [
    "# Checking recall score on train and validation set\n",
    "print(\"Recall on train and validation set\")\n",
    "print(recall_score(y_train, bagging.predict(X_train)))\n",
    "print(recall_score(y_val, bagging.predict(X_val)))\n",
    "print(\"\")\n",
    "\n",
    "# Checking Precision score on train and validation set\n",
    "print(\"Precision on train and validation set\")\n",
    "print(precision_score(y_train, bagging.predict(X_train)))\n",
    "print(precision_score(y_val, bagging.predict(X_val)))\n",
    "\n",
    "print(\"\")\n",
    "\n",
    "# Checking Accuracy score on train and validation set\n",
    "print(\"Accuracy on train and validation set\")\n",
    "print(accuracy_score(y_train, bagging.predict(X_train)))\n",
    "print(accuracy_score(y_val, bagging.predict(X_val)))"
   ]
  },
  {
   "cell_type": "markdown",
   "id": "5fff06a7-f68f-4a22-b5a8-93c012047d46",
   "metadata": {},
   "source": [
    "#### Random Forest"
   ]
  },
  {
   "cell_type": "code",
   "execution_count": 55,
   "id": "99bdf5e2-859b-4a99-a4ff-e2c289103b45",
   "metadata": {},
   "outputs": [
    {
     "data": {
      "text/plain": [
       "RandomForestClassifier(random_state=1)"
      ]
     },
     "execution_count": 55,
     "metadata": {},
     "output_type": "execute_result"
    },
    {
     "data": {
      "application/javascript": [
       "\n",
       "            setTimeout(function() {\n",
       "                var nbb_cell_id = 55;\n",
       "                var nbb_unformatted_code = \"# model without hyperparameter tuning\\nrf = RandomForestClassifier(random_state=1)\\nrf.fit(X_train, y_train)\";\n",
       "                var nbb_formatted_code = \"# model without hyperparameter tuning\\nrf = RandomForestClassifier(random_state=1)\\nrf.fit(X_train, y_train)\";\n",
       "                var nbb_cells = Jupyter.notebook.get_cells();\n",
       "                for (var i = 0; i < nbb_cells.length; ++i) {\n",
       "                    if (nbb_cells[i].input_prompt_number == nbb_cell_id) {\n",
       "                        if (nbb_cells[i].get_text() == nbb_unformatted_code) {\n",
       "                             nbb_cells[i].set_text(nbb_formatted_code);\n",
       "                        }\n",
       "                        break;\n",
       "                    }\n",
       "                }\n",
       "            }, 500);\n",
       "            "
      ],
      "text/plain": [
       "<IPython.core.display.Javascript object>"
      ]
     },
     "metadata": {},
     "output_type": "display_data"
    }
   ],
   "source": [
    "# model without hyperparameter tuning\n",
    "rf = RandomForestClassifier(random_state=1)\n",
    "rf.fit(X_train, y_train)"
   ]
  },
  {
   "cell_type": "code",
   "execution_count": 56,
   "id": "a5d4da04-98d3-4889-8370-753aaf313a61",
   "metadata": {},
   "outputs": [
    {
     "name": "stdout",
     "output_type": "stream",
     "text": [
      "Recall on train and validation set\n",
      "1.0\n",
      "0.9863874345549738\n",
      "\n",
      "Precision on train and validation set\n",
      "1.0\n",
      "0.9467336683417086\n",
      "\n",
      "Accuracy on train and validation set\n",
      "1.0\n",
      "0.941747572815534\n"
     ]
    },
    {
     "data": {
      "application/javascript": [
       "\n",
       "            setTimeout(function() {\n",
       "                var nbb_cell_id = 56;\n",
       "                var nbb_unformatted_code = \"# Checking recall score on train and validation set\\nprint(\\\"Recall on train and validation set\\\")\\nprint(recall_score(y_train, rf.predict(X_train)))\\nprint(recall_score(y_val, rf.predict(X_val)))\\nprint(\\\"\\\")\\n\\n# Checking Precision score on train and validation set\\nprint(\\\"Precision on train and validation set\\\")\\nprint(precision_score(y_train, rf.predict(X_train)))\\nprint(precision_score(y_val, rf.predict(X_val)))\\n\\nprint(\\\"\\\")\\n\\n# Checking Accuracy score on train and validation set\\nprint(\\\"Accuracy on train and validation set\\\")\\nprint(accuracy_score(y_train, rf.predict(X_train)))\\nprint(accuracy_score(y_val, rf.predict(X_val)))\";\n",
       "                var nbb_formatted_code = \"# Checking recall score on train and validation set\\nprint(\\\"Recall on train and validation set\\\")\\nprint(recall_score(y_train, rf.predict(X_train)))\\nprint(recall_score(y_val, rf.predict(X_val)))\\nprint(\\\"\\\")\\n\\n# Checking Precision score on train and validation set\\nprint(\\\"Precision on train and validation set\\\")\\nprint(precision_score(y_train, rf.predict(X_train)))\\nprint(precision_score(y_val, rf.predict(X_val)))\\n\\nprint(\\\"\\\")\\n\\n# Checking Accuracy score on train and validation set\\nprint(\\\"Accuracy on train and validation set\\\")\\nprint(accuracy_score(y_train, rf.predict(X_train)))\\nprint(accuracy_score(y_val, rf.predict(X_val)))\";\n",
       "                var nbb_cells = Jupyter.notebook.get_cells();\n",
       "                for (var i = 0; i < nbb_cells.length; ++i) {\n",
       "                    if (nbb_cells[i].input_prompt_number == nbb_cell_id) {\n",
       "                        if (nbb_cells[i].get_text() == nbb_unformatted_code) {\n",
       "                             nbb_cells[i].set_text(nbb_formatted_code);\n",
       "                        }\n",
       "                        break;\n",
       "                    }\n",
       "                }\n",
       "            }, 500);\n",
       "            "
      ],
      "text/plain": [
       "<IPython.core.display.Javascript object>"
      ]
     },
     "metadata": {},
     "output_type": "display_data"
    }
   ],
   "source": [
    "# Checking recall score on train and validation set\n",
    "print(\"Recall on train and validation set\")\n",
    "print(recall_score(y_train, rf.predict(X_train)))\n",
    "print(recall_score(y_val, rf.predict(X_val)))\n",
    "print(\"\")\n",
    "\n",
    "# Checking Precision score on train and validation set\n",
    "print(\"Precision on train and validation set\")\n",
    "print(precision_score(y_train, rf.predict(X_train)))\n",
    "print(precision_score(y_val, rf.predict(X_val)))\n",
    "\n",
    "print(\"\")\n",
    "\n",
    "# Checking Accuracy score on train and validation set\n",
    "print(\"Accuracy on train and validation set\")\n",
    "print(accuracy_score(y_train, rf.predict(X_train)))\n",
    "print(accuracy_score(y_val, rf.predict(X_val)))"
   ]
  },
  {
   "cell_type": "markdown",
   "id": "ae589d3a-a0d1-44ad-b4c7-cc51f6c9e377",
   "metadata": {},
   "source": [
    "#### Adaboost"
   ]
  },
  {
   "cell_type": "code",
   "execution_count": 57,
   "id": "c690de4b-649b-43bd-be2d-4bc9fde94933",
   "metadata": {},
   "outputs": [
    {
     "data": {
      "text/plain": [
       "AdaBoostRegressor(random_state=1)"
      ]
     },
     "execution_count": 57,
     "metadata": {},
     "output_type": "execute_result"
    },
    {
     "data": {
      "application/javascript": [
       "\n",
       "            setTimeout(function() {\n",
       "                var nbb_cell_id = 57;\n",
       "                var nbb_unformatted_code = \"ab_regressor=AdaBoostRegressor(random_state=1)\\nab_regressor.fit(X_train,y_train)\";\n",
       "                var nbb_formatted_code = \"ab_regressor = AdaBoostRegressor(random_state=1)\\nab_regressor.fit(X_train, y_train)\";\n",
       "                var nbb_cells = Jupyter.notebook.get_cells();\n",
       "                for (var i = 0; i < nbb_cells.length; ++i) {\n",
       "                    if (nbb_cells[i].input_prompt_number == nbb_cell_id) {\n",
       "                        if (nbb_cells[i].get_text() == nbb_unformatted_code) {\n",
       "                             nbb_cells[i].set_text(nbb_formatted_code);\n",
       "                        }\n",
       "                        break;\n",
       "                    }\n",
       "                }\n",
       "            }, 500);\n",
       "            "
      ],
      "text/plain": [
       "<IPython.core.display.Javascript object>"
      ]
     },
     "metadata": {},
     "output_type": "display_data"
    }
   ],
   "source": [
    "ab_regressor = AdaBoostRegressor(random_state=1)\n",
    "ab_regressor.fit(X_train, y_train)"
   ]
  },
  {
   "cell_type": "markdown",
   "id": "8b891fa4-aa7e-4f5b-9297-85267660a4bc",
   "metadata": {},
   "source": [
    "#### Gradient Boosting Regressor:"
   ]
  },
  {
   "cell_type": "code",
   "execution_count": 58,
   "id": "ed8c3cc3-9345-447f-a1a4-81ee31f2ffc3",
   "metadata": {},
   "outputs": [
    {
     "data": {
      "text/plain": [
       "GradientBoostingRegressor(random_state=1)"
      ]
     },
     "execution_count": 58,
     "metadata": {},
     "output_type": "execute_result"
    },
    {
     "data": {
      "application/javascript": [
       "\n",
       "            setTimeout(function() {\n",
       "                var nbb_cell_id = 58;\n",
       "                var nbb_unformatted_code = \"gb_estimator=GradientBoostingRegressor(random_state=1)\\ngb_estimator.fit(X_train,y_train)\";\n",
       "                var nbb_formatted_code = \"gb_estimator = GradientBoostingRegressor(random_state=1)\\ngb_estimator.fit(X_train, y_train)\";\n",
       "                var nbb_cells = Jupyter.notebook.get_cells();\n",
       "                for (var i = 0; i < nbb_cells.length; ++i) {\n",
       "                    if (nbb_cells[i].input_prompt_number == nbb_cell_id) {\n",
       "                        if (nbb_cells[i].get_text() == nbb_unformatted_code) {\n",
       "                             nbb_cells[i].set_text(nbb_formatted_code);\n",
       "                        }\n",
       "                        break;\n",
       "                    }\n",
       "                }\n",
       "            }, 500);\n",
       "            "
      ],
      "text/plain": [
       "<IPython.core.display.Javascript object>"
      ]
     },
     "metadata": {},
     "output_type": "display_data"
    }
   ],
   "source": [
    "gb_estimator = GradientBoostingRegressor(random_state=1)\n",
    "gb_estimator.fit(X_train, y_train)"
   ]
  },
  {
   "cell_type": "markdown",
   "id": "78b65599-27d2-4436-9b21-faf548d16a1b",
   "metadata": {},
   "source": [
    "#### XGBoost:"
   ]
  },
  {
   "cell_type": "code",
   "execution_count": 59,
   "id": "a6bc7351-9d25-4a06-96ae-f112dd043ee0",
   "metadata": {},
   "outputs": [
    {
     "data": {
      "text/plain": [
       "XGBRegressor(base_score=0.5, booster='gbtree', colsample_bylevel=1,\n",
       "             colsample_bynode=1, colsample_bytree=1, enable_categorical=False,\n",
       "             gamma=0, gpu_id=-1, importance_type=None,\n",
       "             interaction_constraints='', learning_rate=0.300000012,\n",
       "             max_delta_step=0, max_depth=6, min_child_weight=1, missing=nan,\n",
       "             monotone_constraints='()', n_estimators=100, n_jobs=16,\n",
       "             num_parallel_tree=1, predictor='auto', random_state=1, reg_alpha=0,\n",
       "             reg_lambda=1, scale_pos_weight=1, subsample=1, tree_method='exact',\n",
       "             validate_parameters=1, verbosity=None)"
      ]
     },
     "execution_count": 59,
     "metadata": {},
     "output_type": "execute_result"
    },
    {
     "data": {
      "application/javascript": [
       "\n",
       "            setTimeout(function() {\n",
       "                var nbb_cell_id = 59;\n",
       "                var nbb_unformatted_code = \"xgb_estimator =XGBRegressor(random_state=1)\\nxgb_estimator.fit(X_train,y_train)\";\n",
       "                var nbb_formatted_code = \"xgb_estimator = XGBRegressor(random_state=1)\\nxgb_estimator.fit(X_train, y_train)\";\n",
       "                var nbb_cells = Jupyter.notebook.get_cells();\n",
       "                for (var i = 0; i < nbb_cells.length; ++i) {\n",
       "                    if (nbb_cells[i].input_prompt_number == nbb_cell_id) {\n",
       "                        if (nbb_cells[i].get_text() == nbb_unformatted_code) {\n",
       "                             nbb_cells[i].set_text(nbb_formatted_code);\n",
       "                        }\n",
       "                        break;\n",
       "                    }\n",
       "                }\n",
       "            }, 500);\n",
       "            "
      ],
      "text/plain": [
       "<IPython.core.display.Javascript object>"
      ]
     },
     "metadata": {},
     "output_type": "display_data"
    }
   ],
   "source": [
    "xgb_estimator = XGBRegressor(random_state=1)\n",
    "xgb_estimator.fit(X_train, y_train)"
   ]
  },
  {
   "cell_type": "markdown",
   "id": "567d3aed-63d9-41b7-9156-41f96c76f85a",
   "metadata": {},
   "source": [
    "### Sampling:"
   ]
  },
  {
   "cell_type": "code",
   "execution_count": 60,
   "id": "1d13ef6b-fa05-4445-9050-e57427db1298",
   "metadata": {},
   "outputs": [
    {
     "name": "stdout",
     "output_type": "stream",
     "text": [
      "Counter({0: 9848, 1: 152})\n"
     ]
    },
    {
     "data": {
      "text/plain": [
       "Counter({0: 9844, 1: 156})"
      ]
     },
     "execution_count": 60,
     "metadata": {},
     "output_type": "execute_result"
    },
    {
     "data": {
      "application/javascript": [
       "\n",
       "            setTimeout(function() {\n",
       "                var nbb_cell_id = 60;\n",
       "                var nbb_unformatted_code = \"from sklearn.datasets import make_classification\\nfrom imblearn.over_sampling import RandomOverSampler\\nfrom imblearn.under_sampling import RandomUnderSampler\\nfrom collections import Counter\\n# defining the dataset\\nX, y = make_classification(n_samples= 10000, weights=[.99])\\n# class distribution\\nprint(Counter(y))\\nCounter({0: 9844, 1: 156})\";\n",
       "                var nbb_formatted_code = \"from sklearn.datasets import make_classification\\nfrom imblearn.over_sampling import RandomOverSampler\\nfrom imblearn.under_sampling import RandomUnderSampler\\nfrom collections import Counter\\n\\n# defining the dataset\\nX, y = make_classification(n_samples=10000, weights=[0.99])\\n# class distribution\\nprint(Counter(y))\\nCounter({0: 9844, 1: 156})\";\n",
       "                var nbb_cells = Jupyter.notebook.get_cells();\n",
       "                for (var i = 0; i < nbb_cells.length; ++i) {\n",
       "                    if (nbb_cells[i].input_prompt_number == nbb_cell_id) {\n",
       "                        if (nbb_cells[i].get_text() == nbb_unformatted_code) {\n",
       "                             nbb_cells[i].set_text(nbb_formatted_code);\n",
       "                        }\n",
       "                        break;\n",
       "                    }\n",
       "                }\n",
       "            }, 500);\n",
       "            "
      ],
      "text/plain": [
       "<IPython.core.display.Javascript object>"
      ]
     },
     "metadata": {},
     "output_type": "display_data"
    }
   ],
   "source": [
    "from sklearn.datasets import make_classification\n",
    "from imblearn.over_sampling import RandomOverSampler\n",
    "from imblearn.under_sampling import RandomUnderSampler\n",
    "from collections import Counter\n",
    "\n",
    "# defining the dataset\n",
    "X, y = make_classification(n_samples=10000, weights=[0.99])\n",
    "# class distribution\n",
    "print(Counter(y))\n",
    "Counter({0: 9844, 1: 156})"
   ]
  },
  {
   "cell_type": "markdown",
   "id": "7c7cf132-8f0b-4449-83e5-d6a6dd646bac",
   "metadata": {},
   "source": [
    "#### Under Sampling"
   ]
  },
  {
   "cell_type": "code",
   "execution_count": 80,
   "id": "3bb756b2-f5c5-43ad-bf3b-4b7250e61c09",
   "metadata": {},
   "outputs": [
    {
     "data": {
      "application/javascript": [
       "\n",
       "            setTimeout(function() {\n",
       "                var nbb_cell_id = 80;\n",
       "                var nbb_unformatted_code = \"\\n# define undersample strategy\\nundersample = RandomUnderSampler(sampling_strategy='majority')\";\n",
       "                var nbb_formatted_code = \"# define undersample strategy\\nundersample = RandomUnderSampler(sampling_strategy=\\\"majority\\\")\";\n",
       "                var nbb_cells = Jupyter.notebook.get_cells();\n",
       "                for (var i = 0; i < nbb_cells.length; ++i) {\n",
       "                    if (nbb_cells[i].input_prompt_number == nbb_cell_id) {\n",
       "                        if (nbb_cells[i].get_text() == nbb_unformatted_code) {\n",
       "                             nbb_cells[i].set_text(nbb_formatted_code);\n",
       "                        }\n",
       "                        break;\n",
       "                    }\n",
       "                }\n",
       "            }, 500);\n",
       "            "
      ],
      "text/plain": [
       "<IPython.core.display.Javascript object>"
      ]
     },
     "metadata": {},
     "output_type": "display_data"
    }
   ],
   "source": [
    "# define undersample strategy\n",
    "undersample = RandomUnderSampler(sampling_strategy=\"majority\")"
   ]
  },
  {
   "cell_type": "code",
   "execution_count": 85,
   "id": "13b79541-d28a-4291-91d5-e83afc0b2809",
   "metadata": {},
   "outputs": [
    {
     "data": {
      "application/javascript": [
       "\n",
       "            setTimeout(function() {\n",
       "                var nbb_cell_id = 85;\n",
       "                var nbb_unformatted_code = \"# fit and apply the transform\\nX, y = undersample.fit_resample(X, y)\";\n",
       "                var nbb_formatted_code = \"# fit and apply the transform\\nX, y = undersample.fit_resample(X, y)\";\n",
       "                var nbb_cells = Jupyter.notebook.get_cells();\n",
       "                for (var i = 0; i < nbb_cells.length; ++i) {\n",
       "                    if (nbb_cells[i].input_prompt_number == nbb_cell_id) {\n",
       "                        if (nbb_cells[i].get_text() == nbb_unformatted_code) {\n",
       "                             nbb_cells[i].set_text(nbb_formatted_code);\n",
       "                        }\n",
       "                        break;\n",
       "                    }\n",
       "                }\n",
       "            }, 500);\n",
       "            "
      ],
      "text/plain": [
       "<IPython.core.display.Javascript object>"
      ]
     },
     "metadata": {},
     "output_type": "display_data"
    }
   ],
   "source": [
    "# fit and apply the transform\n",
    "X, y = undersample.fit_resample(X, y)"
   ]
  },
  {
   "cell_type": "code",
   "execution_count": 89,
   "id": "12adf267-3fac-4c9b-a3df-3d4817e064b8",
   "metadata": {},
   "outputs": [
    {
     "data": {
      "application/javascript": [
       "\n",
       "            setTimeout(function() {\n",
       "                var nbb_cell_id = 89;\n",
       "                var nbb_unformatted_code = \"### Logistic Regression\\n# There are different solvers available in Sklearn logistic regression\\n# The newton-cg solver is faster for high-dimensional data\\n\\nLogisticUnder = LogisticRegression(solver=\\\"newton-cg\\\", random_state=1)\\nlgu = model.fit(X_train, y_train)\";\n",
       "                var nbb_formatted_code = \"### Logistic Regression\\n# There are different solvers available in Sklearn logistic regression\\n# The newton-cg solver is faster for high-dimensional data\\n\\nLogisticUnder = LogisticRegression(solver=\\\"newton-cg\\\", random_state=1)\\nlgu = model.fit(X_train, y_train)\";\n",
       "                var nbb_cells = Jupyter.notebook.get_cells();\n",
       "                for (var i = 0; i < nbb_cells.length; ++i) {\n",
       "                    if (nbb_cells[i].input_prompt_number == nbb_cell_id) {\n",
       "                        if (nbb_cells[i].get_text() == nbb_unformatted_code) {\n",
       "                             nbb_cells[i].set_text(nbb_formatted_code);\n",
       "                        }\n",
       "                        break;\n",
       "                    }\n",
       "                }\n",
       "            }, 500);\n",
       "            "
      ],
      "text/plain": [
       "<IPython.core.display.Javascript object>"
      ]
     },
     "metadata": {},
     "output_type": "display_data"
    }
   ],
   "source": [
    "### Logistic Regression\n",
    "# There are different solvers available in Sklearn logistic regression\n",
    "# The newton-cg solver is faster for high-dimensional data\n",
    "\n",
    "LogisticUnder = LogisticRegression(solver=\"newton-cg\", random_state=1)\n",
    "lgu = model.fit(X_train, y_train)"
   ]
  },
  {
   "cell_type": "code",
   "execution_count": 90,
   "id": "4c55ea7e-dfbe-402c-b2ea-88da07d67e76",
   "metadata": {
    "tags": []
   },
   "outputs": [
    {
     "data": {
      "text/plain": [
       "BaggingClassifier(random_state=1)"
      ]
     },
     "execution_count": 90,
     "metadata": {},
     "output_type": "execute_result"
    },
    {
     "data": {
      "application/javascript": [
       "\n",
       "            setTimeout(function() {\n",
       "                var nbb_cell_id = 90;\n",
       "                var nbb_unformatted_code = \"#base_estimator for bagging classifier is a decision tree by default\\nbaggingU =BaggingClassifier(random_state=1)\\nbaggingU.fit(X_train,y_train)\";\n",
       "                var nbb_formatted_code = \"# base_estimator for bagging classifier is a decision tree by default\\nbaggingU = BaggingClassifier(random_state=1)\\nbaggingU.fit(X_train, y_train)\";\n",
       "                var nbb_cells = Jupyter.notebook.get_cells();\n",
       "                for (var i = 0; i < nbb_cells.length; ++i) {\n",
       "                    if (nbb_cells[i].input_prompt_number == nbb_cell_id) {\n",
       "                        if (nbb_cells[i].get_text() == nbb_unformatted_code) {\n",
       "                             nbb_cells[i].set_text(nbb_formatted_code);\n",
       "                        }\n",
       "                        break;\n",
       "                    }\n",
       "                }\n",
       "            }, 500);\n",
       "            "
      ],
      "text/plain": [
       "<IPython.core.display.Javascript object>"
      ]
     },
     "metadata": {},
     "output_type": "display_data"
    }
   ],
   "source": [
    "# base_estimator for bagging classifier is a decision tree by default\n",
    "baggingU = BaggingClassifier(random_state=1)\n",
    "baggingU.fit(X_train, y_train)"
   ]
  },
  {
   "cell_type": "code",
   "execution_count": 91,
   "id": "ee548208-59ef-466f-8d1c-a1b548440b6d",
   "metadata": {},
   "outputs": [
    {
     "data": {
      "text/plain": [
       "RandomForestClassifier(random_state=1)"
      ]
     },
     "execution_count": 91,
     "metadata": {},
     "output_type": "execute_result"
    },
    {
     "data": {
      "application/javascript": [
       "\n",
       "            setTimeout(function() {\n",
       "                var nbb_cell_id = 91;\n",
       "                var nbb_unformatted_code = \"# Random Forest model without hyperparameter tuning\\nrfu = RandomForestClassifier(random_state=1)\\nrfu.fit(X_train, y_train)\";\n",
       "                var nbb_formatted_code = \"# Random Forest model without hyperparameter tuning\\nrfu = RandomForestClassifier(random_state=1)\\nrfu.fit(X_train, y_train)\";\n",
       "                var nbb_cells = Jupyter.notebook.get_cells();\n",
       "                for (var i = 0; i < nbb_cells.length; ++i) {\n",
       "                    if (nbb_cells[i].input_prompt_number == nbb_cell_id) {\n",
       "                        if (nbb_cells[i].get_text() == nbb_unformatted_code) {\n",
       "                             nbb_cells[i].set_text(nbb_formatted_code);\n",
       "                        }\n",
       "                        break;\n",
       "                    }\n",
       "                }\n",
       "            }, 500);\n",
       "            "
      ],
      "text/plain": [
       "<IPython.core.display.Javascript object>"
      ]
     },
     "metadata": {},
     "output_type": "display_data"
    }
   ],
   "source": [
    "# Random Forest model without hyperparameter tuning\n",
    "rfu = RandomForestClassifier(random_state=1)\n",
    "rfu.fit(X_train, y_train)"
   ]
  },
  {
   "cell_type": "code",
   "execution_count": 92,
   "id": "50435bcc-eaee-46b1-91fb-1293cde37816",
   "metadata": {},
   "outputs": [
    {
     "data": {
      "text/plain": [
       "AdaBoostRegressor(random_state=1)"
      ]
     },
     "execution_count": 92,
     "metadata": {},
     "output_type": "execute_result"
    },
    {
     "data": {
      "application/javascript": [
       "\n",
       "            setTimeout(function() {\n",
       "                var nbb_cell_id = 92;\n",
       "                var nbb_unformatted_code = \"ab_u=AdaBoostRegressor(random_state=1)\\nab_u.fit(X_train, y_train)\";\n",
       "                var nbb_formatted_code = \"ab_u = AdaBoostRegressor(random_state=1)\\nab_u.fit(X_train, y_train)\";\n",
       "                var nbb_cells = Jupyter.notebook.get_cells();\n",
       "                for (var i = 0; i < nbb_cells.length; ++i) {\n",
       "                    if (nbb_cells[i].input_prompt_number == nbb_cell_id) {\n",
       "                        if (nbb_cells[i].get_text() == nbb_unformatted_code) {\n",
       "                             nbb_cells[i].set_text(nbb_formatted_code);\n",
       "                        }\n",
       "                        break;\n",
       "                    }\n",
       "                }\n",
       "            }, 500);\n",
       "            "
      ],
      "text/plain": [
       "<IPython.core.display.Javascript object>"
      ]
     },
     "metadata": {},
     "output_type": "display_data"
    }
   ],
   "source": [
    "ab_u = AdaBoostRegressor(random_state=1)\n",
    "ab_u.fit(X_train, y_train)"
   ]
  },
  {
   "cell_type": "code",
   "execution_count": 93,
   "id": "23c9cd31-f021-4b8e-9aef-28f6c7e67217",
   "metadata": {},
   "outputs": [
    {
     "data": {
      "text/plain": [
       "GradientBoostingRegressor(random_state=1)"
      ]
     },
     "execution_count": 93,
     "metadata": {},
     "output_type": "execute_result"
    },
    {
     "data": {
      "application/javascript": [
       "\n",
       "            setTimeout(function() {\n",
       "                var nbb_cell_id = 93;\n",
       "                var nbb_unformatted_code = \"gb_u=GradientBoostingRegressor(random_state=1)\\ngb_u.fit(X_train, y_train)\";\n",
       "                var nbb_formatted_code = \"gb_u = GradientBoostingRegressor(random_state=1)\\ngb_u.fit(X_train, y_train)\";\n",
       "                var nbb_cells = Jupyter.notebook.get_cells();\n",
       "                for (var i = 0; i < nbb_cells.length; ++i) {\n",
       "                    if (nbb_cells[i].input_prompt_number == nbb_cell_id) {\n",
       "                        if (nbb_cells[i].get_text() == nbb_unformatted_code) {\n",
       "                             nbb_cells[i].set_text(nbb_formatted_code);\n",
       "                        }\n",
       "                        break;\n",
       "                    }\n",
       "                }\n",
       "            }, 500);\n",
       "            "
      ],
      "text/plain": [
       "<IPython.core.display.Javascript object>"
      ]
     },
     "metadata": {},
     "output_type": "display_data"
    }
   ],
   "source": [
    "gb_u = GradientBoostingRegressor(random_state=1)\n",
    "gb_u.fit(X_train, y_train)"
   ]
  },
  {
   "cell_type": "code",
   "execution_count": 94,
   "id": "1f5133d9-4241-499f-b1be-d873791c81b4",
   "metadata": {},
   "outputs": [
    {
     "data": {
      "text/plain": [
       "XGBRegressor(base_score=0.5, booster='gbtree', colsample_bylevel=1,\n",
       "             colsample_bynode=1, colsample_bytree=1, enable_categorical=False,\n",
       "             gamma=0, gpu_id=-1, importance_type=None,\n",
       "             interaction_constraints='', learning_rate=0.300000012,\n",
       "             max_delta_step=0, max_depth=6, min_child_weight=1, missing=nan,\n",
       "             monotone_constraints='()', n_estimators=100, n_jobs=16,\n",
       "             num_parallel_tree=1, predictor='auto', random_state=1, reg_alpha=0,\n",
       "             reg_lambda=1, scale_pos_weight=1, subsample=1, tree_method='exact',\n",
       "             validate_parameters=1, verbosity=None)"
      ]
     },
     "execution_count": 94,
     "metadata": {},
     "output_type": "execute_result"
    },
    {
     "data": {
      "application/javascript": [
       "\n",
       "            setTimeout(function() {\n",
       "                var nbb_cell_id = 94;\n",
       "                var nbb_unformatted_code = \"xgb_u =XGBRegressor(random_state=1)\\nxgb_u.fit(X_train, y_train)\";\n",
       "                var nbb_formatted_code = \"xgb_u = XGBRegressor(random_state=1)\\nxgb_u.fit(X_train, y_train)\";\n",
       "                var nbb_cells = Jupyter.notebook.get_cells();\n",
       "                for (var i = 0; i < nbb_cells.length; ++i) {\n",
       "                    if (nbb_cells[i].input_prompt_number == nbb_cell_id) {\n",
       "                        if (nbb_cells[i].get_text() == nbb_unformatted_code) {\n",
       "                             nbb_cells[i].set_text(nbb_formatted_code);\n",
       "                        }\n",
       "                        break;\n",
       "                    }\n",
       "                }\n",
       "            }, 500);\n",
       "            "
      ],
      "text/plain": [
       "<IPython.core.display.Javascript object>"
      ]
     },
     "metadata": {},
     "output_type": "display_data"
    }
   ],
   "source": [
    "xgb_u = XGBRegressor(random_state=1)\n",
    "xgb_u.fit(X_train, y_train)"
   ]
  },
  {
   "cell_type": "markdown",
   "id": "54955b1e-8435-4d49-91a5-61a15845e944",
   "metadata": {},
   "source": [
    "#### Over Sampling:"
   ]
  },
  {
   "cell_type": "code",
   "execution_count": 95,
   "id": "7680b11e-c93b-49fd-9bb1-03b01598d3c8",
   "metadata": {},
   "outputs": [
    {
     "data": {
      "application/javascript": [
       "\n",
       "            setTimeout(function() {\n",
       "                var nbb_cell_id = 95;\n",
       "                var nbb_unformatted_code = \"# define oversampling strategy\\noversample = RandomOverSampler(sampling_strategy='minority')\";\n",
       "                var nbb_formatted_code = \"# define oversampling strategy\\noversample = RandomOverSampler(sampling_strategy=\\\"minority\\\")\";\n",
       "                var nbb_cells = Jupyter.notebook.get_cells();\n",
       "                for (var i = 0; i < nbb_cells.length; ++i) {\n",
       "                    if (nbb_cells[i].input_prompt_number == nbb_cell_id) {\n",
       "                        if (nbb_cells[i].get_text() == nbb_unformatted_code) {\n",
       "                             nbb_cells[i].set_text(nbb_formatted_code);\n",
       "                        }\n",
       "                        break;\n",
       "                    }\n",
       "                }\n",
       "            }, 500);\n",
       "            "
      ],
      "text/plain": [
       "<IPython.core.display.Javascript object>"
      ]
     },
     "metadata": {},
     "output_type": "display_data"
    }
   ],
   "source": [
    "# define oversampling strategy\n",
    "oversample = RandomOverSampler(sampling_strategy=\"minority\")"
   ]
  },
  {
   "cell_type": "code",
   "execution_count": 96,
   "id": "42a516b5-bd19-4108-82fd-30c93b93ec90",
   "metadata": {},
   "outputs": [
    {
     "data": {
      "application/javascript": [
       "\n",
       "            setTimeout(function() {\n",
       "                var nbb_cell_id = 96;\n",
       "                var nbb_unformatted_code = \"# fit and apply the transform\\nXo, yo = oversample.fit_resample(X, y)\";\n",
       "                var nbb_formatted_code = \"# fit and apply the transform\\nXo, yo = oversample.fit_resample(X, y)\";\n",
       "                var nbb_cells = Jupyter.notebook.get_cells();\n",
       "                for (var i = 0; i < nbb_cells.length; ++i) {\n",
       "                    if (nbb_cells[i].input_prompt_number == nbb_cell_id) {\n",
       "                        if (nbb_cells[i].get_text() == nbb_unformatted_code) {\n",
       "                             nbb_cells[i].set_text(nbb_formatted_code);\n",
       "                        }\n",
       "                        break;\n",
       "                    }\n",
       "                }\n",
       "            }, 500);\n",
       "            "
      ],
      "text/plain": [
       "<IPython.core.display.Javascript object>"
      ]
     },
     "metadata": {},
     "output_type": "display_data"
    }
   ],
   "source": [
    "# fit and apply the transform\n",
    "Xo, yo = oversample.fit_resample(X, y)"
   ]
  },
  {
   "cell_type": "code",
   "execution_count": 97,
   "id": "c5cc16d0-6bf4-419c-a784-cba7d261cd98",
   "metadata": {},
   "outputs": [
    {
     "name": "stdout",
     "output_type": "stream",
     "text": [
      "(194, 20) (49, 20) (61, 20)\n"
     ]
    },
    {
     "data": {
      "application/javascript": [
       "\n",
       "            setTimeout(function() {\n",
       "                var nbb_cell_id = 97;\n",
       "                var nbb_unformatted_code = \"# Splitting data into training, validation and test set:\\n\\n# first we split data into 2 parts, say temporary and test\\nXo_temp, Xo_test, yo_temp, yo_test = train_test_split(\\n    X, y, test_size=0.2, random_state=5, stratify=y\\n)\\n\\n# then we split the temporary set into train and validation\\nXo_train, Xo_val, yo_train, yo_val = train_test_split(\\n    Xo_temp, yo_temp, test_size=0.2, random_state=5, stratify=y_temp\\n)\\n\\nprint(Xo_train.shape, Xo_val.shape, Xo_test.shape)\";\n",
       "                var nbb_formatted_code = \"# Splitting data into training, validation and test set:\\n\\n# first we split data into 2 parts, say temporary and test\\nXo_temp, Xo_test, yo_temp, yo_test = train_test_split(\\n    X, y, test_size=0.2, random_state=5, stratify=y\\n)\\n\\n# then we split the temporary set into train and validation\\nXo_train, Xo_val, yo_train, yo_val = train_test_split(\\n    Xo_temp, yo_temp, test_size=0.2, random_state=5, stratify=y_temp\\n)\\n\\nprint(Xo_train.shape, Xo_val.shape, Xo_test.shape)\";\n",
       "                var nbb_cells = Jupyter.notebook.get_cells();\n",
       "                for (var i = 0; i < nbb_cells.length; ++i) {\n",
       "                    if (nbb_cells[i].input_prompt_number == nbb_cell_id) {\n",
       "                        if (nbb_cells[i].get_text() == nbb_unformatted_code) {\n",
       "                             nbb_cells[i].set_text(nbb_formatted_code);\n",
       "                        }\n",
       "                        break;\n",
       "                    }\n",
       "                }\n",
       "            }, 500);\n",
       "            "
      ],
      "text/plain": [
       "<IPython.core.display.Javascript object>"
      ]
     },
     "metadata": {},
     "output_type": "display_data"
    }
   ],
   "source": [
    "# Splitting data into training, validation and test set:\n",
    "\n",
    "# first we split data into 2 parts, say temporary and test\n",
    "Xo_temp, Xo_test, yo_temp, yo_test = train_test_split(\n",
    "    X, y, test_size=0.2, random_state=5, stratify=y\n",
    ")\n",
    "\n",
    "# then we split the temporary set into train and validation\n",
    "Xo_train, Xo_val, yo_train, yo_val = train_test_split(\n",
    "    Xo_temp, yo_temp, test_size=0.2, random_state=5, stratify=y_temp\n",
    ")\n",
    "\n",
    "print(Xo_train.shape, Xo_val.shape, Xo_test.shape)"
   ]
  },
  {
   "cell_type": "code",
   "execution_count": 98,
   "id": "eec0dcc5-789d-4bea-9610-14cc38016203",
   "metadata": {},
   "outputs": [
    {
     "data": {
      "application/javascript": [
       "\n",
       "            setTimeout(function() {\n",
       "                var nbb_cell_id = 98;\n",
       "                var nbb_unformatted_code = \"### Logistic Regression\\n# There are different solvers available in Sklearn logistic regression\\n# The newton-cg solver is faster for high-dimensional data\\n\\nLogisticO = LogisticRegression(solver=\\\"newton-cg\\\", random_state=1)\\nlgo = model.fit(Xo_train, yo_train)\";\n",
       "                var nbb_formatted_code = \"### Logistic Regression\\n# There are different solvers available in Sklearn logistic regression\\n# The newton-cg solver is faster for high-dimensional data\\n\\nLogisticO = LogisticRegression(solver=\\\"newton-cg\\\", random_state=1)\\nlgo = model.fit(Xo_train, yo_train)\";\n",
       "                var nbb_cells = Jupyter.notebook.get_cells();\n",
       "                for (var i = 0; i < nbb_cells.length; ++i) {\n",
       "                    if (nbb_cells[i].input_prompt_number == nbb_cell_id) {\n",
       "                        if (nbb_cells[i].get_text() == nbb_unformatted_code) {\n",
       "                             nbb_cells[i].set_text(nbb_formatted_code);\n",
       "                        }\n",
       "                        break;\n",
       "                    }\n",
       "                }\n",
       "            }, 500);\n",
       "            "
      ],
      "text/plain": [
       "<IPython.core.display.Javascript object>"
      ]
     },
     "metadata": {},
     "output_type": "display_data"
    }
   ],
   "source": [
    "### Logistic Regression\n",
    "# There are different solvers available in Sklearn logistic regression\n",
    "# The newton-cg solver is faster for high-dimensional data\n",
    "\n",
    "LogisticO = LogisticRegression(solver=\"newton-cg\", random_state=1)\n",
    "lgo = model.fit(Xo_train, yo_train)"
   ]
  },
  {
   "cell_type": "code",
   "execution_count": 99,
   "id": "bf77b201-eb26-44b3-be7a-ada3095e6c31",
   "metadata": {
    "tags": []
   },
   "outputs": [
    {
     "data": {
      "text/plain": [
       "BaggingClassifier(random_state=1)"
      ]
     },
     "execution_count": 99,
     "metadata": {},
     "output_type": "execute_result"
    },
    {
     "data": {
      "application/javascript": [
       "\n",
       "            setTimeout(function() {\n",
       "                var nbb_cell_id = 99;\n",
       "                var nbb_unformatted_code = \"#base_estimator for bagging classifier is a decision tree by default\\nbaggingo =BaggingClassifier(random_state=1)\\nbaggingo.fit(Xo_train,yo_train)\";\n",
       "                var nbb_formatted_code = \"# base_estimator for bagging classifier is a decision tree by default\\nbaggingo = BaggingClassifier(random_state=1)\\nbaggingo.fit(Xo_train, yo_train)\";\n",
       "                var nbb_cells = Jupyter.notebook.get_cells();\n",
       "                for (var i = 0; i < nbb_cells.length; ++i) {\n",
       "                    if (nbb_cells[i].input_prompt_number == nbb_cell_id) {\n",
       "                        if (nbb_cells[i].get_text() == nbb_unformatted_code) {\n",
       "                             nbb_cells[i].set_text(nbb_formatted_code);\n",
       "                        }\n",
       "                        break;\n",
       "                    }\n",
       "                }\n",
       "            }, 500);\n",
       "            "
      ],
      "text/plain": [
       "<IPython.core.display.Javascript object>"
      ]
     },
     "metadata": {},
     "output_type": "display_data"
    }
   ],
   "source": [
    "# base_estimator for bagging classifier is a decision tree by default\n",
    "baggingo = BaggingClassifier(random_state=1)\n",
    "baggingo.fit(Xo_train, yo_train)"
   ]
  },
  {
   "cell_type": "code",
   "execution_count": 100,
   "id": "33ea332b-c464-4719-88e0-e25e6b361b7c",
   "metadata": {},
   "outputs": [
    {
     "data": {
      "text/plain": [
       "RandomForestClassifier(random_state=1)"
      ]
     },
     "execution_count": 100,
     "metadata": {},
     "output_type": "execute_result"
    },
    {
     "data": {
      "application/javascript": [
       "\n",
       "            setTimeout(function() {\n",
       "                var nbb_cell_id = 100;\n",
       "                var nbb_unformatted_code = \"# Random Forest model without hyperparameter tuning\\nrfo = RandomForestClassifier(random_state=1)\\nrfo.fit(Xo_train, yo_train)\";\n",
       "                var nbb_formatted_code = \"# Random Forest model without hyperparameter tuning\\nrfo = RandomForestClassifier(random_state=1)\\nrfo.fit(Xo_train, yo_train)\";\n",
       "                var nbb_cells = Jupyter.notebook.get_cells();\n",
       "                for (var i = 0; i < nbb_cells.length; ++i) {\n",
       "                    if (nbb_cells[i].input_prompt_number == nbb_cell_id) {\n",
       "                        if (nbb_cells[i].get_text() == nbb_unformatted_code) {\n",
       "                             nbb_cells[i].set_text(nbb_formatted_code);\n",
       "                        }\n",
       "                        break;\n",
       "                    }\n",
       "                }\n",
       "            }, 500);\n",
       "            "
      ],
      "text/plain": [
       "<IPython.core.display.Javascript object>"
      ]
     },
     "metadata": {},
     "output_type": "display_data"
    }
   ],
   "source": [
    "# Random Forest model without hyperparameter tuning\n",
    "rfo = RandomForestClassifier(random_state=1)\n",
    "rfo.fit(Xo_train, yo_train)"
   ]
  },
  {
   "cell_type": "code",
   "execution_count": 101,
   "id": "746eefbc-5c12-4b6e-a2ed-c0f47525ea57",
   "metadata": {},
   "outputs": [
    {
     "data": {
      "text/plain": [
       "AdaBoostRegressor(random_state=1)"
      ]
     },
     "execution_count": 101,
     "metadata": {},
     "output_type": "execute_result"
    },
    {
     "data": {
      "application/javascript": [
       "\n",
       "            setTimeout(function() {\n",
       "                var nbb_cell_id = 101;\n",
       "                var nbb_unformatted_code = \"ab_o=AdaBoostRegressor(random_state=1)\\nab_o.fit(Xo_train,yo_train)\";\n",
       "                var nbb_formatted_code = \"ab_o = AdaBoostRegressor(random_state=1)\\nab_o.fit(Xo_train, yo_train)\";\n",
       "                var nbb_cells = Jupyter.notebook.get_cells();\n",
       "                for (var i = 0; i < nbb_cells.length; ++i) {\n",
       "                    if (nbb_cells[i].input_prompt_number == nbb_cell_id) {\n",
       "                        if (nbb_cells[i].get_text() == nbb_unformatted_code) {\n",
       "                             nbb_cells[i].set_text(nbb_formatted_code);\n",
       "                        }\n",
       "                        break;\n",
       "                    }\n",
       "                }\n",
       "            }, 500);\n",
       "            "
      ],
      "text/plain": [
       "<IPython.core.display.Javascript object>"
      ]
     },
     "metadata": {},
     "output_type": "display_data"
    }
   ],
   "source": [
    "ab_o = AdaBoostRegressor(random_state=1)\n",
    "ab_o.fit(Xo_train, yo_train)"
   ]
  },
  {
   "cell_type": "code",
   "execution_count": 102,
   "id": "8c79482d-befe-46ba-bbbf-ad2c36760053",
   "metadata": {},
   "outputs": [
    {
     "data": {
      "text/plain": [
       "GradientBoostingRegressor(random_state=1)"
      ]
     },
     "execution_count": 102,
     "metadata": {},
     "output_type": "execute_result"
    },
    {
     "data": {
      "application/javascript": [
       "\n",
       "            setTimeout(function() {\n",
       "                var nbb_cell_id = 102;\n",
       "                var nbb_unformatted_code = \"gb_o=GradientBoostingRegressor(random_state=1)\\ngb_o.fit(Xo_train,yo_train)\";\n",
       "                var nbb_formatted_code = \"gb_o = GradientBoostingRegressor(random_state=1)\\ngb_o.fit(Xo_train, yo_train)\";\n",
       "                var nbb_cells = Jupyter.notebook.get_cells();\n",
       "                for (var i = 0; i < nbb_cells.length; ++i) {\n",
       "                    if (nbb_cells[i].input_prompt_number == nbb_cell_id) {\n",
       "                        if (nbb_cells[i].get_text() == nbb_unformatted_code) {\n",
       "                             nbb_cells[i].set_text(nbb_formatted_code);\n",
       "                        }\n",
       "                        break;\n",
       "                    }\n",
       "                }\n",
       "            }, 500);\n",
       "            "
      ],
      "text/plain": [
       "<IPython.core.display.Javascript object>"
      ]
     },
     "metadata": {},
     "output_type": "display_data"
    }
   ],
   "source": [
    "gb_o = GradientBoostingRegressor(random_state=1)\n",
    "gb_o.fit(Xo_train, yo_train)"
   ]
  },
  {
   "cell_type": "code",
   "execution_count": 103,
   "id": "eade71f6-092d-490d-97b1-db60a0e8ce25",
   "metadata": {},
   "outputs": [
    {
     "data": {
      "text/plain": [
       "XGBRegressor(base_score=0.5, booster='gbtree', colsample_bylevel=1,\n",
       "             colsample_bynode=1, colsample_bytree=1, enable_categorical=False,\n",
       "             gamma=0, gpu_id=-1, importance_type=None,\n",
       "             interaction_constraints='', learning_rate=0.300000012,\n",
       "             max_delta_step=0, max_depth=6, min_child_weight=1, missing=nan,\n",
       "             monotone_constraints='()', n_estimators=100, n_jobs=16,\n",
       "             num_parallel_tree=1, predictor='auto', random_state=1, reg_alpha=0,\n",
       "             reg_lambda=1, scale_pos_weight=1, subsample=1, tree_method='exact',\n",
       "             validate_parameters=1, verbosity=None)"
      ]
     },
     "execution_count": 103,
     "metadata": {},
     "output_type": "execute_result"
    },
    {
     "data": {
      "application/javascript": [
       "\n",
       "            setTimeout(function() {\n",
       "                var nbb_cell_id = 103;\n",
       "                var nbb_unformatted_code = \"xgb_o =XGBRegressor(random_state=1)\\nxgb_o.fit(Xo_train,yo_train)\";\n",
       "                var nbb_formatted_code = \"xgb_o = XGBRegressor(random_state=1)\\nxgb_o.fit(Xo_train, yo_train)\";\n",
       "                var nbb_cells = Jupyter.notebook.get_cells();\n",
       "                for (var i = 0; i < nbb_cells.length; ++i) {\n",
       "                    if (nbb_cells[i].input_prompt_number == nbb_cell_id) {\n",
       "                        if (nbb_cells[i].get_text() == nbb_unformatted_code) {\n",
       "                             nbb_cells[i].set_text(nbb_formatted_code);\n",
       "                        }\n",
       "                        break;\n",
       "                    }\n",
       "                }\n",
       "            }, 500);\n",
       "            "
      ],
      "text/plain": [
       "<IPython.core.display.Javascript object>"
      ]
     },
     "metadata": {},
     "output_type": "display_data"
    }
   ],
   "source": [
    "xgb_o = XGBRegressor(random_state=1)\n",
    "xgb_o.fit(Xo_train, yo_train)"
   ]
  },
  {
   "cell_type": "markdown",
   "id": "93335364-a54b-43b0-be42-f9cc56aa816e",
   "metadata": {},
   "source": [
    "#### XGBoost Tuning:"
   ]
  },
  {
   "cell_type": "code",
   "execution_count": 111,
   "id": "69f7da4c-d34d-4515-848d-9771eb591a16",
   "metadata": {},
   "outputs": [
    {
     "name": "stdout",
     "output_type": "stream",
     "text": [
      "Best parameters are {'subsample': 1, 'scale_pos_weight': 5, 'reg_lambda': 10, 'n_estimators': 100, 'max_depth': 1, 'learning_rate': 0.01, 'gamma': 5} with CV score=1.0:\n",
      "Wall time: 8.23 s\n"
     ]
    },
    {
     "data": {
      "application/javascript": [
       "\n",
       "            setTimeout(function() {\n",
       "                var nbb_cell_id = 111;\n",
       "                var nbb_unformatted_code = \"%%time\\n\\n# defining model\\nmodel = XGBClassifier(random_state=1,eval_metric='logloss')\\n\\n# Parameter grid to pass in RandomizedSearchCV\\nparam_grid={'n_estimators':np.arange(50,150,50),\\n            'scale_pos_weight':[2,5,10],\\n            'learning_rate':[0.01,0.1,0.2,0.05],\\n            'gamma':[0,1,3,5],\\n            'subsample':[0.8,0.9,1],\\n            'max_depth':np.arange(1,5,1),\\n            'reg_lambda':[5,10]}\\n\\n# Type of scoring used to compare parameter combinations\\nscorer = metrics.make_scorer(metrics.recall_score)\\n\\n#Calling RandomizedSearchCV\\nxgb_tuned2 = RandomizedSearchCV(estimator=model, param_distributions=param_grid, n_iter=50, scoring=scorer, cv=5, random_state=1, n_jobs = -1)\\n\\n#Fitting parameters in RandomizedSearchCV\\nxgb_tuned2.fit(X_train,y_train)\\n\\nprint(\\\"Best parameters are {} with CV score={}:\\\" .format(xgb_tuned2.best_params_,xgb_tuned2.best_score_))\";\n",
       "                var nbb_formatted_code = \"%%time\\n\\n# defining model\\nmodel = XGBClassifier(random_state=1,eval_metric='logloss')\\n\\n# Parameter grid to pass in RandomizedSearchCV\\nparam_grid={'n_estimators':np.arange(50,150,50),\\n            'scale_pos_weight':[2,5,10],\\n            'learning_rate':[0.01,0.1,0.2,0.05],\\n            'gamma':[0,1,3,5],\\n            'subsample':[0.8,0.9,1],\\n            'max_depth':np.arange(1,5,1),\\n            'reg_lambda':[5,10]}\\n\\n# Type of scoring used to compare parameter combinations\\nscorer = metrics.make_scorer(metrics.recall_score)\\n\\n#Calling RandomizedSearchCV\\nxgb_tuned2 = RandomizedSearchCV(estimator=model, param_distributions=param_grid, n_iter=50, scoring=scorer, cv=5, random_state=1, n_jobs = -1)\\n\\n#Fitting parameters in RandomizedSearchCV\\nxgb_tuned2.fit(X_train,y_train)\\n\\nprint(\\\"Best parameters are {} with CV score={}:\\\" .format(xgb_tuned2.best_params_,xgb_tuned2.best_score_))\";\n",
       "                var nbb_cells = Jupyter.notebook.get_cells();\n",
       "                for (var i = 0; i < nbb_cells.length; ++i) {\n",
       "                    if (nbb_cells[i].input_prompt_number == nbb_cell_id) {\n",
       "                        if (nbb_cells[i].get_text() == nbb_unformatted_code) {\n",
       "                             nbb_cells[i].set_text(nbb_formatted_code);\n",
       "                        }\n",
       "                        break;\n",
       "                    }\n",
       "                }\n",
       "            }, 500);\n",
       "            "
      ],
      "text/plain": [
       "<IPython.core.display.Javascript object>"
      ]
     },
     "metadata": {},
     "output_type": "display_data"
    }
   ],
   "source": [
    "%%time\n",
    "\n",
    "# defining model\n",
    "model = XGBClassifier(random_state=1,eval_metric='logloss')\n",
    "\n",
    "# Parameter grid to pass in RandomizedSearchCV\n",
    "param_grid={'n_estimators':np.arange(50,150,50),\n",
    "            'scale_pos_weight':[2,5,10],\n",
    "            'learning_rate':[0.01,0.1,0.2,0.05],\n",
    "            'gamma':[0,1,3,5],\n",
    "            'subsample':[0.8,0.9,1],\n",
    "            'max_depth':np.arange(1,5,1),\n",
    "            'reg_lambda':[5,10]}\n",
    "\n",
    "# Type of scoring used to compare parameter combinations\n",
    "scorer = metrics.make_scorer(metrics.recall_score)\n",
    "\n",
    "#Calling RandomizedSearchCV\n",
    "xgb_tuned2 = RandomizedSearchCV(estimator=model, param_distributions=param_grid, n_iter=50, scoring=scorer, cv=5, random_state=1, n_jobs = -1)\n",
    "\n",
    "#Fitting parameters in RandomizedSearchCV\n",
    "xgb_tuned2.fit(X_train,y_train)\n",
    "\n",
    "print(\"Best parameters are {} with CV score={}:\" .format(xgb_tuned2.best_params_,xgb_tuned2.best_score_))"
   ]
  },
  {
   "cell_type": "code",
   "execution_count": 112,
   "id": "5d617230-a398-42f9-8c2d-eba947b02783",
   "metadata": {},
   "outputs": [
    {
     "data": {
      "text/plain": [
       "XGBClassifier(base_score=0.5, booster='gbtree', colsample_bylevel=1,\n",
       "              colsample_bynode=1, colsample_bytree=1, enable_categorical=False,\n",
       "              eval_metric='logloss', gamma=1, gpu_id=-1, importance_type=None,\n",
       "              interaction_constraints='', learning_rate=0.1, max_delta_step=0,\n",
       "              max_depth=1, min_child_weight=1, missing=nan,\n",
       "              monotone_constraints='()', n_estimators=50, n_jobs=16,\n",
       "              num_parallel_tree=1, predictor='auto', random_state=1,\n",
       "              reg_alpha=0, reg_lambda=10, scale_pos_weight=10, subsample=1,\n",
       "              tree_method='exact', validate_parameters=1, verbosity=None)"
      ]
     },
     "execution_count": 112,
     "metadata": {},
     "output_type": "execute_result"
    },
    {
     "data": {
      "application/javascript": [
       "\n",
       "            setTimeout(function() {\n",
       "                var nbb_cell_id = 112;\n",
       "                var nbb_unformatted_code = \"# building model with best parameters\\nxgb_tuned2 = XGBClassifier(\\n    random_state=1,\\n    n_estimators=50,\\n    scale_pos_weight=10,\\n    gamma=1,\\n    subsample=1,\\n    learning_rate=0.1,\\n    eval_metric=\\\"logloss\\\",\\n    max_depth=1,\\n    reg_lambda=10,\\n)\\n# Fit the model on training data\\nxgb_tuned2.fit(X_train, y_train)\";\n",
       "                var nbb_formatted_code = \"# building model with best parameters\\nxgb_tuned2 = XGBClassifier(\\n    random_state=1,\\n    n_estimators=50,\\n    scale_pos_weight=10,\\n    gamma=1,\\n    subsample=1,\\n    learning_rate=0.1,\\n    eval_metric=\\\"logloss\\\",\\n    max_depth=1,\\n    reg_lambda=10,\\n)\\n# Fit the model on training data\\nxgb_tuned2.fit(X_train, y_train)\";\n",
       "                var nbb_cells = Jupyter.notebook.get_cells();\n",
       "                for (var i = 0; i < nbb_cells.length; ++i) {\n",
       "                    if (nbb_cells[i].input_prompt_number == nbb_cell_id) {\n",
       "                        if (nbb_cells[i].get_text() == nbb_unformatted_code) {\n",
       "                             nbb_cells[i].set_text(nbb_formatted_code);\n",
       "                        }\n",
       "                        break;\n",
       "                    }\n",
       "                }\n",
       "            }, 500);\n",
       "            "
      ],
      "text/plain": [
       "<IPython.core.display.Javascript object>"
      ]
     },
     "metadata": {},
     "output_type": "display_data"
    }
   ],
   "source": [
    "# building model with best parameters\n",
    "xgb_tuned2 = XGBClassifier(\n",
    "    random_state=1,\n",
    "    n_estimators=50,\n",
    "    scale_pos_weight=10,\n",
    "    gamma=1,\n",
    "    subsample=1,\n",
    "    learning_rate=0.1,\n",
    "    eval_metric=\"logloss\",\n",
    "    max_depth=1,\n",
    "    reg_lambda=10,\n",
    ")\n",
    "# Fit the model on training data\n",
    "xgb_tuned2.fit(X_train, y_train)"
   ]
  },
  {
   "cell_type": "code",
   "execution_count": 113,
   "id": "3e81674e-6ecb-46a3-9936-7e2b44d534e4",
   "metadata": {},
   "outputs": [
    {
     "name": "stdout",
     "output_type": "stream",
     "text": [
      "Training performance:\n",
      "   Accuracy  Recall  Precision    F1\n",
      "0     0.500   1.000      0.500 0.667\n",
      "*************************************\n"
     ]
    },
    {
     "data": {
      "image/png": "[encoded data removed]",
      "text/plain": [
       "<Figure size 432x288 with 2 Axes>"
      ]
     },
     "metadata": {},
     "output_type": "display_data"
    },
    {
     "data": {
      "application/javascript": [
       "\n",
       "            setTimeout(function() {\n",
       "                var nbb_cell_id = 113;\n",
       "                var nbb_unformatted_code = \"# Calculating different metrics on train set\\nxgboost_random_train = model_performance_classification_sklearn(\\n    xgb_tuned2, X_train, y_train\\n)\\nprint(\\\"Training performance:\\\")\\nprint(xgboost_random_train)\\n\\nprint(\\\"*************************************\\\")\\n\\n\\n# creating confusion matrix\\nconfusion_matrix_sklearn(xgb_tuned2, X_train, y_train)\";\n",
       "                var nbb_formatted_code = \"# Calculating different metrics on train set\\nxgboost_random_train = model_performance_classification_sklearn(\\n    xgb_tuned2, X_train, y_train\\n)\\nprint(\\\"Training performance:\\\")\\nprint(xgboost_random_train)\\n\\nprint(\\\"*************************************\\\")\\n\\n\\n# creating confusion matrix\\nconfusion_matrix_sklearn(xgb_tuned2, X_train, y_train)\";\n",
       "                var nbb_cells = Jupyter.notebook.get_cells();\n",
       "                for (var i = 0; i < nbb_cells.length; ++i) {\n",
       "                    if (nbb_cells[i].input_prompt_number == nbb_cell_id) {\n",
       "                        if (nbb_cells[i].get_text() == nbb_unformatted_code) {\n",
       "                             nbb_cells[i].set_text(nbb_formatted_code);\n",
       "                        }\n",
       "                        break;\n",
       "                    }\n",
       "                }\n",
       "            }, 500);\n",
       "            "
      ],
      "text/plain": [
       "<IPython.core.display.Javascript object>"
      ]
     },
     "metadata": {},
     "output_type": "display_data"
    }
   ],
   "source": [
    "# Calculating different metrics on train set\n",
    "xgboost_random_train = model_performance_classification_sklearn(\n",
    "    xgb_tuned2, X_train, y_train\n",
    ")\n",
    "print(\"Training performance:\")\n",
    "print(xgboost_random_train)\n",
    "\n",
    "print(\"*************************************\")\n",
    "\n",
    "\n",
    "# creating confusion matrix\n",
    "confusion_matrix_sklearn(xgb_tuned2, X_train, y_train)"
   ]
  },
  {
   "cell_type": "markdown",
   "id": "351568dc-a412-4ebe-96b3-c2f480963aef",
   "metadata": {},
   "source": [
    "- XGBoost is very accurate"
   ]
  },
  {
   "cell_type": "markdown",
   "id": "96c36bac-5406-461f-98be-b0ea25074921",
   "metadata": {},
   "source": [
    "#### Random Forest Tuned:"
   ]
  },
  {
   "cell_type": "code",
   "execution_count": 114,
   "id": "e4e63992-2a74-49d7-83f1-111cdbb18854",
   "metadata": {},
   "outputs": [
    {
     "name": "stdout",
     "output_type": "stream",
     "text": [
      "Fitting 5 folds for each of 30 candidates, totalling 150 fits\n",
      "Wall time: 6.39 s\n"
     ]
    },
    {
     "data": {
      "text/plain": [
       "{'n_estimators': 150,\n",
       " 'min_samples_leaf': 6,\n",
       " 'min_impurity_decrease': 0.001,\n",
       " 'max_samples': 0.4,\n",
       " 'max_features': 0.2,\n",
       " 'max_depth': 3,\n",
       " 'class_weight': 'balanced'}"
      ]
     },
     "execution_count": 114,
     "metadata": {},
     "output_type": "execute_result"
    },
    {
     "data": {
      "application/javascript": [
       "\n",
       "            setTimeout(function() {\n",
       "                var nbb_cell_id = 114;\n",
       "                var nbb_unformatted_code = \"%%time\\n\\n# Choose the type of classifier. \\nrf2 = RandomForestClassifier(random_state=1)\\n\\n# Grid of parameters to choose from\\nparameters = {\\\"n_estimators\\\": [150,200,250],\\n    \\\"min_samples_leaf\\\": np.arange(5, 10),\\n    \\\"max_features\\\": np.arange(0.2, 0.7, 0.1), \\n    \\\"max_samples\\\": np.arange(0.3, 0.7, 0.1),\\n    \\\"max_depth\\\":np.arange(3,4,5),\\n    \\\"class_weight\\\" : ['balanced', 'balanced_subsample'],\\n    \\\"min_impurity_decrease\\\":[0.001, 0.002, 0.003]\\n             }\\n\\n# Type of scoring used to compare parameter combinations\\nacc_scorer = metrics.make_scorer(metrics.recall_score)\\n\\n# Run the random search\\ngrid_obj = RandomizedSearchCV(rf2, parameters,n_iter=30, scoring=acc_scorer,cv=5, random_state = 1, n_jobs = -1, verbose = 2)\\n# using n_iter = 30, so randomized search will try 30 different combinations of hyperparameters\\n# by default, n_iter = 10\\n\\ngrid_obj = grid_obj.fit(X_train, y_train)\\n\\n# Print the best combination of parameters\\ngrid_obj.best_params_\";\n",
       "                var nbb_formatted_code = \"%%time\\n\\n# Choose the type of classifier. \\nrf2 = RandomForestClassifier(random_state=1)\\n\\n# Grid of parameters to choose from\\nparameters = {\\\"n_estimators\\\": [150,200,250],\\n    \\\"min_samples_leaf\\\": np.arange(5, 10),\\n    \\\"max_features\\\": np.arange(0.2, 0.7, 0.1), \\n    \\\"max_samples\\\": np.arange(0.3, 0.7, 0.1),\\n    \\\"max_depth\\\":np.arange(3,4,5),\\n    \\\"class_weight\\\" : ['balanced', 'balanced_subsample'],\\n    \\\"min_impurity_decrease\\\":[0.001, 0.002, 0.003]\\n             }\\n\\n# Type of scoring used to compare parameter combinations\\nacc_scorer = metrics.make_scorer(metrics.recall_score)\\n\\n# Run the random search\\ngrid_obj = RandomizedSearchCV(rf2, parameters,n_iter=30, scoring=acc_scorer,cv=5, random_state = 1, n_jobs = -1, verbose = 2)\\n# using n_iter = 30, so randomized search will try 30 different combinations of hyperparameters\\n# by default, n_iter = 10\\n\\ngrid_obj = grid_obj.fit(X_train, y_train)\\n\\n# Print the best combination of parameters\\ngrid_obj.best_params_\";\n",
       "                var nbb_cells = Jupyter.notebook.get_cells();\n",
       "                for (var i = 0; i < nbb_cells.length; ++i) {\n",
       "                    if (nbb_cells[i].input_prompt_number == nbb_cell_id) {\n",
       "                        if (nbb_cells[i].get_text() == nbb_unformatted_code) {\n",
       "                             nbb_cells[i].set_text(nbb_formatted_code);\n",
       "                        }\n",
       "                        break;\n",
       "                    }\n",
       "                }\n",
       "            }, 500);\n",
       "            "
      ],
      "text/plain": [
       "<IPython.core.display.Javascript object>"
      ]
     },
     "metadata": {},
     "output_type": "display_data"
    }
   ],
   "source": [
    "%%time\n",
    "\n",
    "# Choose the type of classifier. \n",
    "rf2 = RandomForestClassifier(random_state=1)\n",
    "\n",
    "# Grid of parameters to choose from\n",
    "parameters = {\"n_estimators\": [150,200,250],\n",
    "    \"min_samples_leaf\": np.arange(5, 10),\n",
    "    \"max_features\": np.arange(0.2, 0.7, 0.1), \n",
    "    \"max_samples\": np.arange(0.3, 0.7, 0.1),\n",
    "    \"max_depth\":np.arange(3,4,5),\n",
    "    \"class_weight\" : ['balanced', 'balanced_subsample'],\n",
    "    \"min_impurity_decrease\":[0.001, 0.002, 0.003]\n",
    "             }\n",
    "\n",
    "# Type of scoring used to compare parameter combinations\n",
    "acc_scorer = metrics.make_scorer(metrics.recall_score)\n",
    "\n",
    "# Run the random search\n",
    "grid_obj = RandomizedSearchCV(rf2, parameters,n_iter=30, scoring=acc_scorer,cv=5, random_state = 1, n_jobs = -1, verbose = 2)\n",
    "# using n_iter = 30, so randomized search will try 30 different combinations of hyperparameters\n",
    "# by default, n_iter = 10\n",
    "\n",
    "grid_obj = grid_obj.fit(X_train, y_train)\n",
    "\n",
    "# Print the best combination of parameters\n",
    "grid_obj.best_params_\n"
   ]
  },
  {
   "cell_type": "code",
   "execution_count": 115,
   "id": "6f21881f-daac-4d0c-a668-af8d0b8fad94",
   "metadata": {},
   "outputs": [
    {
     "data": {
      "text/plain": [
       "0.7015789473684211"
      ]
     },
     "execution_count": 115,
     "metadata": {},
     "output_type": "execute_result"
    },
    {
     "data": {
      "application/javascript": [
       "\n",
       "            setTimeout(function() {\n",
       "                var nbb_cell_id = 115;\n",
       "                var nbb_unformatted_code = \"grid_obj.best_score_\";\n",
       "                var nbb_formatted_code = \"grid_obj.best_score_\";\n",
       "                var nbb_cells = Jupyter.notebook.get_cells();\n",
       "                for (var i = 0; i < nbb_cells.length; ++i) {\n",
       "                    if (nbb_cells[i].input_prompt_number == nbb_cell_id) {\n",
       "                        if (nbb_cells[i].get_text() == nbb_unformatted_code) {\n",
       "                             nbb_cells[i].set_text(nbb_formatted_code);\n",
       "                        }\n",
       "                        break;\n",
       "                    }\n",
       "                }\n",
       "            }, 500);\n",
       "            "
      ],
      "text/plain": [
       "<IPython.core.display.Javascript object>"
      ]
     },
     "metadata": {},
     "output_type": "display_data"
    }
   ],
   "source": [
    "grid_obj.best_score_"
   ]
  },
  {
   "cell_type": "code",
   "execution_count": 116,
   "id": "92196c9e-dce3-4c2f-8969-ee88c60243ac",
   "metadata": {},
   "outputs": [
    {
     "data": {
      "text/plain": [
       "RandomForestClassifier(class_weight='balanced', max_depth=3, max_features=0.2,\n",
       "                       max_samples=0.5, min_impurity_decrease=0.003,\n",
       "                       min_samples_leaf=5, n_estimators=150, random_state=1)"
      ]
     },
     "execution_count": 116,
     "metadata": {},
     "output_type": "execute_result"
    },
    {
     "data": {
      "application/javascript": [
       "\n",
       "            setTimeout(function() {\n",
       "                var nbb_cell_id = 116;\n",
       "                var nbb_unformatted_code = \"# Set the clf to the best combination of parameters\\nrf2_tuned = RandomForestClassifier(\\n    class_weight=\\\"balanced\\\",\\n    max_features=0.2,\\n    max_samples=0.5,\\n    min_samples_leaf=5,\\n    n_estimators=150,\\n    random_state=1,\\n    max_depth=3,\\n    min_impurity_decrease=0.003,\\n)\\n\\n# Fit the best algorithm to the data.\\nrf2_tuned.fit(X_train, y_train)\";\n",
       "                var nbb_formatted_code = \"# Set the clf to the best combination of parameters\\nrf2_tuned = RandomForestClassifier(\\n    class_weight=\\\"balanced\\\",\\n    max_features=0.2,\\n    max_samples=0.5,\\n    min_samples_leaf=5,\\n    n_estimators=150,\\n    random_state=1,\\n    max_depth=3,\\n    min_impurity_decrease=0.003,\\n)\\n\\n# Fit the best algorithm to the data.\\nrf2_tuned.fit(X_train, y_train)\";\n",
       "                var nbb_cells = Jupyter.notebook.get_cells();\n",
       "                for (var i = 0; i < nbb_cells.length; ++i) {\n",
       "                    if (nbb_cells[i].input_prompt_number == nbb_cell_id) {\n",
       "                        if (nbb_cells[i].get_text() == nbb_unformatted_code) {\n",
       "                             nbb_cells[i].set_text(nbb_formatted_code);\n",
       "                        }\n",
       "                        break;\n",
       "                    }\n",
       "                }\n",
       "            }, 500);\n",
       "            "
      ],
      "text/plain": [
       "<IPython.core.display.Javascript object>"
      ]
     },
     "metadata": {},
     "output_type": "display_data"
    }
   ],
   "source": [
    "# Set the clf to the best combination of parameters\n",
    "rf2_tuned = RandomForestClassifier(\n",
    "    class_weight=\"balanced\",\n",
    "    max_features=0.2,\n",
    "    max_samples=0.5,\n",
    "    min_samples_leaf=5,\n",
    "    n_estimators=150,\n",
    "    random_state=1,\n",
    "    max_depth=3,\n",
    "    min_impurity_decrease=0.003,\n",
    ")\n",
    "\n",
    "# Fit the best algorithm to the data.\n",
    "rf2_tuned.fit(X_train, y_train)"
   ]
  },
  {
   "cell_type": "code",
   "execution_count": 117,
   "id": "5db7566a-6150-4b09-9c2d-0600ee7756b8",
   "metadata": {},
   "outputs": [
    {
     "name": "stdout",
     "output_type": "stream",
     "text": [
      "Recall on train and validation set\n",
      "0.7422680412371134\n",
      "0.75\n",
      "\n",
      "Precision on train and validation set\n",
      "0.9230769230769231\n",
      "0.72\n",
      "\n",
      "Accuracy on train and validation set\n",
      "0.8402061855670103\n",
      "0.7346938775510204\n"
     ]
    },
    {
     "data": {
      "application/javascript": [
       "\n",
       "            setTimeout(function() {\n",
       "                var nbb_cell_id = 117;\n",
       "                var nbb_unformatted_code = \"# Checking recall score on train and validation set\\nprint(\\\"Recall on train and validation set\\\")\\nprint(recall_score(y_train, rf2_tuned.predict(X_train)))\\nprint(recall_score(y_val, rf2_tuned.predict(X_val)))\\nprint(\\\"\\\")\\nprint(\\\"Precision on train and validation set\\\")\\n# Checking precision score on train and validation set\\nprint(precision_score(y_train, rf2_tuned.predict(X_train)))\\nprint(precision_score(y_val, rf2_tuned.predict(X_val)))\\nprint(\\\"\\\")\\nprint(\\\"Accuracy on train and validation set\\\")\\n# Checking accuracy score on train and validation set\\nprint(accuracy_score(y_train, rf2_tuned.predict(X_train)))\\nprint(accuracy_score(y_val, rf2_tuned.predict(X_val)))\";\n",
       "                var nbb_formatted_code = \"# Checking recall score on train and validation set\\nprint(\\\"Recall on train and validation set\\\")\\nprint(recall_score(y_train, rf2_tuned.predict(X_train)))\\nprint(recall_score(y_val, rf2_tuned.predict(X_val)))\\nprint(\\\"\\\")\\nprint(\\\"Precision on train and validation set\\\")\\n# Checking precision score on train and validation set\\nprint(precision_score(y_train, rf2_tuned.predict(X_train)))\\nprint(precision_score(y_val, rf2_tuned.predict(X_val)))\\nprint(\\\"\\\")\\nprint(\\\"Accuracy on train and validation set\\\")\\n# Checking accuracy score on train and validation set\\nprint(accuracy_score(y_train, rf2_tuned.predict(X_train)))\\nprint(accuracy_score(y_val, rf2_tuned.predict(X_val)))\";\n",
       "                var nbb_cells = Jupyter.notebook.get_cells();\n",
       "                for (var i = 0; i < nbb_cells.length; ++i) {\n",
       "                    if (nbb_cells[i].input_prompt_number == nbb_cell_id) {\n",
       "                        if (nbb_cells[i].get_text() == nbb_unformatted_code) {\n",
       "                             nbb_cells[i].set_text(nbb_formatted_code);\n",
       "                        }\n",
       "                        break;\n",
       "                    }\n",
       "                }\n",
       "            }, 500);\n",
       "            "
      ],
      "text/plain": [
       "<IPython.core.display.Javascript object>"
      ]
     },
     "metadata": {},
     "output_type": "display_data"
    }
   ],
   "source": [
    "# Checking recall score on train and validation set\n",
    "print(\"Recall on train and validation set\")\n",
    "print(recall_score(y_train, rf2_tuned.predict(X_train)))\n",
    "print(recall_score(y_val, rf2_tuned.predict(X_val)))\n",
    "print(\"\")\n",
    "print(\"Precision on train and validation set\")\n",
    "# Checking precision score on train and validation set\n",
    "print(precision_score(y_train, rf2_tuned.predict(X_train)))\n",
    "print(precision_score(y_val, rf2_tuned.predict(X_val)))\n",
    "print(\"\")\n",
    "print(\"Accuracy on train and validation set\")\n",
    "# Checking accuracy score on train and validation set\n",
    "print(accuracy_score(y_train, rf2_tuned.predict(X_train)))\n",
    "print(accuracy_score(y_val, rf2_tuned.predict(X_val)))"
   ]
  },
  {
   "cell_type": "markdown",
   "id": "4ec817b8-1a76-4c53-b857-75f2abb39fc3",
   "metadata": {},
   "source": [
    "#### Gradient Boosting Tuning"
   ]
  },
  {
   "cell_type": "code",
   "execution_count": 118,
   "id": "0476e5bd-dc83-44c0-9b19-40d502e7006e",
   "metadata": {},
   "outputs": [
    {
     "name": "stdout",
     "output_type": "stream",
     "text": [
      "Best parameters are {'subsample': 1, 'scale_pos_weight': 5, 'reg_lambda': 10, 'n_estimators': 100, 'max_depth': 1, 'learning_rate': 0.01, 'gamma': 5} with CV score=1.0:\n",
      "Wall time: 4.2 s\n"
     ]
    },
    {
     "data": {
      "application/javascript": [
       "\n",
       "            setTimeout(function() {\n",
       "                var nbb_cell_id = 118;\n",
       "                var nbb_unformatted_code = \"%%time\\n\\n# defining model\\nmodelGB = GradientBoostingRegressor(random_state=1)\\n\\n# Parameter grid to pass in RandomizedSearchCV\\nparam_grid={'n_estimators':np.arange(50,150,50),\\n            'scale_pos_weight':[2,5,10],\\n            'learning_rate':[0.01,0.1,0.2,0.05],\\n            'gamma':[0,1,3,5],\\n            'subsample':[0.8,0.9,1],\\n            'max_depth':np.arange(1,5,1),\\n            'reg_lambda':[5,10]}\\n\\n# Type of scoring used to compare parameter combinations\\nscorer = metrics.make_scorer(metrics.recall_score)\\n\\n#Calling RandomizedSearchCV\\ngb_tuned2 = RandomizedSearchCV(estimator=model, param_distributions=param_grid, n_iter=50, scoring=scorer, cv=5, random_state=1, n_jobs = -1)\\n\\n#Fitting parameters in RandomizedSearchCV\\ngb_tuned2.fit(X_train,y_train)\\n\\nprint(\\\"Best parameters are {} with CV score={}:\\\" .format(gb_tuned2.best_params_,gb_tuned2.best_score_))\";\n",
       "                var nbb_formatted_code = \"%%time\\n\\n# defining model\\nmodelGB = GradientBoostingRegressor(random_state=1)\\n\\n# Parameter grid to pass in RandomizedSearchCV\\nparam_grid={'n_estimators':np.arange(50,150,50),\\n            'scale_pos_weight':[2,5,10],\\n            'learning_rate':[0.01,0.1,0.2,0.05],\\n            'gamma':[0,1,3,5],\\n            'subsample':[0.8,0.9,1],\\n            'max_depth':np.arange(1,5,1),\\n            'reg_lambda':[5,10]}\\n\\n# Type of scoring used to compare parameter combinations\\nscorer = metrics.make_scorer(metrics.recall_score)\\n\\n#Calling RandomizedSearchCV\\ngb_tuned2 = RandomizedSearchCV(estimator=model, param_distributions=param_grid, n_iter=50, scoring=scorer, cv=5, random_state=1, n_jobs = -1)\\n\\n#Fitting parameters in RandomizedSearchCV\\ngb_tuned2.fit(X_train,y_train)\\n\\nprint(\\\"Best parameters are {} with CV score={}:\\\" .format(gb_tuned2.best_params_,gb_tuned2.best_score_))\";\n",
       "                var nbb_cells = Jupyter.notebook.get_cells();\n",
       "                for (var i = 0; i < nbb_cells.length; ++i) {\n",
       "                    if (nbb_cells[i].input_prompt_number == nbb_cell_id) {\n",
       "                        if (nbb_cells[i].get_text() == nbb_unformatted_code) {\n",
       "                             nbb_cells[i].set_text(nbb_formatted_code);\n",
       "                        }\n",
       "                        break;\n",
       "                    }\n",
       "                }\n",
       "            }, 500);\n",
       "            "
      ],
      "text/plain": [
       "<IPython.core.display.Javascript object>"
      ]
     },
     "metadata": {},
     "output_type": "display_data"
    }
   ],
   "source": [
    "%%time\n",
    "\n",
    "# defining model\n",
    "modelGB = GradientBoostingRegressor(random_state=1)\n",
    "\n",
    "# Parameter grid to pass in RandomizedSearchCV\n",
    "param_grid={'n_estimators':np.arange(50,150,50),\n",
    "            'scale_pos_weight':[2,5,10],\n",
    "            'learning_rate':[0.01,0.1,0.2,0.05],\n",
    "            'gamma':[0,1,3,5],\n",
    "            'subsample':[0.8,0.9,1],\n",
    "            'max_depth':np.arange(1,5,1),\n",
    "            'reg_lambda':[5,10]}\n",
    "\n",
    "# Type of scoring used to compare parameter combinations\n",
    "scorer = metrics.make_scorer(metrics.recall_score)\n",
    "\n",
    "#Calling RandomizedSearchCV\n",
    "gb_tuned2 = RandomizedSearchCV(estimator=model, param_distributions=param_grid, n_iter=50, scoring=scorer, cv=5, random_state=1, n_jobs = -1)\n",
    "\n",
    "#Fitting parameters in RandomizedSearchCV\n",
    "gb_tuned2.fit(X_train,y_train)\n",
    "\n",
    "print(\"Best parameters are {} with CV score={}:\" .format(gb_tuned2.best_params_,gb_tuned2.best_score_))"
   ]
  },
  {
   "cell_type": "code",
   "execution_count": 119,
   "id": "a8f20d89-3b0c-4ebc-8fac-b0bcf44ba75c",
   "metadata": {},
   "outputs": [
    {
     "data": {
      "text/plain": [
       "GradientBoostingRegressor(learning_rate=0.01, max_depth=1, random_state=1,\n",
       "                          subsample=0.1)"
      ]
     },
     "execution_count": 119,
     "metadata": {},
     "output_type": "execute_result"
    },
    {
     "data": {
      "application/javascript": [
       "\n",
       "            setTimeout(function() {\n",
       "                var nbb_cell_id = 119;\n",
       "                var nbb_unformatted_code = \"# building model with best parameters\\ngb_tuned2 = GradientBoostingRegressor(\\n    random_state=1,\\n    subsample= 0.1,\\n    n_estimators=100,\\n    max_depth=1,\\n    learning_rate=0.01,\\n)\\n\\n# Fit the model on training data\\ngb_tuned2.fit(X_train, y_train)\";\n",
       "                var nbb_formatted_code = \"# building model with best parameters\\ngb_tuned2 = GradientBoostingRegressor(\\n    random_state=1, subsample=0.1, n_estimators=100, max_depth=1, learning_rate=0.01,\\n)\\n\\n# Fit the model on training data\\ngb_tuned2.fit(X_train, y_train)\";\n",
       "                var nbb_cells = Jupyter.notebook.get_cells();\n",
       "                for (var i = 0; i < nbb_cells.length; ++i) {\n",
       "                    if (nbb_cells[i].input_prompt_number == nbb_cell_id) {\n",
       "                        if (nbb_cells[i].get_text() == nbb_unformatted_code) {\n",
       "                             nbb_cells[i].set_text(nbb_formatted_code);\n",
       "                        }\n",
       "                        break;\n",
       "                    }\n",
       "                }\n",
       "            }, 500);\n",
       "            "
      ],
      "text/plain": [
       "<IPython.core.display.Javascript object>"
      ]
     },
     "metadata": {},
     "output_type": "display_data"
    }
   ],
   "source": [
    "# building model with best parameters\n",
    "gb_tuned2 = GradientBoostingRegressor(\n",
    "    random_state=1, subsample=0.1, n_estimators=100, max_depth=1, learning_rate=0.01,\n",
    ")\n",
    "\n",
    "# Fit the model on training data\n",
    "gb_tuned2.fit(X_train, y_train)"
   ]
  },
  {
   "cell_type": "markdown",
   "id": "58cb8c70-e901-4bec-a135-5b2e61ac9753",
   "metadata": {},
   "source": [
    "- XGBoost has a high predictive rate so it will be chosen for the pipeline."
   ]
  },
  {
   "cell_type": "markdown",
   "id": "651846e7-654a-4244-b938-4af98e730dcb",
   "metadata": {},
   "source": [
    "### Pipeline"
   ]
  },
  {
   "cell_type": "code",
   "execution_count": 121,
   "id": "a598de67-a90a-43c1-ac71-2022320e32d5",
   "metadata": {},
   "outputs": [
    {
     "data": {
      "application/javascript": [
       "\n",
       "            setTimeout(function() {\n",
       "                var nbb_cell_id = 121;\n",
       "                var nbb_unformatted_code = \"# to create pipeline and make_pipeline\\nfrom sklearn.pipeline import Pipeline, make_pipeline\\n\\n# to use standard scaler\\nfrom sklearn.preprocessing import StandardScaler\";\n",
       "                var nbb_formatted_code = \"# to create pipeline and make_pipeline\\nfrom sklearn.pipeline import Pipeline, make_pipeline\\n\\n# to use standard scaler\\nfrom sklearn.preprocessing import StandardScaler\";\n",
       "                var nbb_cells = Jupyter.notebook.get_cells();\n",
       "                for (var i = 0; i < nbb_cells.length; ++i) {\n",
       "                    if (nbb_cells[i].input_prompt_number == nbb_cell_id) {\n",
       "                        if (nbb_cells[i].get_text() == nbb_unformatted_code) {\n",
       "                             nbb_cells[i].set_text(nbb_formatted_code);\n",
       "                        }\n",
       "                        break;\n",
       "                    }\n",
       "                }\n",
       "            }, 500);\n",
       "            "
      ],
      "text/plain": [
       "<IPython.core.display.Javascript object>"
      ]
     },
     "metadata": {},
     "output_type": "display_data"
    }
   ],
   "source": [
    "# to create pipeline and make_pipeline\n",
    "from sklearn.pipeline import Pipeline, make_pipeline\n",
    "\n",
    "# to use standard scaler\n",
    "from sklearn.preprocessing import StandardScaler\n"
   ]
  },
  {
   "cell_type": "code",
   "execution_count": 122,
   "id": "168b006b-d81f-4269-849d-81fe1ee33298",
   "metadata": {},
   "outputs": [
    {
     "data": {
      "application/javascript": [
       "\n",
       "            setTimeout(function() {\n",
       "                var nbb_cell_id = 122;\n",
       "                var nbb_unformatted_code = \"X = data.drop(columns=\\\"Attrition_Flag\\\")\\nX = pd.get_dummies(X)\\n\\ny = data[\\\"Attrition_Flag\\\"]\";\n",
       "                var nbb_formatted_code = \"X = data.drop(columns=\\\"Attrition_Flag\\\")\\nX = pd.get_dummies(X)\\n\\ny = data[\\\"Attrition_Flag\\\"]\";\n",
       "                var nbb_cells = Jupyter.notebook.get_cells();\n",
       "                for (var i = 0; i < nbb_cells.length; ++i) {\n",
       "                    if (nbb_cells[i].input_prompt_number == nbb_cell_id) {\n",
       "                        if (nbb_cells[i].get_text() == nbb_unformatted_code) {\n",
       "                             nbb_cells[i].set_text(nbb_formatted_code);\n",
       "                        }\n",
       "                        break;\n",
       "                    }\n",
       "                }\n",
       "            }, 500);\n",
       "            "
      ],
      "text/plain": [
       "<IPython.core.display.Javascript object>"
      ]
     },
     "metadata": {},
     "output_type": "display_data"
    }
   ],
   "source": [
    "X = data.drop(columns=\"Attrition_Flag\")\n",
    "X = pd.get_dummies(X)\n",
    "\n",
    "y = data[\"Attrition_Flag\"]"
   ]
  },
  {
   "cell_type": "code",
   "execution_count": 123,
   "id": "42ff5814-262d-46d5-92f0-9221ba4637e5",
   "metadata": {},
   "outputs": [
    {
     "name": "stdout",
     "output_type": "stream",
     "text": [
      "(4531, 35) (1133, 35) (1417, 35)\n"
     ]
    },
    {
     "data": {
      "application/javascript": [
       "\n",
       "            setTimeout(function() {\n",
       "                var nbb_cell_id = 123;\n",
       "                var nbb_unformatted_code = \"# Splitting data into training, validation and test set:\\n\\n# first we split data into 2 parts, say temporary and test\\nX_temp, X_test, y_temp, y_test = train_test_split(\\n    X, y, test_size=0.2, random_state=5, stratify=y\\n)\\n\\n# then we split the temporary set into train and validation\\nX_train, X_val, y_train, y_val = train_test_split(\\n    X_temp, y_temp, test_size=0.2, random_state=5, stratify=y_temp\\n)\\n\\nprint(X_train.shape, X_val.shape, X_test.shape)\";\n",
       "                var nbb_formatted_code = \"# Splitting data into training, validation and test set:\\n\\n# first we split data into 2 parts, say temporary and test\\nX_temp, X_test, y_temp, y_test = train_test_split(\\n    X, y, test_size=0.2, random_state=5, stratify=y\\n)\\n\\n# then we split the temporary set into train and validation\\nX_train, X_val, y_train, y_val = train_test_split(\\n    X_temp, y_temp, test_size=0.2, random_state=5, stratify=y_temp\\n)\\n\\nprint(X_train.shape, X_val.shape, X_test.shape)\";\n",
       "                var nbb_cells = Jupyter.notebook.get_cells();\n",
       "                for (var i = 0; i < nbb_cells.length; ++i) {\n",
       "                    if (nbb_cells[i].input_prompt_number == nbb_cell_id) {\n",
       "                        if (nbb_cells[i].get_text() == nbb_unformatted_code) {\n",
       "                             nbb_cells[i].set_text(nbb_formatted_code);\n",
       "                        }\n",
       "                        break;\n",
       "                    }\n",
       "                }\n",
       "            }, 500);\n",
       "            "
      ],
      "text/plain": [
       "<IPython.core.display.Javascript object>"
      ]
     },
     "metadata": {},
     "output_type": "display_data"
    }
   ],
   "source": [
    "# Splitting data into training, validation and test set:\n",
    "\n",
    "# first we split data into 2 parts, say temporary and test\n",
    "X_temp, X_test, y_temp, y_test = train_test_split(\n",
    "    X, y, test_size=0.2, random_state=5, stratify=y\n",
    ")\n",
    "\n",
    "# then we split the temporary set into train and validation\n",
    "X_train, X_val, y_train, y_val = train_test_split(\n",
    "    X_temp, y_temp, test_size=0.2, random_state=5, stratify=y_temp\n",
    ")\n",
    "\n",
    "print(X_train.shape, X_val.shape, X_test.shape)"
   ]
  },
  {
   "cell_type": "code",
   "execution_count": 124,
   "id": "3f706cc4-805c-470f-b190-f54d29cf15aa",
   "metadata": {},
   "outputs": [
    {
     "data": {
      "application/javascript": [
       "\n",
       "            setTimeout(function() {\n",
       "                var nbb_cell_id = 124;\n",
       "                var nbb_unformatted_code = \"# pipeline takes a list of tuples as parameter. The last entry is the call to the modeling algorithm\\npipeline = Pipeline([\\n    ('scaler',StandardScaler()),\\n    ('clf', XGBClassifier())\\n])\\n\\n# \\\"scaler\\\" is the name assigned to StandardScaler\\n# \\\"clf\\\" is the name assigned to LogisticRegression\";\n",
       "                var nbb_formatted_code = \"# pipeline takes a list of tuples as parameter. The last entry is the call to the modeling algorithm\\npipeline = Pipeline([(\\\"scaler\\\", StandardScaler()), (\\\"clf\\\", XGBClassifier())])\\n\\n# \\\"scaler\\\" is the name assigned to StandardScaler\\n# \\\"clf\\\" is the name assigned to LogisticRegression\";\n",
       "                var nbb_cells = Jupyter.notebook.get_cells();\n",
       "                for (var i = 0; i < nbb_cells.length; ++i) {\n",
       "                    if (nbb_cells[i].input_prompt_number == nbb_cell_id) {\n",
       "                        if (nbb_cells[i].get_text() == nbb_unformatted_code) {\n",
       "                             nbb_cells[i].set_text(nbb_formatted_code);\n",
       "                        }\n",
       "                        break;\n",
       "                    }\n",
       "                }\n",
       "            }, 500);\n",
       "            "
      ],
      "text/plain": [
       "<IPython.core.display.Javascript object>"
      ]
     },
     "metadata": {},
     "output_type": "display_data"
    }
   ],
   "source": [
    "# pipeline takes a list of tuples as parameter. The last entry is the call to the modeling algorithm\n",
    "pipeline = Pipeline([\n",
    "    ('scaler',StandardScaler()),\n",
    "    ('clf', XGBClassifier())\n",
    "])\n",
    "\n",
    "# \"scaler\" is the name assigned to StandardScaler\n",
    "# \"clf\" is the name assigned to XGBClassifier"
   ]
  },
  {
   "cell_type": "code",
   "execution_count": 125,
   "id": "2f0225d5-2faf-43b3-931a-15ff3e310b46",
   "metadata": {},
   "outputs": [
    {
     "data": {
      "text/plain": [
       "StandardScaler()"
      ]
     },
     "execution_count": 125,
     "metadata": {},
     "output_type": "execute_result"
    },
    {
     "data": {
      "application/javascript": [
       "\n",
       "            setTimeout(function() {\n",
       "                var nbb_cell_id = 125;\n",
       "                var nbb_unformatted_code = \"# Any element of the pipeline can be called later using the assigned name\\npipeline['scaler'].fit(X_train)\";\n",
       "                var nbb_formatted_code = \"# Any element of the pipeline can be called later using the assigned name\\npipeline[\\\"scaler\\\"].fit(X_train)\";\n",
       "                var nbb_cells = Jupyter.notebook.get_cells();\n",
       "                for (var i = 0; i < nbb_cells.length; ++i) {\n",
       "                    if (nbb_cells[i].input_prompt_number == nbb_cell_id) {\n",
       "                        if (nbb_cells[i].get_text() == nbb_unformatted_code) {\n",
       "                             nbb_cells[i].set_text(nbb_formatted_code);\n",
       "                        }\n",
       "                        break;\n",
       "                    }\n",
       "                }\n",
       "            }, 500);\n",
       "            "
      ],
      "text/plain": [
       "<IPython.core.display.Javascript object>"
      ]
     },
     "metadata": {},
     "output_type": "display_data"
    }
   ],
   "source": [
    "# Any element of the pipeline can be called later using the assigned name\n",
    "pipeline[\"scaler\"].fit(X_train)"
   ]
  },
  {
   "cell_type": "code",
   "execution_count": 126,
   "id": "e6735868-b2be-4a56-8b5b-60abe56dd920",
   "metadata": {},
   "outputs": [
    {
     "name": "stdout",
     "output_type": "stream",
     "text": [
      "[02:03:16] WARNING: ..\\src\\learner.cc:1115: Starting in XGBoost 1.3.0, the default evaluation metric used with the objective 'binary:logistic' was changed from 'error' to 'logloss'. Explicitly set eval_metric if you'd like to restore the old behavior.\n"
     ]
    },
    {
     "data": {
      "text/plain": [
       "Pipeline(steps=[('scaler', StandardScaler()),\n",
       "                ('clf',\n",
       "                 XGBClassifier(base_score=0.5, booster='gbtree',\n",
       "                               colsample_bylevel=1, colsample_bynode=1,\n",
       "                               colsample_bytree=1, enable_categorical=False,\n",
       "                               gamma=0, gpu_id=-1, importance_type=None,\n",
       "                               interaction_constraints='',\n",
       "                               learning_rate=0.300000012, max_delta_step=0,\n",
       "                               max_depth=6, min_child_weight=1, missing=nan,\n",
       "                               monotone_constraints='()', n_estimators=100,\n",
       "                               n_jobs=16, num_parallel_tree=1, predictor='auto',\n",
       "                               random_state=0, reg_alpha=0, reg_lambda=1,\n",
       "                               scale_pos_weight=1, subsample=1,\n",
       "                               tree_method='exact', validate_parameters=1,\n",
       "                               verbosity=None))])"
      ]
     },
     "execution_count": 126,
     "metadata": {},
     "output_type": "execute_result"
    },
    {
     "data": {
      "application/javascript": [
       "\n",
       "            setTimeout(function() {\n",
       "                var nbb_cell_id = 126;\n",
       "                var nbb_unformatted_code = \"# now the pipeline object can be used as a normal classifier\\npipeline.fit(X_train,y_train)\";\n",
       "                var nbb_formatted_code = \"# now the pipeline object can be used as a normal classifier\\npipeline.fit(X_train, y_train)\";\n",
       "                var nbb_cells = Jupyter.notebook.get_cells();\n",
       "                for (var i = 0; i < nbb_cells.length; ++i) {\n",
       "                    if (nbb_cells[i].input_prompt_number == nbb_cell_id) {\n",
       "                        if (nbb_cells[i].get_text() == nbb_unformatted_code) {\n",
       "                             nbb_cells[i].set_text(nbb_formatted_code);\n",
       "                        }\n",
       "                        break;\n",
       "                    }\n",
       "                }\n",
       "            }, 500);\n",
       "            "
      ],
      "text/plain": [
       "<IPython.core.display.Javascript object>"
      ]
     },
     "metadata": {},
     "output_type": "display_data"
    }
   ],
   "source": [
    "# now the pipeline object can be used as a normal classifier\n",
    "pipeline.fit(X_train, y_train)"
   ]
  },
  {
   "cell_type": "code",
   "execution_count": 127,
   "id": "fcd1684c-b1b3-4870-9032-e4780b8164e6",
   "metadata": {},
   "outputs": [
    {
     "data": {
      "text/plain": [
       "1.0"
      ]
     },
     "execution_count": 127,
     "metadata": {},
     "output_type": "execute_result"
    },
    {
     "data": {
      "application/javascript": [
       "\n",
       "            setTimeout(function() {\n",
       "                var nbb_cell_id = 127;\n",
       "                var nbb_unformatted_code = \"# pipeline object's accuracy on the train set\\npipeline.score(X_train, y_train)\";\n",
       "                var nbb_formatted_code = \"# pipeline object's accuracy on the train set\\npipeline.score(X_train, y_train)\";\n",
       "                var nbb_cells = Jupyter.notebook.get_cells();\n",
       "                for (var i = 0; i < nbb_cells.length; ++i) {\n",
       "                    if (nbb_cells[i].input_prompt_number == nbb_cell_id) {\n",
       "                        if (nbb_cells[i].get_text() == nbb_unformatted_code) {\n",
       "                             nbb_cells[i].set_text(nbb_formatted_code);\n",
       "                        }\n",
       "                        break;\n",
       "                    }\n",
       "                }\n",
       "            }, 500);\n",
       "            "
      ],
      "text/plain": [
       "<IPython.core.display.Javascript object>"
      ]
     },
     "metadata": {},
     "output_type": "display_data"
    }
   ],
   "source": [
    "# pipeline object's accuracy on the train set\n",
    "pipeline.score(X_train, y_train)"
   ]
  },
  {
   "cell_type": "code",
   "execution_count": 128,
   "id": "cb3d28ee-5498-44eb-bdc7-4c49fbd4686b",
   "metadata": {},
   "outputs": [
    {
     "data": {
      "text/plain": [
       "0.9682259488084731"
      ]
     },
     "execution_count": 128,
     "metadata": {},
     "output_type": "execute_result"
    },
    {
     "data": {
      "application/javascript": [
       "\n",
       "            setTimeout(function() {\n",
       "                var nbb_cell_id = 128;\n",
       "                var nbb_unformatted_code = \"# pipeline object's accuracy on the test set\\npipeline.score(X_val, y_val)\";\n",
       "                var nbb_formatted_code = \"# pipeline object's accuracy on the test set\\npipeline.score(X_val, y_val)\";\n",
       "                var nbb_cells = Jupyter.notebook.get_cells();\n",
       "                for (var i = 0; i < nbb_cells.length; ++i) {\n",
       "                    if (nbb_cells[i].input_prompt_number == nbb_cell_id) {\n",
       "                        if (nbb_cells[i].get_text() == nbb_unformatted_code) {\n",
       "                             nbb_cells[i].set_text(nbb_formatted_code);\n",
       "                        }\n",
       "                        break;\n",
       "                    }\n",
       "                }\n",
       "            }, 500);\n",
       "            "
      ],
      "text/plain": [
       "<IPython.core.display.Javascript object>"
      ]
     },
     "metadata": {},
     "output_type": "display_data"
    }
   ],
   "source": [
    "# pipeline object's accuracy on the test set\n",
    "pipeline.score(X_val, y_val)"
   ]
  },
  {
   "cell_type": "code",
   "execution_count": 129,
   "id": "27b1a7b7-c0aa-4d8b-b1f4-75a4cfb4cbfc",
   "metadata": {},
   "outputs": [
    {
     "data": {
      "application/javascript": [
       "\n",
       "            setTimeout(function() {\n",
       "                var nbb_cell_id = 129;\n",
       "                var nbb_unformatted_code = \"# defining pipe using make_pipeline\\npipe = make_pipeline(StandardScaler(), (XGBClassifier()))\";\n",
       "                var nbb_formatted_code = \"# defining pipe using make_pipeline\\npipe = make_pipeline(StandardScaler(), (XGBClassifier()))\";\n",
       "                var nbb_cells = Jupyter.notebook.get_cells();\n",
       "                for (var i = 0; i < nbb_cells.length; ++i) {\n",
       "                    if (nbb_cells[i].input_prompt_number == nbb_cell_id) {\n",
       "                        if (nbb_cells[i].get_text() == nbb_unformatted_code) {\n",
       "                             nbb_cells[i].set_text(nbb_formatted_code);\n",
       "                        }\n",
       "                        break;\n",
       "                    }\n",
       "                }\n",
       "            }, 500);\n",
       "            "
      ],
      "text/plain": [
       "<IPython.core.display.Javascript object>"
      ]
     },
     "metadata": {},
     "output_type": "display_data"
    }
   ],
   "source": [
    "# defining pipe using make_pipeline\n",
    "pipe = make_pipeline(StandardScaler(), (XGBClassifier()))"
   ]
  },
  {
   "cell_type": "code",
   "execution_count": 130,
   "id": "63940367-1244-4d91-9961-d2104ed3057a",
   "metadata": {},
   "outputs": [
    {
     "data": {
      "text/plain": [
       "[('standardscaler', StandardScaler()),\n",
       " ('xgbclassifier',\n",
       "  XGBClassifier(base_score=None, booster=None, colsample_bylevel=None,\n",
       "                colsample_bynode=None, colsample_bytree=None,\n",
       "                enable_categorical=False, gamma=None, gpu_id=None,\n",
       "                importance_type=None, interaction_constraints=None,\n",
       "                learning_rate=None, max_delta_step=None, max_depth=None,\n",
       "                min_child_weight=None, missing=nan, monotone_constraints=None,\n",
       "                n_estimators=100, n_jobs=None, num_parallel_tree=None,\n",
       "                predictor=None, random_state=None, reg_alpha=None,\n",
       "                reg_lambda=None, scale_pos_weight=None, subsample=None,\n",
       "                tree_method=None, validate_parameters=None, verbosity=None))]"
      ]
     },
     "execution_count": 130,
     "metadata": {},
     "output_type": "execute_result"
    },
    {
     "data": {
      "application/javascript": [
       "\n",
       "            setTimeout(function() {\n",
       "                var nbb_cell_id = 130;\n",
       "                var nbb_unformatted_code = \"# we can see that make_pipeline itself assigned names to all the objects\\npipe.steps\";\n",
       "                var nbb_formatted_code = \"# we can see that make_pipeline itself assigned names to all the objects\\npipe.steps\";\n",
       "                var nbb_cells = Jupyter.notebook.get_cells();\n",
       "                for (var i = 0; i < nbb_cells.length; ++i) {\n",
       "                    if (nbb_cells[i].input_prompt_number == nbb_cell_id) {\n",
       "                        if (nbb_cells[i].get_text() == nbb_unformatted_code) {\n",
       "                             nbb_cells[i].set_text(nbb_formatted_code);\n",
       "                        }\n",
       "                        break;\n",
       "                    }\n",
       "                }\n",
       "            }, 500);\n",
       "            "
      ],
      "text/plain": [
       "<IPython.core.display.Javascript object>"
      ]
     },
     "metadata": {},
     "output_type": "display_data"
    }
   ],
   "source": [
    "# we can see that make_pipeline itself assigned names to all the objects\n",
    "pipe.steps"
   ]
  },
  {
   "cell_type": "code",
   "execution_count": 131,
   "id": "9ff9bcd4-a5f5-4e82-9152-9c8cec0b1d4b",
   "metadata": {},
   "outputs": [
    {
     "name": "stdout",
     "output_type": "stream",
     "text": [
      "[02:03:19] WARNING: ..\\src\\learner.cc:1115: Starting in XGBoost 1.3.0, the default evaluation metric used with the objective 'binary:logistic' was changed from 'error' to 'logloss'. Explicitly set eval_metric if you'd like to restore the old behavior.\n"
     ]
    },
    {
     "data": {
      "text/plain": [
       "Pipeline(steps=[('standardscaler', StandardScaler()),\n",
       "                ('xgbclassifier',\n",
       "                 XGBClassifier(base_score=0.5, booster='gbtree',\n",
       "                               colsample_bylevel=1, colsample_bynode=1,\n",
       "                               colsample_bytree=1, enable_categorical=False,\n",
       "                               gamma=0, gpu_id=-1, importance_type=None,\n",
       "                               interaction_constraints='',\n",
       "                               learning_rate=0.300000012, max_delta_step=0,\n",
       "                               max_depth=6, min_child_weight=1, missing=nan,\n",
       "                               monotone_constraints='()', n_estimators=100,\n",
       "                               n_jobs=16, num_parallel_tree=1, predictor='auto',\n",
       "                               random_state=0, reg_alpha=0, reg_lambda=1,\n",
       "                               scale_pos_weight=1, subsample=1,\n",
       "                               tree_method='exact', validate_parameters=1,\n",
       "                               verbosity=None))])"
      ]
     },
     "execution_count": 131,
     "metadata": {},
     "output_type": "execute_result"
    },
    {
     "data": {
      "application/javascript": [
       "\n",
       "            setTimeout(function() {\n",
       "                var nbb_cell_id = 131;\n",
       "                var nbb_unformatted_code = \"# now you can use the pipe object as a normal classifier\\npipe.fit(X_train,y_train)\";\n",
       "                var nbb_formatted_code = \"# now you can use the pipe object as a normal classifier\\npipe.fit(X_train, y_train)\";\n",
       "                var nbb_cells = Jupyter.notebook.get_cells();\n",
       "                for (var i = 0; i < nbb_cells.length; ++i) {\n",
       "                    if (nbb_cells[i].input_prompt_number == nbb_cell_id) {\n",
       "                        if (nbb_cells[i].get_text() == nbb_unformatted_code) {\n",
       "                             nbb_cells[i].set_text(nbb_formatted_code);\n",
       "                        }\n",
       "                        break;\n",
       "                    }\n",
       "                }\n",
       "            }, 500);\n",
       "            "
      ],
      "text/plain": [
       "<IPython.core.display.Javascript object>"
      ]
     },
     "metadata": {},
     "output_type": "display_data"
    }
   ],
   "source": [
    "# now you can use the pipe object as a normal classifier\n",
    "pipe.fit(X_train, y_train)"
   ]
  },
  {
   "cell_type": "code",
   "execution_count": 132,
   "id": "dff6db2f-5400-4d0f-9056-1a43a8d8c714",
   "metadata": {},
   "outputs": [
    {
     "data": {
      "text/plain": [
       "1.0"
      ]
     },
     "execution_count": 132,
     "metadata": {},
     "output_type": "execute_result"
    },
    {
     "data": {
      "application/javascript": [
       "\n",
       "            setTimeout(function() {\n",
       "                var nbb_cell_id = 132;\n",
       "                var nbb_unformatted_code = \"# pipe object's accuracy on the train set\\npipe.score(X_train, y_train)\";\n",
       "                var nbb_formatted_code = \"# pipe object's accuracy on the train set\\npipe.score(X_train, y_train)\";\n",
       "                var nbb_cells = Jupyter.notebook.get_cells();\n",
       "                for (var i = 0; i < nbb_cells.length; ++i) {\n",
       "                    if (nbb_cells[i].input_prompt_number == nbb_cell_id) {\n",
       "                        if (nbb_cells[i].get_text() == nbb_unformatted_code) {\n",
       "                             nbb_cells[i].set_text(nbb_formatted_code);\n",
       "                        }\n",
       "                        break;\n",
       "                    }\n",
       "                }\n",
       "            }, 500);\n",
       "            "
      ],
      "text/plain": [
       "<IPython.core.display.Javascript object>"
      ]
     },
     "metadata": {},
     "output_type": "display_data"
    }
   ],
   "source": [
    "# pipe object's accuracy on the train set\n",
    "pipe.score(X_train, y_train)"
   ]
  },
  {
   "cell_type": "code",
   "execution_count": 133,
   "id": "1ef3b932-caa5-4ad2-ba2e-71e379c145c9",
   "metadata": {},
   "outputs": [
    {
     "data": {
      "text/plain": [
       "0.9654199011997178"
      ]
     },
     "execution_count": 133,
     "metadata": {},
     "output_type": "execute_result"
    },
    {
     "data": {
      "application/javascript": [
       "\n",
       "            setTimeout(function() {\n",
       "                var nbb_cell_id = 133;\n",
       "                var nbb_unformatted_code = \"# pipe object's accuracy on the test set\\npipe.score(X_test, y_test)\";\n",
       "                var nbb_formatted_code = \"# pipe object's accuracy on the test set\\npipe.score(X_test, y_test)\";\n",
       "                var nbb_cells = Jupyter.notebook.get_cells();\n",
       "                for (var i = 0; i < nbb_cells.length; ++i) {\n",
       "                    if (nbb_cells[i].input_prompt_number == nbb_cell_id) {\n",
       "                        if (nbb_cells[i].get_text() == nbb_unformatted_code) {\n",
       "                             nbb_cells[i].set_text(nbb_formatted_code);\n",
       "                        }\n",
       "                        break;\n",
       "                    }\n",
       "                }\n",
       "            }, 500);\n",
       "            "
      ],
      "text/plain": [
       "<IPython.core.display.Javascript object>"
      ]
     },
     "metadata": {},
     "output_type": "display_data"
    }
   ],
   "source": [
    "# pipe object's accuracy on the test set\n",
    "pipe.score(X_test, y_test)"
   ]
  },
  {
   "cell_type": "markdown",
   "id": "5a64004c-4191-4241-9f9c-4fe3dbb0cd09",
   "metadata": {},
   "source": [
    "### Conclusion"
   ]
  },
  {
   "cell_type": "markdown",
   "id": "cc3f09c2-f31e-4dae-bcdb-419a9b8aec38",
   "metadata": {},
   "source": [
    "XGBoost model performance is excelant. "
   ]
  }
 ],
 "metadata": {
  "kernelspec": {
   "display_name": "Python 3",
   "language": "python",
   "name": "python3"
  },
  "language_info": {
   "codemirror_mode": {
    "name": "ipython",
    "version": 3
   },
   "file_extension": ".py",
   "mimetype": "text/x-python",
   "name": "python",
   "nbconvert_exporter": "python",
   "pygments_lexer": "ipython3",
   "version": "3.8.8"
  },
  "toc-autonumbering": false,
  "toc-showcode": false,
  "toc-showmarkdowntxt": true,
  "toc-showtags": false
 },
 "nbformat": 4,
 "nbformat_minor": 5
}
